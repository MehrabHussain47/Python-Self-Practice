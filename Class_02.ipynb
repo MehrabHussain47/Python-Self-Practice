{
  "nbformat": 4,
  "nbformat_minor": 0,
  "metadata": {
    "colab": {
      "provenance": [],
      "authorship_tag": "ABX9TyMsVzzBpgh/vntZNGnwP79P",
      "include_colab_link": true
    },
    "kernelspec": {
      "name": "python3",
      "display_name": "Python 3"
    },
    "language_info": {
      "name": "python"
    }
  },
  "cells": [
    {
      "cell_type": "markdown",
      "metadata": {
        "id": "view-in-github",
        "colab_type": "text"
      },
      "source": [
        "<a href=\"https://colab.research.google.com/github/MehrabHussain47/Python-Self-Practice/blob/master/Class_02.ipynb\" target=\"_parent\"><img src=\"https://colab.research.google.com/assets/colab-badge.svg\" alt=\"Open In Colab\"/></a>"
      ]
    },
    {
      "cell_type": "markdown",
      "source": [
        "# Input\n",
        "<p><ol><li>input() always returns a string (convert if needed).</li>\n",
        "<li>Use .split() for multiple inputs.</li></ol></p>"
      ],
      "metadata": {
        "id": "T-nLIKRTZY-1"
      }
    },
    {
      "cell_type": "code",
      "execution_count": null,
      "metadata": {
        "colab": {
          "base_uri": "https://localhost:8080/"
        },
        "id": "ugZLOslU9cyq",
        "outputId": "c13a975f-84df-4480-b1ad-32e562834059"
      },
      "outputs": [
        {
          "output_type": "stream",
          "name": "stdout",
          "text": [
            "Enter your name: Sumon\n",
            "Hello, Sumon!\n"
          ]
        }
      ],
      "source": [
        "input_ = input(\"Enter your name: \")\n",
        "print(\"Hello, \"+ input_ + \"!\")"
      ]
    },
    {
      "cell_type": "code",
      "source": [
        "age = int(input(\"Enter your age: \"))\n",
        "print(\"You are \" + age + \" years old.\")"
      ],
      "metadata": {
        "colab": {
          "base_uri": "https://localhost:8080/",
          "height": 176
        },
        "id": "ZKr_EaDdbFI8",
        "outputId": "6ee008e5-af20-4b2f-dc3a-656848fcc13d"
      },
      "execution_count": null,
      "outputs": [
        {
          "name": "stdout",
          "output_type": "stream",
          "text": [
            "Enter your age: 30\n"
          ]
        },
        {
          "output_type": "error",
          "ename": "TypeError",
          "evalue": "can only concatenate str (not \"int\") to str",
          "traceback": [
            "\u001b[0;31m---------------------------------------------------------------------------\u001b[0m",
            "\u001b[0;31mTypeError\u001b[0m                                 Traceback (most recent call last)",
            "\u001b[0;32m<ipython-input-17-42dcf36e1533>\u001b[0m in \u001b[0;36m<cell line: 0>\u001b[0;34m()\u001b[0m\n\u001b[1;32m      1\u001b[0m \u001b[0mage\u001b[0m \u001b[0;34m=\u001b[0m \u001b[0mint\u001b[0m\u001b[0;34m(\u001b[0m\u001b[0minput\u001b[0m\u001b[0;34m(\u001b[0m\u001b[0;34m\"Enter your age: \"\u001b[0m\u001b[0;34m)\u001b[0m\u001b[0;34m)\u001b[0m\u001b[0;34m\u001b[0m\u001b[0;34m\u001b[0m\u001b[0m\n\u001b[0;32m----> 2\u001b[0;31m \u001b[0mprint\u001b[0m\u001b[0;34m(\u001b[0m\u001b[0;34m\"You are \"\u001b[0m \u001b[0;34m+\u001b[0m \u001b[0mage\u001b[0m \u001b[0;34m+\u001b[0m \u001b[0;34m\" years old.\"\u001b[0m\u001b[0;34m)\u001b[0m\u001b[0;34m\u001b[0m\u001b[0;34m\u001b[0m\u001b[0m\n\u001b[0m",
            "\u001b[0;31mTypeError\u001b[0m: can only concatenate str (not \"int\") to str"
          ]
        }
      ]
    },
    {
      "cell_type": "code",
      "source": [
        "age = int(input(\"Enter your age: \")) # Converts input to an integer\n",
        "print(\"You are\", age, \"years old.\")"
      ],
      "metadata": {
        "colab": {
          "base_uri": "https://localhost:8080/"
        },
        "id": "_rERrXrPYLDE",
        "outputId": "39070d62-8a34-4b80-cc16-921410ceefdb"
      },
      "execution_count": null,
      "outputs": [
        {
          "output_type": "stream",
          "name": "stdout",
          "text": [
            "Enter your age: 30\n",
            "You are 30 years old.\n"
          ]
        }
      ]
    },
    {
      "cell_type": "code",
      "source": [
        "age = int(input(\"Enter your age: \"))\n",
        "print(\"You are \" + str(age) + \" years old.\")"
      ],
      "metadata": {
        "colab": {
          "base_uri": "https://localhost:8080/"
        },
        "id": "3fmS4x2MY7Xi",
        "outputId": "5f9ef912-68d3-40fb-8572-b2b3f6e40429"
      },
      "execution_count": null,
      "outputs": [
        {
          "output_type": "stream",
          "name": "stdout",
          "text": [
            "Enter your age: 50\n",
            "You are 50 years old.\n"
          ]
        }
      ]
    },
    {
      "cell_type": "code",
      "source": [
        "height = float(input(\"Enter your height in meters: \"))\n",
        "print(\"Your height is:\", height, \"m\")"
      ],
      "metadata": {
        "colab": {
          "base_uri": "https://localhost:8080/"
        },
        "id": "i2O0WqnOajIt",
        "outputId": "19a7665a-d7f2-43a5-c86a-06b29ea1b61f"
      },
      "execution_count": null,
      "outputs": [
        {
          "output_type": "stream",
          "name": "stdout",
          "text": [
            "Enter your height in meters: 4.3\n",
            "Your height is: 4.3 m\n"
          ]
        }
      ]
    },
    {
      "cell_type": "code",
      "source": [
        "number1, number2 = 10, 20"
      ],
      "metadata": {
        "id": "2dDGEmYFa-Ja"
      },
      "execution_count": null,
      "outputs": []
    },
    {
      "cell_type": "code",
      "source": [
        "number1"
      ],
      "metadata": {
        "colab": {
          "base_uri": "https://localhost:8080/"
        },
        "id": "gWY_nJ_MbbEi",
        "outputId": "149fadeb-89fa-483d-82bc-c3a8aee25bf1"
      },
      "execution_count": null,
      "outputs": [
        {
          "output_type": "execute_result",
          "data": {
            "text/plain": [
              "10"
            ]
          },
          "metadata": {},
          "execution_count": 20
        }
      ]
    },
    {
      "cell_type": "code",
      "source": [
        "number2"
      ],
      "metadata": {
        "colab": {
          "base_uri": "https://localhost:8080/"
        },
        "id": "q_WNNnkrbdjq",
        "outputId": "82440bd0-b349-4ae3-c649-538fd71b4bf3"
      },
      "execution_count": null,
      "outputs": [
        {
          "output_type": "execute_result",
          "data": {
            "text/plain": [
              "20"
            ]
          },
          "metadata": {},
          "execution_count": 21
        }
      ]
    },
    {
      "cell_type": "code",
      "source": [
        "input(\"Enter two numbers: \")"
      ],
      "metadata": {
        "colab": {
          "base_uri": "https://localhost:8080/",
          "height": 53
        },
        "id": "7497pYaCbxd6",
        "outputId": "d35ecd06-03f7-4a27-a630-376925bd88ce"
      },
      "execution_count": null,
      "outputs": [
        {
          "name": "stdout",
          "output_type": "stream",
          "text": [
            "Enter two numbers: 10 20\n"
          ]
        },
        {
          "output_type": "execute_result",
          "data": {
            "text/plain": [
              "'10 20'"
            ],
            "application/vnd.google.colaboratory.intrinsic+json": {
              "type": "string"
            }
          },
          "metadata": {},
          "execution_count": 24
        }
      ]
    },
    {
      "cell_type": "code",
      "source": [
        "number1, number2 = input(\"Enter two numbers: \").split()"
      ],
      "metadata": {
        "colab": {
          "base_uri": "https://localhost:8080/"
        },
        "id": "mQF5eBqUb9py",
        "outputId": "e512fb9d-b49d-4d1a-9b79-961059af7cad"
      },
      "execution_count": null,
      "outputs": [
        {
          "name": "stdout",
          "output_type": "stream",
          "text": [
            "Enter two numbers: 10 20\n"
          ]
        }
      ]
    },
    {
      "cell_type": "code",
      "source": [
        "'10 20'.split()"
      ],
      "metadata": {
        "colab": {
          "base_uri": "https://localhost:8080/"
        },
        "id": "4ximL1dmcn3i",
        "outputId": "f4536da5-30cf-499c-dfd1-5038adb92f04"
      },
      "execution_count": null,
      "outputs": [
        {
          "output_type": "execute_result",
          "data": {
            "text/plain": [
              "['10', '20']"
            ]
          },
          "metadata": {},
          "execution_count": 26
        }
      ]
    },
    {
      "cell_type": "code",
      "source": [
        "number1"
      ],
      "metadata": {
        "colab": {
          "base_uri": "https://localhost:8080/",
          "height": 36
        },
        "id": "smIiRSj3cw5u",
        "outputId": "5deed84f-660d-4ad6-8ae6-aaac9e27be7c"
      },
      "execution_count": null,
      "outputs": [
        {
          "output_type": "execute_result",
          "data": {
            "text/plain": [
              "'10'"
            ],
            "application/vnd.google.colaboratory.intrinsic+json": {
              "type": "string"
            }
          },
          "metadata": {},
          "execution_count": 27
        }
      ]
    },
    {
      "cell_type": "code",
      "source": [
        "number2"
      ],
      "metadata": {
        "colab": {
          "base_uri": "https://localhost:8080/",
          "height": 36
        },
        "id": "ooBeIq_tdAGY",
        "outputId": "2bb49bc1-aaa3-4341-96bc-20fcd86a6efa"
      },
      "execution_count": null,
      "outputs": [
        {
          "output_type": "execute_result",
          "data": {
            "text/plain": [
              "'20'"
            ],
            "application/vnd.google.colaboratory.intrinsic+json": {
              "type": "string"
            }
          },
          "metadata": {},
          "execution_count": 28
        }
      ]
    },
    {
      "cell_type": "code",
      "source": [
        "number1 + number2"
      ],
      "metadata": {
        "colab": {
          "base_uri": "https://localhost:8080/",
          "height": 36
        },
        "id": "Sxg7AMiBdBXh",
        "outputId": "04ce3eef-d2e7-49fb-d4f8-7172d68e61b7"
      },
      "execution_count": null,
      "outputs": [
        {
          "output_type": "execute_result",
          "data": {
            "text/plain": [
              "'1020'"
            ],
            "application/vnd.google.colaboratory.intrinsic+json": {
              "type": "string"
            }
          },
          "metadata": {},
          "execution_count": 29
        }
      ]
    },
    {
      "cell_type": "code",
      "source": [
        "int(number1) + int(number2)"
      ],
      "metadata": {
        "colab": {
          "base_uri": "https://localhost:8080/"
        },
        "id": "EjpN8hxudF5x",
        "outputId": "6e584eb7-00ea-46a5-d55c-3f5b75268fcd"
      },
      "execution_count": null,
      "outputs": [
        {
          "output_type": "execute_result",
          "data": {
            "text/plain": [
              "30"
            ]
          },
          "metadata": {},
          "execution_count": 30
        }
      ]
    },
    {
      "cell_type": "code",
      "source": [
        "number1, number2 = input(\"Enter two numbers: \").split(\",\")"
      ],
      "metadata": {
        "colab": {
          "base_uri": "https://localhost:8080/"
        },
        "id": "4w_17P8gdSUB",
        "outputId": "dd544900-fa1c-4658-aec4-3ded3c5710da"
      },
      "execution_count": null,
      "outputs": [
        {
          "name": "stdout",
          "output_type": "stream",
          "text": [
            "Enter two numbers: 10,20\n"
          ]
        }
      ]
    },
    {
      "cell_type": "code",
      "source": [
        "# Multiple Inputs in One Line\n",
        "a, b = input(\"Enter two numbers: \").split() # Splits input by spaces\n",
        "a, b = int(a), int(b) # Convert to integers\n",
        "print(\"Sum:\", a + b)"
      ],
      "metadata": {
        "colab": {
          "base_uri": "https://localhost:8080/"
        },
        "id": "8ejregE3kCpw",
        "outputId": "4965e394-ead2-436d-cbdd-c42462b03e98"
      },
      "execution_count": null,
      "outputs": [
        {
          "output_type": "stream",
          "name": "stdout",
          "text": [
            "Enter two numbers: 10 20\n",
            "Sum: 30\n"
          ]
        }
      ]
    },
    {
      "cell_type": "code",
      "source": [
        "# List Input (Multiple Values)\n",
        "numbers = list(map(int, input(\"Enter numbers: \").split()))\n",
        "print(\"You entered:\", numbers)"
      ],
      "metadata": {
        "colab": {
          "base_uri": "https://localhost:8080/"
        },
        "id": "VC0xehVmkjFx",
        "outputId": "5e54d420-7135-4af7-b86c-660f9b95deb2"
      },
      "execution_count": null,
      "outputs": [
        {
          "output_type": "stream",
          "name": "stdout",
          "text": [
            "Enter numbers: 1 2 3 4 5\n",
            "You entered: [1, 2, 3, 4, 5]\n"
          ]
        }
      ]
    },
    {
      "cell_type": "code",
      "source": [
        "names = input(\"Enter names separated by commas: \").split(\",\")\n",
        "print(\"Names:\", names)"
      ],
      "metadata": {
        "colab": {
          "base_uri": "https://localhost:8080/"
        },
        "id": "JWub89K1ksuB",
        "outputId": "4f9f9298-9a98-4fef-8890-32bf4a87ec3b"
      },
      "execution_count": null,
      "outputs": [
        {
          "output_type": "stream",
          "name": "stdout",
          "text": [
            "Enter names separated by commas: Alice,Bob,Charlie\n",
            "Names: ['Alice', 'Bob', 'Charlie']\n"
          ]
        }
      ]
    },
    {
      "cell_type": "markdown",
      "source": [
        "# Loop\n",
        "<p>Instead of writing the same code multiple times, loops allow us to execute a\n",
        "block of code multiple times with different values.</p>"
      ],
      "metadata": {
        "id": "GaQWkcsnk4xG"
      }
    },
    {
      "cell_type": "code",
      "source": [
        "# Print Hello 6 times\n",
        "print(\"Hello\")\n",
        "print(\"Hello\")\n",
        "print(\"Hello\")\n",
        "print(\"Hello\")\n",
        "print(\"Hello\")\n",
        "print(\"Hello\")"
      ],
      "metadata": {
        "colab": {
          "base_uri": "https://localhost:8080/"
        },
        "id": "WtKgwztJkyk5",
        "outputId": "df1e65b6-bebd-462a-bea5-fb0821950aad"
      },
      "execution_count": null,
      "outputs": [
        {
          "output_type": "stream",
          "name": "stdout",
          "text": [
            "Hello\n",
            "Hello\n",
            "Hello\n",
            "Hello\n",
            "Hello\n",
            "Hello\n"
          ]
        }
      ]
    },
    {
      "cell_type": "code",
      "source": [
        "for i in range(6):\n",
        "  print(\"Hello\")"
      ],
      "metadata": {
        "colab": {
          "base_uri": "https://localhost:8080/"
        },
        "id": "qoxKRqjDQ1uT",
        "outputId": "2eb2cde9-2970-4ea7-8900-c96ed3ba18bf"
      },
      "execution_count": null,
      "outputs": [
        {
          "output_type": "stream",
          "name": "stdout",
          "text": [
            "Hello\n",
            "Hello\n",
            "Hello\n",
            "Hello\n",
            "Hello\n",
            "Hello\n"
          ]
        }
      ]
    },
    {
      "cell_type": "markdown",
      "source": [
        "# For Loop\n",
        "<p>A for loop in Python is used to iterate over a sequence/Mapping (like a list, tuple,\n",
        "dictionary, string ... )\n",
        "<ol><li>The loop picks each element from the sequence, one at a time.</li>\n",
        "<li>The loop executes the block of code inside it.</li>\n",
        "<li>It continues until all elements in the sequence are processed.</li></ol></p>"
      ],
      "metadata": {
        "id": "e3eXOP5Fl7oU"
      }
    },
    {
      "cell_type": "code",
      "source": [
        "# Write for loop in C++\n",
        "\n",
        "#include<iostream>\n",
        "using namespace std:\n",
        "\n",
        "int main(){\n",
        "  for(int i = 0; i < 6; i++){ //Initialization, Condition, Increment\n",
        "    cout<<i<<endl;\n",
        "  }\n",
        "  return 0;\n",
        "}"
      ],
      "metadata": {
        "id": "SOruiTi6oWdN"
      },
      "execution_count": null,
      "outputs": []
    },
    {
      "cell_type": "code",
      "source": [
        "# 0 1 2 3 4 5"
      ],
      "metadata": {
        "id": "-51m9GA2o7tN"
      },
      "execution_count": null,
      "outputs": []
    },
    {
      "cell_type": "code",
      "source": [
        "range(6)"
      ],
      "metadata": {
        "colab": {
          "base_uri": "https://localhost:8080/"
        },
        "id": "JckrArtWpA1S",
        "outputId": "afc933e5-8aa2-4f9e-f9ce-1b10f6472942"
      },
      "execution_count": null,
      "outputs": [
        {
          "output_type": "execute_result",
          "data": {
            "text/plain": [
              "range(0, 6)"
            ]
          },
          "metadata": {},
          "execution_count": 42
        }
      ]
    },
    {
      "cell_type": "code",
      "source": [
        "for i in range(6):\n",
        "  print(i)"
      ],
      "metadata": {
        "colab": {
          "base_uri": "https://localhost:8080/"
        },
        "id": "4l2h4KdZpLiK",
        "outputId": "da250ba4-fe47-4c98-a2e4-8260d9595cd0"
      },
      "execution_count": null,
      "outputs": [
        {
          "output_type": "stream",
          "name": "stdout",
          "text": [
            "0\n",
            "1\n",
            "2\n",
            "3\n",
            "4\n",
            "5\n"
          ]
        }
      ]
    },
    {
      "cell_type": "code",
      "source": [
        "k = ['a','b','c','d']\n",
        "for i in k:\n",
        "  print(i, end = \" \")"
      ],
      "metadata": {
        "colab": {
          "base_uri": "https://localhost:8080/"
        },
        "id": "_mYEbmTHlGfx",
        "outputId": "07f512d8-940f-4422-d165-12c644e603b0"
      },
      "execution_count": null,
      "outputs": [
        {
          "output_type": "stream",
          "name": "stdout",
          "text": [
            "a b c d "
          ]
        }
      ]
    },
    {
      "cell_type": "code",
      "source": [
        "word = \"Python\"\n",
        "for i in word:\n",
        "  print(i)"
      ],
      "metadata": {
        "colab": {
          "base_uri": "https://localhost:8080/"
        },
        "id": "dN-H4qoZoUfd",
        "outputId": "5decff31-733d-41b5-fa59-0f27e01e34a3"
      },
      "execution_count": null,
      "outputs": [
        {
          "output_type": "stream",
          "name": "stdout",
          "text": [
            "P\n",
            "y\n",
            "t\n",
            "h\n",
            "o\n",
            "n\n"
          ]
        }
      ]
    },
    {
      "cell_type": "code",
      "source": [
        "my_tuple = (\"apple\", \"banana\", \"orange\")\n",
        "for item in my_tuple:\n",
        "  print(item)"
      ],
      "metadata": {
        "colab": {
          "base_uri": "https://localhost:8080/"
        },
        "id": "BX0A17QCqU6Y",
        "outputId": "b920ca9c-8916-475d-ab28-5a5af7f1ddf8"
      },
      "execution_count": null,
      "outputs": [
        {
          "output_type": "stream",
          "name": "stdout",
          "text": [
            "apple\n",
            "banana\n",
            "orange\n"
          ]
        }
      ]
    },
    {
      "cell_type": "code",
      "source": [
        "my_tuple = (\"red\", \"green\", \"blue\")"
      ],
      "metadata": {
        "id": "jqstlkoqqyHB"
      },
      "execution_count": null,
      "outputs": []
    },
    {
      "cell_type": "code",
      "source": [
        "len(my_tuple)"
      ],
      "metadata": {
        "colab": {
          "base_uri": "https://localhost:8080/"
        },
        "id": "ilRu4FViKA6O",
        "outputId": "eb1f683d-18cd-4701-f91e-759ee5c63622"
      },
      "execution_count": null,
      "outputs": [
        {
          "output_type": "execute_result",
          "data": {
            "text/plain": [
              "3"
            ]
          },
          "metadata": {},
          "execution_count": 2
        }
      ]
    },
    {
      "cell_type": "code",
      "source": [
        "my_tuple = (\"red\", \"green\", \"blue\")\n",
        "for i in range (len(my_tuple)):\n",
        "  print(my_tuple[i])"
      ],
      "metadata": {
        "colab": {
          "base_uri": "https://localhost:8080/"
        },
        "id": "KDwNueBHKZSi",
        "outputId": "0bde3afb-0198-44c3-d663-e37c5d4fb01d"
      },
      "execution_count": null,
      "outputs": [
        {
          "output_type": "stream",
          "name": "stdout",
          "text": [
            "red\n",
            "green\n",
            "blue\n"
          ]
        }
      ]
    },
    {
      "cell_type": "code",
      "source": [
        "# 0 - 0, 1, 2\n",
        "# 1 - 0, 1, 2"
      ],
      "metadata": {
        "id": "1-6JI_buKqnb"
      },
      "execution_count": null,
      "outputs": []
    },
    {
      "cell_type": "code",
      "source": [
        "for i in range(2):\n",
        "  for j in range(3):\n",
        "    print(i, j)"
      ],
      "metadata": {
        "colab": {
          "base_uri": "https://localhost:8080/"
        },
        "id": "oDrCb1LrP41y",
        "outputId": "a8dceb9e-4fda-44c8-b9c7-f601e4ec6dc9"
      },
      "execution_count": null,
      "outputs": [
        {
          "output_type": "stream",
          "name": "stdout",
          "text": [
            "0 0\n",
            "0 1\n",
            "0 2\n",
            "1 0\n",
            "1 1\n",
            "1 2\n"
          ]
        }
      ]
    },
    {
      "cell_type": "code",
      "source": [
        "# Basic Syntax\n",
        "for variable in sequence:\n",
        "# Code to execute"
      ],
      "metadata": {
        "id": "U0vk6W8VRBX6"
      },
      "execution_count": null,
      "outputs": []
    },
    {
      "cell_type": "code",
      "source": [
        "# Using range()\n",
        "for i in range(5): # range(5) generates numbers 0 to 4\n",
        "  print(i)"
      ],
      "metadata": {
        "colab": {
          "base_uri": "https://localhost:8080/"
        },
        "id": "mSqYBj_kRE76",
        "outputId": "c0b867cf-71eb-44e3-b2ac-856c0b9539d4"
      },
      "execution_count": null,
      "outputs": [
        {
          "output_type": "stream",
          "name": "stdout",
          "text": [
            "0\n",
            "1\n",
            "2\n",
            "3\n",
            "4\n"
          ]
        }
      ]
    },
    {
      "cell_type": "markdown",
      "source": [
        "<p><ol><li>range(5) generates numbers from 0 to 4 (excluding 5).</li>\n",
        "<li>Each number is assigned to i in each iteration.</li></ol>\n",
        "<h6><strong>range(start, stop, step) handles loop control internally.</strong></h6></p>"
      ],
      "metadata": {
        "id": "NL7vXCwORRpD"
      }
    },
    {
      "cell_type": "code",
      "source": [
        "for i in range(2, 10, 2): # Start=2, End=10 (exclusive), Step=2\n",
        "  print(i, end=' ')"
      ],
      "metadata": {
        "colab": {
          "base_uri": "https://localhost:8080/"
        },
        "id": "YlTyhRKJRLZJ",
        "outputId": "cf43259c-0a22-42e8-d1d7-dd8bf26c9ccb"
      },
      "execution_count": null,
      "outputs": [
        {
          "output_type": "stream",
          "name": "stdout",
          "text": [
            "2 4 6 8 "
          ]
        }
      ]
    },
    {
      "cell_type": "code",
      "source": [
        "# Iterating Over a List\n",
        "fruits = [\"apple\", \"banana\", \"cherry\"]\n",
        "for fruit in fruits:\n",
        "  print(fruit)\n",
        "# The loop picks one item (fruit) from the list of fruits in each iteration."
      ],
      "metadata": {
        "colab": {
          "base_uri": "https://localhost:8080/"
        },
        "id": "NAhOu5CISHei",
        "outputId": "81d960a6-7b72-44a9-bdc7-fb143dccfea7"
      },
      "execution_count": null,
      "outputs": [
        {
          "output_type": "stream",
          "name": "stdout",
          "text": [
            "apple\n",
            "banana\n",
            "cherry\n"
          ]
        }
      ]
    },
    {
      "cell_type": "code",
      "source": [
        "# Looping Through a String\n",
        "word = \"Python\"\n",
        "for letter in word:\n",
        "  print(letter)"
      ],
      "metadata": {
        "colab": {
          "base_uri": "https://localhost:8080/"
        },
        "id": "QayrS9DfSQ4S",
        "outputId": "3cf02283-bb0f-42b2-92fb-06ed5607e4dc"
      },
      "execution_count": null,
      "outputs": [
        {
          "output_type": "stream",
          "name": "stdout",
          "text": [
            "P\n",
            "y\n",
            "t\n",
            "h\n",
            "o\n",
            "n\n"
          ]
        }
      ]
    },
    {
      "cell_type": "code",
      "source": [
        "my_tuple = (\"apple\", \"banana\", \"cherry\")\n",
        "for item in my_tuple:\n",
        "  print(item)"
      ],
      "metadata": {
        "colab": {
          "base_uri": "https://localhost:8080/"
        },
        "id": "I6zjlpQpSfny",
        "outputId": "07804c6e-aaf4-443c-dca6-7d823afa6001"
      },
      "execution_count": null,
      "outputs": [
        {
          "output_type": "stream",
          "name": "stdout",
          "text": [
            "apple\n",
            "banana\n",
            "cherry\n"
          ]
        }
      ]
    },
    {
      "cell_type": "code",
      "source": [
        "my_tuple = (\"red\", \"green\", \"blue\")\n",
        "for i in range(len(my_tuple)):\n",
        "  print(\"Index\", i, \"has value\", my_tuple[i])"
      ],
      "metadata": {
        "colab": {
          "base_uri": "https://localhost:8080/"
        },
        "id": "y-GElgdRSkCZ",
        "outputId": "b474f9fb-faeb-4ec0-bc82-fad032d6eaee"
      },
      "execution_count": null,
      "outputs": [
        {
          "output_type": "stream",
          "name": "stdout",
          "text": [
            "Index 0 has value red\n",
            "Index 1 has value green\n",
            "Index 2 has value blue\n"
          ]
        }
      ]
    },
    {
      "cell_type": "markdown",
      "source": [
        "###### Looping Over a Dictionary person = {\"name\": \"Alice\", \"age\": 25, \"city\": \"New York\"} for key in person.keys(): print(key) for value in person.values(): print(value) for key, value in person.items(): print(key, \":\", value)"
      ],
      "metadata": {
        "id": "GkXqjpuESwQ6"
      }
    },
    {
      "cell_type": "code",
      "source": [
        "# Nested for Loop\n",
        "for i in range(3): # Outer loop\n",
        "  for j in range(2): # Inner loop\n",
        "    print(f\"i={i}, j={j}\")"
      ],
      "metadata": {
        "colab": {
          "base_uri": "https://localhost:8080/"
        },
        "id": "DmBsojsCSoQ6",
        "outputId": "a91edab0-92ba-4b7d-9e01-1ef18781a127"
      },
      "execution_count": null,
      "outputs": [
        {
          "output_type": "stream",
          "name": "stdout",
          "text": [
            "i=0, j=0\n",
            "i=0, j=1\n",
            "i=1, j=0\n",
            "i=1, j=1\n",
            "i=2, j=0\n",
            "i=2, j=1\n"
          ]
        }
      ]
    },
    {
      "cell_type": "markdown",
      "source": [
        "# While Loop\n",
        "<p>A while loop is used when we want to repeat a block of code as long as a\n",
        "condition is True\n",
        "<ol><li>The condition is checked before each iteration.</li>\n",
        "<li>If the condition is True, the code inside the loop executes.</li>\n",
        "<li>If the condition becomes False, the loop stops.</li></ol></p>"
      ],
      "metadata": {
        "id": "4fhqEJmATO47"
      }
    },
    {
      "cell_type": "code",
      "source": [
        "x=1\n",
        "while x <= 5:\n",
        "  print(x)\n",
        "  x = x + 1\n"
      ],
      "metadata": {
        "colab": {
          "base_uri": "https://localhost:8080/"
        },
        "id": "gbugmsDYTG8B",
        "outputId": "f51b9ff7-2d18-4c5e-c843-d36a86765044"
      },
      "execution_count": null,
      "outputs": [
        {
          "output_type": "stream",
          "name": "stdout",
          "text": [
            "1\n",
            "2\n",
            "3\n",
            "4\n",
            "5\n"
          ]
        }
      ]
    },
    {
      "cell_type": "code",
      "source": [
        "# Basic while Loop\n",
        "x = 1\n",
        "while x <= 5: # Loop runs as long as x is 5 or less\n",
        "  print(x)\n",
        "  x += 1 # Increment x"
      ],
      "metadata": {
        "colab": {
          "base_uri": "https://localhost:8080/"
        },
        "id": "uWmxSMmuX7Ex",
        "outputId": "259b3b35-db01-43d6-89b3-9c11acdbd2d2"
      },
      "execution_count": null,
      "outputs": [
        {
          "output_type": "stream",
          "name": "stdout",
          "text": [
            "1\n",
            "2\n",
            "3\n",
            "4\n",
            "5\n"
          ]
        }
      ]
    },
    {
      "cell_type": "code",
      "source": [
        "x = 5\n",
        "while x > 0:\n",
        "  print(\"Counting down:\", x)\n",
        "  x -= 1\n",
        "print(\"Finished!\")"
      ],
      "metadata": {
        "colab": {
          "base_uri": "https://localhost:8080/"
        },
        "id": "NQRIxh95YNq4",
        "outputId": "1447627b-95d4-443c-d826-bb945bdfa4e7"
      },
      "execution_count": null,
      "outputs": [
        {
          "output_type": "stream",
          "name": "stdout",
          "text": [
            "Counting down: 5\n",
            "Counting down: 4\n",
            "Counting down: 3\n",
            "Counting down: 2\n",
            "Counting down: 1\n",
            "Finished!\n"
          ]
        }
      ]
    },
    {
      "cell_type": "markdown",
      "source": [
        "# Break Statement\n",
        "<p>The break statement stops the loop immediately when executed.</p>\n"
      ],
      "metadata": {
        "id": "BbsusAQzWanx"
      }
    },
    {
      "cell_type": "code",
      "source": [
        "for i in range(6):\n",
        "  if i == 4:\n",
        "    break\n",
        "  print(i)"
      ],
      "metadata": {
        "colab": {
          "base_uri": "https://localhost:8080/"
        },
        "id": "TnyEFCxaVAfB",
        "outputId": "c58d78c6-9765-46d4-e9bf-a93e8d7e93a2"
      },
      "execution_count": null,
      "outputs": [
        {
          "output_type": "stream",
          "name": "stdout",
          "text": [
            "0\n",
            "1\n",
            "2\n",
            "3\n"
          ]
        }
      ]
    },
    {
      "cell_type": "code",
      "source": [
        "for i in range(1, 6):\n",
        "  if i == 4:\n",
        "    break # Stops the loop when i is 4\n",
        "  print(i)"
      ],
      "metadata": {
        "colab": {
          "base_uri": "https://localhost:8080/"
        },
        "id": "g31fqU9gYYjh",
        "outputId": "d0cab00f-783d-4401-ad04-291f9c2db7f3"
      },
      "execution_count": null,
      "outputs": [
        {
          "output_type": "stream",
          "name": "stdout",
          "text": [
            "1\n",
            "2\n",
            "3\n"
          ]
        }
      ]
    },
    {
      "cell_type": "code",
      "source": [
        "x = 1\n",
        "while x <= 5:\n",
        "  if x == 3:\n",
        "    break # Stops when x is 3\n",
        "  print(x)\n",
        "  x += 1"
      ],
      "metadata": {
        "colab": {
          "base_uri": "https://localhost:8080/"
        },
        "id": "yCz5nw_vYe7q",
        "outputId": "e4226cb3-f957-4e8c-84e9-200652d453d5"
      },
      "execution_count": null,
      "outputs": [
        {
          "output_type": "stream",
          "name": "stdout",
          "text": [
            "1\n",
            "2\n"
          ]
        }
      ]
    },
    {
      "cell_type": "markdown",
      "source": [
        "#Continue Statement\n",
        "<p>The continue statement skips the current iteration and moves to the next one.</p>"
      ],
      "metadata": {
        "id": "wlANwvYOXsJp"
      }
    },
    {
      "cell_type": "code",
      "source": [
        "for i in range(6):\n",
        "  if i == 4:\n",
        "    continue\n",
        "  print(i)"
      ],
      "metadata": {
        "colab": {
          "base_uri": "https://localhost:8080/"
        },
        "id": "2QmHvJFLWBpp",
        "outputId": "e5c11b76-eb12-4f63-baa0-e76c78068eaa"
      },
      "execution_count": null,
      "outputs": [
        {
          "output_type": "stream",
          "name": "stdout",
          "text": [
            "0\n",
            "1\n",
            "2\n",
            "3\n",
            "5\n"
          ]
        }
      ]
    },
    {
      "cell_type": "code",
      "source": [
        "for i in range(1, 6):\n",
        "  if i == 3:\n",
        "    continue # Skips when i is 3\n",
        "  print(i)"
      ],
      "metadata": {
        "colab": {
          "base_uri": "https://localhost:8080/"
        },
        "id": "OqtHGU2LXnJo",
        "outputId": "8ada8008-6530-4753-d510-6c434cce659f"
      },
      "execution_count": null,
      "outputs": [
        {
          "output_type": "stream",
          "name": "stdout",
          "text": [
            "1\n",
            "2\n",
            "4\n",
            "5\n"
          ]
        }
      ]
    },
    {
      "cell_type": "code",
      "source": [
        "for i in range(1, 6):\n",
        "  if i % 2 == 0:\n",
        "    continue\n",
        "  print(i)"
      ],
      "metadata": {
        "colab": {
          "base_uri": "https://localhost:8080/"
        },
        "id": "G0_2ylxnYpqY",
        "outputId": "ab07f14f-d7e2-4cf7-eaf9-1d00f0d2843b"
      },
      "execution_count": null,
      "outputs": [
        {
          "output_type": "stream",
          "name": "stdout",
          "text": [
            "1\n",
            "3\n",
            "5\n"
          ]
        }
      ]
    },
    {
      "cell_type": "markdown",
      "source": [
        "# Arithmetic Operations"
      ],
      "metadata": {
        "id": "ZzkG5tC0Y1IC"
      }
    },
    {
      "cell_type": "code",
      "source": [
        "a = 10\n",
        "b = 3"
      ],
      "metadata": {
        "id": "VJoW9d_VYuPR"
      },
      "execution_count": null,
      "outputs": []
    },
    {
      "cell_type": "code",
      "source": [
        "a + b"
      ],
      "metadata": {
        "colab": {
          "base_uri": "https://localhost:8080/"
        },
        "id": "VSWct9SoZDao",
        "outputId": "764bd3f6-4737-4f6c-a798-5a5aaa62a90d"
      },
      "execution_count": null,
      "outputs": [
        {
          "output_type": "execute_result",
          "data": {
            "text/plain": [
              "13"
            ]
          },
          "metadata": {},
          "execution_count": 33
        }
      ]
    },
    {
      "cell_type": "code",
      "source": [
        "a - b"
      ],
      "metadata": {
        "colab": {
          "base_uri": "https://localhost:8080/"
        },
        "id": "YhlcuuECZGHX",
        "outputId": "69007f7b-a3d4-49da-dd3c-11966e4d68ab"
      },
      "execution_count": null,
      "outputs": [
        {
          "output_type": "execute_result",
          "data": {
            "text/plain": [
              "7"
            ]
          },
          "metadata": {},
          "execution_count": 34
        }
      ]
    },
    {
      "cell_type": "code",
      "source": [
        "a * b"
      ],
      "metadata": {
        "colab": {
          "base_uri": "https://localhost:8080/"
        },
        "id": "GHhNXB9uZHaD",
        "outputId": "7389eec9-c395-473e-95c2-db035027dbec"
      },
      "execution_count": null,
      "outputs": [
        {
          "output_type": "execute_result",
          "data": {
            "text/plain": [
              "30"
            ]
          },
          "metadata": {},
          "execution_count": 35
        }
      ]
    },
    {
      "cell_type": "code",
      "source": [
        "a / b"
      ],
      "metadata": {
        "colab": {
          "base_uri": "https://localhost:8080/"
        },
        "id": "cdjPkvcbZJrY",
        "outputId": "cf95af67-c899-4c11-c15d-c8c3deb445d2"
      },
      "execution_count": null,
      "outputs": [
        {
          "output_type": "execute_result",
          "data": {
            "text/plain": [
              "3.3333333333333335"
            ]
          },
          "metadata": {},
          "execution_count": 36
        }
      ]
    },
    {
      "cell_type": "code",
      "source": [
        "a//b"
      ],
      "metadata": {
        "colab": {
          "base_uri": "https://localhost:8080/"
        },
        "id": "iA2lVnNIZLCQ",
        "outputId": "65ddb786-46cc-44d5-928e-15707f524176"
      },
      "execution_count": null,
      "outputs": [
        {
          "output_type": "execute_result",
          "data": {
            "text/plain": [
              "3"
            ]
          },
          "metadata": {},
          "execution_count": 37
        }
      ]
    },
    {
      "cell_type": "code",
      "source": [
        "a%b"
      ],
      "metadata": {
        "colab": {
          "base_uri": "https://localhost:8080/"
        },
        "id": "XREteuSJZVpY",
        "outputId": "d979bb02-dac2-4a87-88ce-b4c8b2ddfb64"
      },
      "execution_count": null,
      "outputs": [
        {
          "output_type": "execute_result",
          "data": {
            "text/plain": [
              "1"
            ]
          },
          "metadata": {},
          "execution_count": 38
        }
      ]
    },
    {
      "cell_type": "code",
      "source": [
        "a**b"
      ],
      "metadata": {
        "colab": {
          "base_uri": "https://localhost:8080/"
        },
        "id": "LYz46pwyZZp4",
        "outputId": "63750e6a-d955-41cc-dd29-7a89abf165d9"
      },
      "execution_count": null,
      "outputs": [
        {
          "output_type": "execute_result",
          "data": {
            "text/plain": [
              "1000"
            ]
          },
          "metadata": {},
          "execution_count": 39
        }
      ]
    },
    {
      "cell_type": "code",
      "source": [
        "10/0"
      ],
      "metadata": {
        "colab": {
          "base_uri": "https://localhost:8080/",
          "height": 141
        },
        "id": "E8BXn6MIZfsh",
        "outputId": "e6cde898-f5f0-4965-f2ad-54899db193c7"
      },
      "execution_count": null,
      "outputs": [
        {
          "output_type": "error",
          "ename": "ZeroDivisionError",
          "evalue": "division by zero",
          "traceback": [
            "\u001b[0;31m---------------------------------------------------------------------------\u001b[0m",
            "\u001b[0;31mZeroDivisionError\u001b[0m                         Traceback (most recent call last)",
            "\u001b[0;32m<ipython-input-40-e574edb36883>\u001b[0m in \u001b[0;36m<cell line: 0>\u001b[0;34m()\u001b[0m\n\u001b[0;32m----> 1\u001b[0;31m \u001b[0;36m10\u001b[0m\u001b[0;34m/\u001b[0m\u001b[0;36m0\u001b[0m\u001b[0;34m\u001b[0m\u001b[0;34m\u001b[0m\u001b[0m\n\u001b[0m",
            "\u001b[0;31mZeroDivisionError\u001b[0m: division by zero"
          ]
        }
      ]
    },
    {
      "cell_type": "code",
      "source": [
        "# Examples of Arithmetic Operations\n",
        "a = 10\n",
        "b = 3\n",
        "print(\"Addition:\", a + b) # 13\n",
        "print(\"Subtraction:\", a - b) # 7\n",
        "print(\"Multiplication:\", a * b) # 30\n",
        "print(\"Division:\", a / b) # 3.3333\n",
        "print(\"Floor Division:\", a // b) # 3\n",
        "print(\"Modulus:\", a % b) # 1\n",
        "print(\"Exponentiation:\", a ** b) # 1000"
      ],
      "metadata": {
        "colab": {
          "base_uri": "https://localhost:8080/"
        },
        "id": "1P-dEovEagG8",
        "outputId": "77c16523-0f9e-44b4-e9f9-db1ccafe2f0b"
      },
      "execution_count": null,
      "outputs": [
        {
          "output_type": "stream",
          "name": "stdout",
          "text": [
            "Addition: 13\n",
            "Subtraction: 7\n",
            "Multiplication: 30\n",
            "Division: 3.3333333333333335\n",
            "Floor Division: 3\n",
            "Modulus: 1\n",
            "Exponentiation: 1000\n"
          ]
        }
      ]
    },
    {
      "cell_type": "markdown",
      "source": [
        "<p><ol><li>/ always returns a float (3.3333).</li>\n",
        "<li>// returns the integer part of division (3).</li>\n",
        "<li>% gives the remainder of division (1).</li>\n",
        "<li>** raises a to the power of b (10³ = 1000).</li></ol></p>"
      ],
      "metadata": {
        "id": "hLOhz-OGaoqp"
      }
    },
    {
      "cell_type": "code",
      "source": [
        "# Division by Zero\n",
        "print(10 / 0) # ZeroDivisionError"
      ],
      "metadata": {
        "colab": {
          "base_uri": "https://localhost:8080/",
          "height": 158
        },
        "id": "E_TMuR5qakLq",
        "outputId": "9c9f1fc7-244b-4836-92a8-0c79e2f3f78a"
      },
      "execution_count": null,
      "outputs": [
        {
          "output_type": "error",
          "ename": "ZeroDivisionError",
          "evalue": "division by zero",
          "traceback": [
            "\u001b[0;31m---------------------------------------------------------------------------\u001b[0m",
            "\u001b[0;31mZeroDivisionError\u001b[0m                         Traceback (most recent call last)",
            "\u001b[0;32m<ipython-input-43-db9ae97c213d>\u001b[0m in \u001b[0;36m<cell line: 0>\u001b[0;34m()\u001b[0m\n\u001b[1;32m      1\u001b[0m \u001b[0;31m# Division by Zero\u001b[0m\u001b[0;34m\u001b[0m\u001b[0;34m\u001b[0m\u001b[0m\n\u001b[0;32m----> 2\u001b[0;31m \u001b[0mprint\u001b[0m\u001b[0;34m(\u001b[0m\u001b[0;36m10\u001b[0m \u001b[0;34m/\u001b[0m \u001b[0;36m0\u001b[0m\u001b[0;34m)\u001b[0m \u001b[0;31m# ZeroDivisionError\u001b[0m\u001b[0;34m\u001b[0m\u001b[0;34m\u001b[0m\u001b[0m\n\u001b[0m",
            "\u001b[0;31mZeroDivisionError\u001b[0m: division by zero"
          ]
        }
      ]
    },
    {
      "cell_type": "code",
      "source": [
        "# Negative Exponent\n",
        "print(2 ** -3) # 0.125 (1/8)"
      ],
      "metadata": {
        "colab": {
          "base_uri": "https://localhost:8080/"
        },
        "id": "WyLd3fm9bFAo",
        "outputId": "ecd5f8ea-2fa3-4780-a9b7-327ba2e789e2"
      },
      "execution_count": null,
      "outputs": [
        {
          "output_type": "stream",
          "name": "stdout",
          "text": [
            "0.125\n"
          ]
        }
      ]
    },
    {
      "cell_type": "markdown",
      "source": [
        "# Operator Precedence\n",
        "<p>PEMDAS Rule: P → Parentheses E → Exponents MD → Multiplication & Division (from left to right) AS → Addition &\n",
        "Subtraction (from left to right)</p>"
      ],
      "metadata": {
        "id": "OE8wfs8qbQdh"
      }
    },
    {
      "cell_type": "code",
      "source": [
        "(2+3)*2**2"
      ],
      "metadata": {
        "colab": {
          "base_uri": "https://localhost:8080/"
        },
        "id": "XksOygG-bIcv",
        "outputId": "91ba5d59-4ae1-4334-c7b8-cd2124d03b2e"
      },
      "execution_count": null,
      "outputs": [
        {
          "output_type": "execute_result",
          "data": {
            "text/plain": [
              "20"
            ]
          },
          "metadata": {},
          "execution_count": 45
        }
      ]
    },
    {
      "cell_type": "code",
      "source": [
        "# 2+2\n",
        "# 2**2\n",
        "# 5*4"
      ],
      "metadata": {
        "id": "Bkvsk9y7bMho"
      },
      "execution_count": null,
      "outputs": []
    },
    {
      "cell_type": "code",
      "source": [
        "# Parentheses Have the Highest Precedence\n",
        "print(10 + 5 * 2) # 20 (Multiplication first, then addition)\n",
        "print((10 + 5) * 2) # 30 (Parentheses first)"
      ],
      "metadata": {
        "colab": {
          "base_uri": "https://localhost:8080/"
        },
        "id": "0D-ZXa-objTY",
        "outputId": "5c9298e8-39c7-46ec-9c20-dfbd7e7541bf"
      },
      "execution_count": null,
      "outputs": [
        {
          "output_type": "stream",
          "name": "stdout",
          "text": [
            "20\n",
            "30\n"
          ]
        }
      ]
    },
    {
      "cell_type": "code",
      "source": [
        "# Multiplication and Division Before Addition and Subtraction\n",
        "print(10 + 3 * 2) # 16 (Multiplication first, then addition)\n",
        "print(10 / 2 - 3) # 2.0 (Division first, then subtraction)"
      ],
      "metadata": {
        "colab": {
          "base_uri": "https://localhost:8080/"
        },
        "id": "yullPaiQbj4o",
        "outputId": "2e4e3bb4-6f0f-4ce9-eb71-e2192a48040c"
      },
      "execution_count": null,
      "outputs": [
        {
          "output_type": "stream",
          "name": "stdout",
          "text": [
            "16\n",
            "2.0\n"
          ]
        }
      ]
    },
    {
      "cell_type": "code",
      "source": [
        "# Logical Operator Precedence (not > and > or)\n",
        "print(True or False and False) # True (AND evaluated first: False and False → False, then True or False → True)\n",
        "print(not True and False) # False (NOT first, then AND)\n",
        "# (not has higher precedence, so not True → False, then False and False → False)"
      ],
      "metadata": {
        "colab": {
          "base_uri": "https://localhost:8080/"
        },
        "id": "fxxrXfSKbn2n",
        "outputId": "83590f2d-c4cf-4387-f5a0-935eecf64d8f"
      },
      "execution_count": null,
      "outputs": [
        {
          "output_type": "stream",
          "name": "stdout",
          "text": [
            "True\n",
            "False\n"
          ]
        }
      ]
    },
    {
      "cell_type": "code",
      "source": [
        "print(3 + 5 * 2 ** 2)"
      ],
      "metadata": {
        "colab": {
          "base_uri": "https://localhost:8080/"
        },
        "id": "xHIhLtHqcP_Y",
        "outputId": "3e0d63b1-6445-4563-fc83-09184fd76ad6"
      },
      "execution_count": null,
      "outputs": [
        {
          "output_type": "stream",
          "name": "stdout",
          "text": [
            "23\n"
          ]
        }
      ]
    },
    {
      "cell_type": "code",
      "source": [
        "result = (2 + 3) * 2 ** 2\n",
        "print(result)"
      ],
      "metadata": {
        "colab": {
          "base_uri": "https://localhost:8080/"
        },
        "id": "iCzv44EfcXiX",
        "outputId": "4e3fd79a-e6ca-4367-e174-97e553c49c0b"
      },
      "execution_count": null,
      "outputs": [
        {
          "output_type": "stream",
          "name": "stdout",
          "text": [
            "20\n"
          ]
        }
      ]
    },
    {
      "cell_type": "markdown",
      "source": [
        "###### Explanation: Parentheses: 2 + 3 = 5 Exponent: 2 ** 2 = 4 Multiplication: 5 * 4 = 20 Output: 20"
      ],
      "metadata": {
        "id": "-pnQjwCocgZh"
      }
    },
    {
      "cell_type": "markdown",
      "source": [
        "# Math Function"
      ],
      "metadata": {
        "id": "srHBwQ_GcpHB"
      }
    },
    {
      "cell_type": "code",
      "source": [
        "import math\n",
        "print(math.sqrt(16)) # Square root → 4.0\n",
        "print(math.pow(2, 3)) # Power → 8.0\n",
        "print(math.floor(3.7)) # Floor → 3\n",
        "print(math.ceil(3.1)) # Ceil → 4\n",
        "print(math.pi) # Pi → 3.141592..."
      ],
      "metadata": {
        "colab": {
          "base_uri": "https://localhost:8080/"
        },
        "id": "MkbL391-ccEx",
        "outputId": "e4d36807-848e-457e-d7d9-bae39d808d99"
      },
      "execution_count": null,
      "outputs": [
        {
          "output_type": "stream",
          "name": "stdout",
          "text": [
            "4.0\n",
            "8.0\n",
            "3\n",
            "4\n",
            "3.141592653589793\n"
          ]
        }
      ]
    }
  ]
}