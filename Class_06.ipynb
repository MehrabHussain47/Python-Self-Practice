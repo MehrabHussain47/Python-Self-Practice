{
  "nbformat": 4,
  "nbformat_minor": 0,
  "metadata": {
    "colab": {
      "provenance": [],
      "authorship_tag": "ABX9TyPpS8jcGPo5RTKFPApkrQiG",
      "include_colab_link": true
    },
    "kernelspec": {
      "name": "python3",
      "display_name": "Python 3"
    },
    "language_info": {
      "name": "python"
    }
  },
  "cells": [
    {
      "cell_type": "markdown",
      "metadata": {
        "id": "view-in-github",
        "colab_type": "text"
      },
      "source": [
        "<a href=\"https://colab.research.google.com/github/MehrabHussain47/Python-Self-Practice/blob/master/Class_06.ipynb\" target=\"_parent\"><img src=\"https://colab.research.google.com/assets/colab-badge.svg\" alt=\"Open In Colab\"/></a>"
      ]
    },
    {
      "cell_type": "markdown",
      "source": [
        "<p>Why is OOP Important?\n",
        "<ol><li>OOP groups data and functions together inside classes.</li>\n",
        "<li>Code is cleaner and easier to understand.</li>\n",
        "<li>Once you build a class, you don't need to rewrite it.</li>\n",
        "<li>New classes can inherit from old ones and add new features.</li>\n",
        "<li>Increases security and prevents accidental changes.</li>\n",
        "<li>Code feels more natural and logical.</li></ol>\n",
        "OOP makes your code organized, reusable, safe, and close to real life.</p>"
      ],
      "metadata": {
        "id": "9RA8CrQ0VnQj"
      }
    },
    {
      "cell_type": "markdown",
      "source": [
        "#Self"
      ],
      "metadata": {
        "id": "b8ot53_UWKz5"
      }
    },
    {
      "cell_type": "code",
      "source": [
        "class Student:\n",
        "  def __init__(self, name, age):\n",
        "    self.name = name # object's name\n",
        "    self.age = age # object's age\n",
        "  def greet(self):\n",
        "    print(f\"Hello, I am {self.name} and I am {self.age} years old.\")\n",
        "# Two students\n",
        "s1 = Student(\"Alice\", 20)\n",
        "s2 = Student(\"Bob\", 22)\n",
        "s1.greet()\n",
        "s2.greet()"
      ],
      "metadata": {
        "colab": {
          "base_uri": "https://localhost:8080/"
        },
        "id": "KUIWSQeTWNka",
        "outputId": "3400f3bd-e78f-4ae5-99e1-63af779c10f2"
      },
      "execution_count": 37,
      "outputs": [
        {
          "output_type": "stream",
          "name": "stdout",
          "text": [
            "Hello, I am Alice and I am 20 years old.\n",
            "Hello, I am Bob and I am 22 years old.\n"
          ]
        }
      ]
    },
    {
      "cell_type": "markdown",
      "source": [
        "<p>These are the instance variables — they belong to the object being created.\n",
        "<ol><li>self.name stores the name inside the object</li>\n",
        "<li>self.age stores the age inside the object</li></ol></p>"
      ],
      "metadata": {
        "id": "cg4NynKDWepY"
      }
    },
    {
      "cell_type": "code",
      "execution_count": null,
      "metadata": {
        "id": "zk-2ohvVf0qc",
        "colab": {
          "base_uri": "https://localhost:8080/"
        },
        "outputId": "6b687745-3c69-4697-894e-3950a0eec153"
      },
      "outputs": [
        {
          "output_type": "stream",
          "name": "stdout",
          "text": [
            "Hello, my name is Alice and I am 20 years old.\n",
            "Hello, my name is Bob and I am 22 years old.\n"
          ]
        }
      ],
      "source": [
        "class Student:\n",
        "  def __init__(self, name, age):\n",
        "    self.name = name  # object's name\n",
        "    self.age = age    # object's age\n",
        "\n",
        "  def greet(self):\n",
        "    print(f\"Hello, my name is {self.name} and I am {self.age} years old.\")\n",
        "\n",
        "# Two students\n",
        "s1 = Student(\"Alice\", 20)\n",
        "s2 = Student(\"Bob\", 22)\n",
        "\n",
        "s1.greet()\n",
        "s2.greet()"
      ]
    },
    {
      "cell_type": "code",
      "source": [
        "# Python does not require the first parameter of a method to be called self. It's j\n",
        "# self is the standard naming convention in Python.\n",
        "class Car:\n",
        "  def __init__(this, brand):\n",
        "    this.brand = brand\n",
        "  def show_brand(this):\n",
        "    print(\"Brand is:\", this.brand)\n",
        "\n",
        "c = Car(\"Toyota\")\n",
        "c.show_brand()"
      ],
      "metadata": {
        "colab": {
          "base_uri": "https://localhost:8080/"
        },
        "id": "eQO-8X_AWynq",
        "outputId": "3707d7b3-54a9-4cd1-bcd0-031276823be1"
      },
      "execution_count": 38,
      "outputs": [
        {
          "output_type": "stream",
          "name": "stdout",
          "text": [
            "Brand is: Toyota\n"
          ]
        }
      ]
    },
    {
      "cell_type": "code",
      "source": [
        "class Car:\n",
        "  def __init__(this, brand, color):\n",
        "    this.brand = brand\n",
        "    this.color = color\n",
        "\n",
        "  def show_brand(this, weight):\n",
        "    print(\"Brand is: \", this.brand)\n",
        "    print(\"Brand weight is: \", weight)\n",
        "\n",
        "  def show_color(this):\n",
        "    print(\"Color is: \", this.color)\n",
        "\n",
        "c = Car(\"Toyota\", \"Red\")\n",
        "c.show_brand(10)\n",
        "c.show_color()"
      ],
      "metadata": {
        "colab": {
          "base_uri": "https://localhost:8080/"
        },
        "id": "LFe43F-FnWNR",
        "outputId": "eecbd24d-4c3a-4afd-89d0-33c1026ce3c6"
      },
      "execution_count": null,
      "outputs": [
        {
          "output_type": "stream",
          "name": "stdout",
          "text": [
            "Brand is:  Toyota\n",
            "Brand weight is:  10\n",
            "Color is:  Red\n"
          ]
        }
      ]
    },
    {
      "cell_type": "markdown",
      "source": [
        "#1. Single Inheritance\n",
        "One child class inherits from one parent class."
      ],
      "metadata": {
        "id": "PK4e9CBbW76a"
      }
    },
    {
      "cell_type": "code",
      "source": [
        "class Animal:\n",
        "  def sound(self):\n",
        "    print(\"Animal makes a sound\")\n",
        "class Dog(Animal):\n",
        "  def bark(self):\n",
        "    print(\"Dog barks\")\n",
        "\n",
        "# Example\n",
        "d = Dog()\n",
        "d.sound() # Inherited\n",
        "d.bark() # Own method"
      ],
      "metadata": {
        "colab": {
          "base_uri": "https://localhost:8080/"
        },
        "id": "LFseXo9PXF3y",
        "outputId": "d695d0e1-8244-4c18-9917-a87802861a82"
      },
      "execution_count": 39,
      "outputs": [
        {
          "output_type": "stream",
          "name": "stdout",
          "text": [
            "Animal makes a sound\n",
            "Dog barks\n"
          ]
        }
      ]
    },
    {
      "cell_type": "code",
      "source": [
        "class Animal:\n",
        "  def sound(self):\n",
        "    print(\"Animal makes a sound\")\n",
        "\n",
        "class Dog(Animal):\n",
        "  def bark(self):\n",
        "    print(\"Dog barks\")\n",
        "\n",
        "d = Dog()\n",
        "d.sound()\n",
        "d.bark()"
      ],
      "metadata": {
        "colab": {
          "base_uri": "https://localhost:8080/"
        },
        "id": "HD9X9IFqsoI_",
        "outputId": "07db89e1-1470-42be-d103-278df012734d"
      },
      "execution_count": null,
      "outputs": [
        {
          "output_type": "stream",
          "name": "stdout",
          "text": [
            "Animal makes a sound\n",
            "Dog barks\n"
          ]
        }
      ]
    },
    {
      "cell_type": "markdown",
      "source": [
        "#2. Hierarchical Inheritance\n",
        "One parent class, multiple child classes."
      ],
      "metadata": {
        "id": "9obhN_4lXSRp"
      }
    },
    {
      "cell_type": "code",
      "source": [
        "class Animal:\n",
        "  def sound(self):\n",
        "    print(\"Animal makes a sound\")\n",
        "class Dog(Animal):\n",
        "  def bark(self):\n",
        "    print(\"Dog barks\")\n",
        "class Cat(Animal):\n",
        "  def meow(self):\n",
        "    print(\"Cat meows\")\n",
        "\n",
        "# Example\n",
        "d = Dog()\n",
        "d.sound()\n",
        "d.bark()\n",
        "\n",
        "c = Cat()\n",
        "c.sound()\n",
        "c.meow()"
      ],
      "metadata": {
        "colab": {
          "base_uri": "https://localhost:8080/"
        },
        "id": "HdvK3FyFXZSi",
        "outputId": "d0c02a71-df70-4870-dcf5-7481370c82be"
      },
      "execution_count": 40,
      "outputs": [
        {
          "output_type": "stream",
          "name": "stdout",
          "text": [
            "Animal makes a sound\n",
            "Dog barks\n",
            "Animal makes a sound\n",
            "Cat meows\n"
          ]
        }
      ]
    },
    {
      "cell_type": "code",
      "source": [
        "class Animal:\n",
        "  def sound(self):\n",
        "    print(\"Animal makes a sound\")\n",
        "\n",
        "class Dog(Animal):\n",
        "  def bark(self):\n",
        "    print(\"Dog barks\")\n",
        "\n",
        "class Cat(Animal):\n",
        "  def meow(self):\n",
        "    print(\"Cat meows\")\n",
        "\n",
        "d = Dog()\n",
        "d.sound()\n",
        "d.bark()\n",
        "\n",
        "c = Cat()\n",
        "c.sound()\n",
        "c.meow()\n"
      ],
      "metadata": {
        "colab": {
          "base_uri": "https://localhost:8080/"
        },
        "id": "_kS3h5pPnzrL",
        "outputId": "0dc08e43-8062-41e6-a0b3-3762b09819d8"
      },
      "execution_count": null,
      "outputs": [
        {
          "output_type": "stream",
          "name": "stdout",
          "text": [
            "Animal makes a sound\n",
            "Dog barks\n",
            "Animal makes a sound\n",
            "Cat meows\n"
          ]
        }
      ]
    },
    {
      "cell_type": "markdown",
      "source": [
        "#3. Multilevel Inheritance\n",
        "A child inherits from a parent, and another child inherits from that child."
      ],
      "metadata": {
        "id": "UuOeP147XpbB"
      }
    },
    {
      "cell_type": "code",
      "source": [
        "class Animal:\n",
        "  def sound(self):\n",
        "    print(\"Animal sound\")\n",
        "class Dog(Animal):\n",
        "  def bark(self):\n",
        "    print(\"Dog barks\")\n",
        "class Puppy(Dog):\n",
        "  def weep(self):\n",
        "    print(\"Puppy weeps\")\n",
        "\n",
        "# Example\n",
        "p = Puppy()\n",
        "p.sound()\n",
        "p.bark()\n",
        "p.weep()"
      ],
      "metadata": {
        "colab": {
          "base_uri": "https://localhost:8080/"
        },
        "id": "sT5QBE81XsZx",
        "outputId": "500f5f83-e0e8-4462-8ea9-ee8e3337b1dc"
      },
      "execution_count": 41,
      "outputs": [
        {
          "output_type": "stream",
          "name": "stdout",
          "text": [
            "Animal sound\n",
            "Dog barks\n",
            "Puppy weeps\n"
          ]
        }
      ]
    },
    {
      "cell_type": "markdown",
      "source": [
        " <b>Puppy → Dog → Animal (grandchild concept)</b>"
      ],
      "metadata": {
        "id": "9LbxIVLoYB-J"
      }
    },
    {
      "cell_type": "code",
      "source": [
        "class Animal:\n",
        "  def sound(self):\n",
        "    print(\"Animla makes a sound\")\n",
        "\n",
        "class Dog(Animal):\n",
        "  def bark(self):\n",
        "    print(\"Dog barks\")\n",
        "\n",
        "class Puppy(Dog):\n",
        "  def weep(self):\n",
        "    print(\"Puppy weeps\")\n",
        "\n",
        "p = Puppy()\n",
        "p.sound()\n",
        "p.bark()\n",
        "p.weep()"
      ],
      "metadata": {
        "colab": {
          "base_uri": "https://localhost:8080/"
        },
        "id": "dx4c-1DVrqyu",
        "outputId": "92cc0327-a857-48f5-dcd3-d914639c75db"
      },
      "execution_count": null,
      "outputs": [
        {
          "output_type": "stream",
          "name": "stdout",
          "text": [
            "Animla makes a sound\n",
            "Dog barks\n",
            "Puppy weeps\n"
          ]
        }
      ]
    },
    {
      "cell_type": "markdown",
      "source": [
        "#4. Multiple Inheritance\n",
        "Multiple Inheritance means a class can inherit from more than one parent class.<br>\n",
        "<p>class ChildClass(Parent1, Parent2):<br>\n",
        " * class body </p>"
      ],
      "metadata": {
        "id": "6A92W2xuYOYh"
      }
    },
    {
      "cell_type": "code",
      "source": [
        "class Father:\n",
        "  def skills(self):\n",
        "    print(\"Father: Cooking, Driving\")\n",
        "class Mother:\n",
        "  def skills(self):\n",
        "    print(\"Mother: Painting, Gardening\")\n",
        "class Child(Father, Mother):\n",
        "  pass\n",
        "c = Child()\n",
        "c.skills()"
      ],
      "metadata": {
        "colab": {
          "base_uri": "https://localhost:8080/"
        },
        "id": "ytksz2RyY_75",
        "outputId": "aa860a84-7729-48fc-f4fe-28f4ba36f8fc"
      },
      "execution_count": 42,
      "outputs": [
        {
          "output_type": "stream",
          "name": "stdout",
          "text": [
            "Father: Cooking, Driving\n"
          ]
        }
      ]
    },
    {
      "cell_type": "markdown",
      "source": [
        "<ol><li>Child class inherits from both Father and Mother.</li>\n",
        "<li>But since both have a method called skills(), Python uses the one from the first parent\n",
        "listed (Father) — this is due to the MRO (Method Resolution Order).</li></ol>"
      ],
      "metadata": {
        "id": "IwEWnQz4ZKe5"
      }
    },
    {
      "cell_type": "code",
      "source": [
        "class Father:\n",
        "  def skills(self):\n",
        "    print(\"Father: Cooking, Driving\")\n",
        "\n",
        "class Mother:\n",
        "  def skills(self):\n",
        "    print(\"Mother: Painting, Gardening\")\n",
        "\n",
        "class Child(Father, Mother):\n",
        "  pass\n",
        "\n",
        "c = Child()\n",
        "c.skills() # MRO - Method Resolution Order"
      ],
      "metadata": {
        "colab": {
          "base_uri": "https://localhost:8080/"
        },
        "id": "iXzpui8ZtmRV",
        "outputId": "79eaf839-7ae5-46bd-cd58-49e24a5f5375"
      },
      "execution_count": 43,
      "outputs": [
        {
          "output_type": "stream",
          "name": "stdout",
          "text": [
            "Father: Cooking, Driving\n"
          ]
        }
      ]
    },
    {
      "cell_type": "code",
      "source": [
        "class Father:\n",
        "  def skills(self):\n",
        "    print(\"Father: Programming\")\n",
        "class Mother:\n",
        "  def skills(self):\n",
        "    print(\"Mother: Painting\")\n",
        "class Child(Father, Mother):\n",
        "  def skills(self):\n",
        "    Father.skills(self)\n",
        "    Mother.skills(self)\n",
        "    print(\"Child: Dancing\")\n",
        "# Example\n",
        "c = Child()\n",
        "c.skills()"
      ],
      "metadata": {
        "colab": {
          "base_uri": "https://localhost:8080/"
        },
        "id": "Un13pldsZ8vI",
        "outputId": "7db461bd-e4d6-4cb9-d7d9-5e094c3ae67d"
      },
      "execution_count": 45,
      "outputs": [
        {
          "output_type": "stream",
          "name": "stdout",
          "text": [
            "Father: Programming\n",
            "Mother: Painting\n",
            "Child: Dancing\n"
          ]
        }
      ]
    },
    {
      "cell_type": "code",
      "source": [
        "class Father:\n",
        "  def skills(self):\n",
        "    print(\"Father: Cooking, Driving\")\n",
        "\n",
        "class Mother:\n",
        "  def skills(self):\n",
        "    print(\"Mother: Painting, Gardening\")\n",
        "\n",
        "class Child(Father, Mother):\n",
        "  def skills(self):\n",
        "    Father.skills(self)\n",
        "    Mother.skills(self)\n",
        "    print(\"Child: Dancing\")\n",
        "\n",
        "c = Child()\n",
        "c.skills()"
      ],
      "metadata": {
        "colab": {
          "base_uri": "https://localhost:8080/"
        },
        "id": "fkS0D94buMZ1",
        "outputId": "05ddb3c6-dcaf-4966-bd92-d940439facc6"
      },
      "execution_count": null,
      "outputs": [
        {
          "output_type": "stream",
          "name": "stdout",
          "text": [
            "Father: Cooking, Driving\n",
            "Mother: Painting, Gardening\n",
            "Child: Dancing\n"
          ]
        }
      ]
    },
    {
      "cell_type": "code",
      "source": [
        "# Example with Different Methods\n",
        "class Engine:\n",
        "  def start(self):\n",
        "    print(\"Engine started\")\n",
        "class Battery:\n",
        "  def charge(self):\n",
        "    print(\"Battery charging\")\n",
        "class ElectricCar(Engine, Battery):\n",
        "  pass\n",
        "e = ElectricCar()\n",
        "e.start() # Inherited from Engine\n",
        "e.charge() # Inherited from Battery"
      ],
      "metadata": {
        "colab": {
          "base_uri": "https://localhost:8080/"
        },
        "id": "DPCX53dBZs3B",
        "outputId": "6cdab9b5-ce3a-44ae-92ae-bfe2677edcb5"
      },
      "execution_count": 44,
      "outputs": [
        {
          "output_type": "stream",
          "name": "stdout",
          "text": [
            "Engine started\n",
            "Battery charging\n"
          ]
        }
      ]
    },
    {
      "cell_type": "code",
      "source": [
        "class Engine:\n",
        "  def start(self):\n",
        "    print(\"Engine started\")\n",
        "\n",
        "class Battery:\n",
        "  def charge(self):\n",
        "    print(\"Battery charging\")\n",
        "\n",
        "class ElectricCar(Engine, Battery):\n",
        "  pass\n",
        "\n",
        "e = ElectricCar()\n",
        "e.start()\n",
        "e.charge()"
      ],
      "metadata": {
        "colab": {
          "base_uri": "https://localhost:8080/"
        },
        "id": "9y41pTphvfDM",
        "outputId": "bdb94342-01a4-455c-ba44-d7ca89337dbf"
      },
      "execution_count": null,
      "outputs": [
        {
          "output_type": "stream",
          "name": "stdout",
          "text": [
            "Engine started\n",
            "Battery charging\n"
          ]
        }
      ]
    },
    {
      "cell_type": "markdown",
      "source": [
        "#Methods without self"
      ],
      "metadata": {
        "id": "ffdLAJYhaQX4"
      }
    },
    {
      "cell_type": "code",
      "source": [
        "# If you're accessing or modifying object-specific data (attributes), then self\n",
        "# is used to refer to the instance of the class.\n",
        "class Person:\n",
        "  def __init__(self, name):\n",
        "    self.name = name\n",
        "  def greet(self): # needs self!\n",
        "    print(\"Hello,\", self.name)"
      ],
      "metadata": {
        "id": "BEibrX-8aVFg"
      },
      "execution_count": 49,
      "outputs": []
    },
    {
      "cell_type": "code",
      "source": [
        "# Python automatically passes the object as the first argument, so if there's no\n",
        "#  self parameter\n",
        "class WrongExample:\n",
        "  #staticmethod\n",
        "  def say_hello(): # No self\n",
        "    print(\"Hello\")\n",
        "obj = WrongExample()\n",
        "obj.say_hello()\n",
        "# TypeError: say_hello() takes 0 positional arguments but 1 was given"
      ],
      "metadata": {
        "colab": {
          "base_uri": "https://localhost:8080/",
          "height": 193
        },
        "id": "3am4eyLPahZY",
        "outputId": "6a5ff427-ea28-4c61-d3fb-c8926d3b3a59"
      },
      "execution_count": 50,
      "outputs": [
        {
          "output_type": "error",
          "ename": "TypeError",
          "evalue": "WrongExample.say_hello() takes 0 positional arguments but 1 was given",
          "traceback": [
            "\u001b[0;31m---------------------------------------------------------------------------\u001b[0m",
            "\u001b[0;31mTypeError\u001b[0m                                 Traceback (most recent call last)",
            "\u001b[0;32m<ipython-input-50-b832f239d687>\u001b[0m in \u001b[0;36m<cell line: 0>\u001b[0;34m()\u001b[0m\n\u001b[1;32m      6\u001b[0m     \u001b[0mprint\u001b[0m\u001b[0;34m(\u001b[0m\u001b[0;34m\"Hello\"\u001b[0m\u001b[0;34m)\u001b[0m\u001b[0;34m\u001b[0m\u001b[0;34m\u001b[0m\u001b[0m\n\u001b[1;32m      7\u001b[0m \u001b[0mobj\u001b[0m \u001b[0;34m=\u001b[0m \u001b[0mWrongExample\u001b[0m\u001b[0;34m(\u001b[0m\u001b[0;34m)\u001b[0m\u001b[0;34m\u001b[0m\u001b[0;34m\u001b[0m\u001b[0m\n\u001b[0;32m----> 8\u001b[0;31m \u001b[0mobj\u001b[0m\u001b[0;34m.\u001b[0m\u001b[0msay_hello\u001b[0m\u001b[0;34m(\u001b[0m\u001b[0;34m)\u001b[0m\u001b[0;34m\u001b[0m\u001b[0;34m\u001b[0m\u001b[0m\n\u001b[0m\u001b[1;32m      9\u001b[0m \u001b[0;31m# TypeError: say_hello() takes 0 positional arguments but 1 was given\u001b[0m\u001b[0;34m\u001b[0m\u001b[0;34m\u001b[0m\u001b[0m\n",
            "\u001b[0;31mTypeError\u001b[0m: WrongExample.say_hello() takes 0 positional arguments but 1 was given"
          ]
        }
      ]
    },
    {
      "cell_type": "code",
      "source": [
        "# Typically used when the method works with or modifies the object’s attributes."
      ],
      "metadata": {
        "id": "93faBga-bySf"
      },
      "execution_count": 51,
      "outputs": []
    },
    {
      "cell_type": "code",
      "source": [
        "# Static Method → No self required\n",
        "class MathTools:\n",
        "  @staticmethod\n",
        "  def add(a, b):\n",
        "    return a + b\n",
        "sum_ = MathTools()\n",
        "sum_.add(2,3)\n",
        "#print(MathTools.add(2, 3)) # Output: 5"
      ],
      "metadata": {
        "colab": {
          "base_uri": "https://localhost:8080/"
        },
        "id": "U9h6FK05bzrf",
        "outputId": "b411797f-0581-429f-aafa-3466dff1f1bb"
      },
      "execution_count": 52,
      "outputs": [
        {
          "output_type": "execute_result",
          "data": {
            "text/plain": [
              "5"
            ]
          },
          "metadata": {},
          "execution_count": 52
        }
      ]
    },
    {
      "cell_type": "code",
      "source": [
        "class Math:\n",
        "  def multiply(self, *args):\n",
        "    result = 1\n",
        "    if not args:\n",
        "      return 0\n",
        "    for num in args:\n",
        "      result *= num\n",
        "    return result\n",
        "m = Math()\n",
        "print(m.multiply(5))\n",
        "print(m.multiply(2, 3))\n",
        "print(m.multiply(2, 3, 4))\n",
        "print(m.multiply())"
      ],
      "metadata": {
        "colab": {
          "base_uri": "https://localhost:8080/"
        },
        "id": "oCwaZh48wiLc",
        "outputId": "34f4b408-0db0-49fd-e4d7-50327514e78f"
      },
      "execution_count": null,
      "outputs": [
        {
          "output_type": "stream",
          "name": "stdout",
          "text": [
            "5\n",
            "6\n",
            "24\n",
            "0\n"
          ]
        }
      ]
    },
    {
      "cell_type": "code",
      "source": [
        "class Greeter:\n",
        "  def greet(self, name=None):\n",
        "    if name:\n",
        "      print(f\"Hello, {name}!\")\n",
        "    else:\n",
        "      print(\"Hello, there!\")\n",
        "g = Greeter()\n",
        "g.greet(\"Taimur\")\n",
        "g.greet()"
      ],
      "metadata": {
        "colab": {
          "base_uri": "https://localhost:8080/"
        },
        "id": "xLGUxVeWxplL",
        "outputId": "44add4bf-fc34-4557-bb35-b844255af3d8"
      },
      "execution_count": null,
      "outputs": [
        {
          "output_type": "stream",
          "name": "stdout",
          "text": [
            "Hello, Taimur!\n",
            "Hello, there!\n"
          ]
        }
      ]
    },
    {
      "cell_type": "code",
      "source": [
        "class Animal:\n",
        "  def speak(self):\n",
        "    print(\"Animal makes a sound\")\n",
        "\n",
        "class Dog(Animal):\n",
        "  def speak(self):  # Overrides the same/parent method in child class\n",
        "    print(\"Dog barks\")\n",
        "\n",
        "a = Animal()\n",
        "d = Dog()\n",
        "a.speak() # Print the initial method\n",
        "d.speak() # Print the override method"
      ],
      "metadata": {
        "colab": {
          "base_uri": "https://localhost:8080/"
        },
        "id": "3ufNf3BAyUtp",
        "outputId": "ccfd53ca-d0e2-4d65-f0ac-e4bcddcfafbf"
      },
      "execution_count": null,
      "outputs": [
        {
          "output_type": "stream",
          "name": "stdout",
          "text": [
            "Animal makes a sound\n",
            "Dog barks\n"
          ]
        }
      ]
    },
    {
      "cell_type": "code",
      "source": [
        "class BankAccount:\n",
        "  def __init__(self, owner, balance):\n",
        "    self.owner = owner  # public\n",
        "    self.__balance = balance  # private\n",
        "\n",
        "  def deposit(self, amount):\n",
        "    if amount > 0:\n",
        "      self.__balance += amount\n",
        "      print(f\"Deposited: ${amount}\")\n",
        "    else:\n",
        "      print(\"Invalid amount!\")\n",
        "\n",
        "  def withdraw(self, amount):\n",
        "    if amount > 0:\n",
        "      self.__balance -= amount\n",
        "      print(f\"Withdrawn: ${amount}\")\n",
        "    else:\n",
        "      print(\"Insufficent amount!\")\n",
        "\n",
        "  def get_balance(self):\n",
        "    return self.__balance\n",
        "\n",
        "acc = BankAccount(\"Taimur\", 1000)\n",
        "acc.deposit(500)\n",
        "acc.withdraw(200)\n",
        "print(f\"Current balance: ${acc.get_balance()}\")"
      ],
      "metadata": {
        "id": "C9Hgn46SzcJC",
        "colab": {
          "base_uri": "https://localhost:8080/"
        },
        "outputId": "38903dea-9425-4b23-bf49-17a30e9c931c"
      },
      "execution_count": null,
      "outputs": [
        {
          "output_type": "stream",
          "name": "stdout",
          "text": [
            "Deposited: $500\n",
            "Withdrawn: $200\n",
            "Current balance: $1300\n"
          ]
        }
      ]
    },
    {
      "cell_type": "code",
      "source": [
        "# Trying to access the private variable\n",
        "print(acc.__balance)"
      ],
      "metadata": {
        "colab": {
          "base_uri": "https://localhost:8080/",
          "height": 158
        },
        "id": "idLf8TH-_Pbu",
        "outputId": "d879ff2b-7327-43a2-9f35-1e36ce3a129a"
      },
      "execution_count": null,
      "outputs": [
        {
          "output_type": "error",
          "ename": "AttributeError",
          "evalue": "'BankAccount' object has no attribute '__balance'",
          "traceback": [
            "\u001b[0;31m---------------------------------------------------------------------------\u001b[0m",
            "\u001b[0;31mAttributeError\u001b[0m                            Traceback (most recent call last)",
            "\u001b[0;32m<ipython-input-24-d8b7d352ff42>\u001b[0m in \u001b[0;36m<cell line: 0>\u001b[0;34m()\u001b[0m\n\u001b[1;32m      1\u001b[0m \u001b[0;31m# Trying to access the private variable\u001b[0m\u001b[0;34m\u001b[0m\u001b[0;34m\u001b[0m\u001b[0m\n\u001b[0;32m----> 2\u001b[0;31m \u001b[0mprint\u001b[0m\u001b[0;34m(\u001b[0m\u001b[0macc\u001b[0m\u001b[0;34m.\u001b[0m\u001b[0m__balance\u001b[0m\u001b[0;34m)\u001b[0m\u001b[0;34m\u001b[0m\u001b[0;34m\u001b[0m\u001b[0m\n\u001b[0m",
            "\u001b[0;31mAttributeError\u001b[0m: 'BankAccount' object has no attribute '__balance'"
          ]
        }
      ]
    },
    {
      "cell_type": "code",
      "source": [
        "# Person - class\n",
        "# Student\n",
        "# Employee\n",
        "class Person:\n",
        "  def __init__(self, name, age):\n",
        "    self.name = name\n",
        "    self.age = age\n",
        "\n",
        "  def show(self):\n",
        "    print(f\"Name: {self.name}, Age: {self.age}\")\n",
        "\n",
        "class Student(Person):\n",
        "  def __init__(self, name, age, result):\n",
        "    super().__init__(name, age)\n",
        "    self.result = result\n",
        "  def show(self):\n",
        "    super().show()\n",
        "    print(f\"Result: {self.result:.2f}\")\n",
        "\n",
        "class Employee(Person):\n",
        "  def __init__(self, name, age, salary):\n",
        "    super().__init__(name, age)\n",
        "    self.salary = salary\n",
        "  def show(self):\n",
        "    super().show()\n",
        "    print(f\"Salary: {self.salary}\")\n",
        "\n",
        "p = Person(\"Salim\", 22)\n",
        "p.show()\n",
        "p1= Student(\"Salim\", 22, 3.50)\n",
        "p1.show()\n",
        "p2 = Employee(\"Salim\", 22, 50.000)\n",
        "p2.show()\n"
      ],
      "metadata": {
        "id": "qMV6rVc1AF87",
        "colab": {
          "base_uri": "https://localhost:8080/"
        },
        "outputId": "87ed4288-4e42-4a47-917f-a20d0883eea2"
      },
      "execution_count": 33,
      "outputs": [
        {
          "output_type": "stream",
          "name": "stdout",
          "text": [
            "Name: Salim, Age: 22\n",
            "Name: Salim, Age: 22\n",
            "Result: 3.50\n",
            "Name: Salim, Age: 22\n",
            "Salary: 50.0\n"
          ]
        }
      ]
    },
    {
      "cell_type": "code",
      "source": [
        "class Cat:\n",
        "  def speak(self):\n",
        "    print(\"Meow\")\n",
        "\n",
        "class Dog:\n",
        "  def speak(self):\n",
        "    print(\"Bark\")\n",
        "\n",
        "def animal_sound(animal):\n",
        "  animal.speak()\n",
        "\n",
        "c = Cat()\n",
        "d = Dog()\n",
        "\n",
        "animal_sound(c)\n",
        "animal_sound(d)"
      ],
      "metadata": {
        "colab": {
          "base_uri": "https://localhost:8080/"
        },
        "id": "eyk5wAlgCSwM",
        "outputId": "1407c4bc-0027-4b61-833b-4c31648b7cb0"
      },
      "execution_count": 34,
      "outputs": [
        {
          "output_type": "stream",
          "name": "stdout",
          "text": [
            "Meow\n",
            "Bark\n"
          ]
        }
      ]
    },
    {
      "cell_type": "code",
      "source": [
        "class Payment:\n",
        "  def pay(self, amount):\n",
        "    pass\n",
        "class CashPayment(Payment):\n",
        "  def pay(self, amount):\n",
        "    print(f\"Paid ${amount} in cash.\")\n",
        "class CreditCardPayment(Payment):\n",
        "  def pay(self, amount):\n",
        "    print(f\"Paid ${amount} using credit card.\")\n",
        "class MobilePayment(Payment):\n",
        "  def pay(self, amount):\n",
        "    print(f\"Paid ${amount} via mobile wallet.\")\n",
        "class New(Payment):\n",
        "  def pay(self, amount):\n",
        "    print(f\"Paid ${amount} via New.\")\n",
        "\n",
        "def process_payment(payment_method, amount):\n",
        "  payment_method.pay(amount)\n",
        "\n",
        "cash = CashPayment()\n",
        "card = CreditCardPayment()\n",
        "mobile = MobilePayment()\n",
        "new = New()\n",
        "\n",
        "process_payment(cash, 100)\n",
        "process_payment(card, 200)\n",
        "process_payment(mobile, 150)\n",
        "process_payment(new, 150)"
      ],
      "metadata": {
        "colab": {
          "base_uri": "https://localhost:8080/"
        },
        "id": "bfReyZ5uF2va",
        "outputId": "1832cc74-60eb-431c-ab9c-57f3a8b27adc"
      },
      "execution_count": 36,
      "outputs": [
        {
          "output_type": "stream",
          "name": "stdout",
          "text": [
            "Paid $100 in cash.\n",
            "Paid $200 using credit card.\n",
            "Paid $150 via mobile wallet.\n",
            "Paid $150 via New.\n"
          ]
        }
      ]
    }
  ]
}