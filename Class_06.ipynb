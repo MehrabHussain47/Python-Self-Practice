{
  "nbformat": 4,
  "nbformat_minor": 0,
  "metadata": {
    "colab": {
      "provenance": [],
      "authorship_tag": "ABX9TyMrhmAjl8D6ZB7Zqs+qI4Rt",
      "include_colab_link": true
    },
    "kernelspec": {
      "name": "python3",
      "display_name": "Python 3"
    },
    "language_info": {
      "name": "python"
    }
  },
  "cells": [
    {
      "cell_type": "markdown",
      "metadata": {
        "id": "view-in-github",
        "colab_type": "text"
      },
      "source": [
        "<a href=\"https://colab.research.google.com/github/MehrabHussain47/Python-Self-Practice/blob/master/Class_06.ipynb\" target=\"_parent\"><img src=\"https://colab.research.google.com/assets/colab-badge.svg\" alt=\"Open In Colab\"/></a>"
      ]
    },
    {
      "cell_type": "code",
      "execution_count": 2,
      "metadata": {
        "id": "zk-2ohvVf0qc",
        "colab": {
          "base_uri": "https://localhost:8080/"
        },
        "outputId": "6b687745-3c69-4697-894e-3950a0eec153"
      },
      "outputs": [
        {
          "output_type": "stream",
          "name": "stdout",
          "text": [
            "Hello, my name is Alice and I am 20 years old.\n",
            "Hello, my name is Bob and I am 22 years old.\n"
          ]
        }
      ],
      "source": [
        "class Student:\n",
        "  def __init__(self, name, age):\n",
        "    self.name = name  # object's name\n",
        "    self.age = age    # object's age\n",
        "\n",
        "  def greet(self):\n",
        "    print(f\"Hello, my name is {self.name} and I am {self.age} years old.\")\n",
        "\n",
        "# Two students\n",
        "s1 = Student(\"Alice\", 20)\n",
        "s2 = Student(\"Bob\", 22)\n",
        "\n",
        "s1.greet()\n",
        "s2.greet()"
      ]
    },
    {
      "cell_type": "code",
      "source": [
        "class Car:\n",
        "  def __init__(this, brand, color):\n",
        "    this.brand = brand\n",
        "    this.color = color\n",
        "\n",
        "  def show_brand(this, weight):\n",
        "    print(\"Brand is: \", this.brand)\n",
        "    print(\"Brand weight is: \", weight)\n",
        "\n",
        "  def show_color(this):\n",
        "    print(\"Color is: \", this.color)\n",
        "\n",
        "c = Car(\"Toyota\", \"Red\")\n",
        "c.show_brand(10)\n",
        "c.show_color()"
      ],
      "metadata": {
        "colab": {
          "base_uri": "https://localhost:8080/"
        },
        "id": "LFe43F-FnWNR",
        "outputId": "eecbd24d-4c3a-4afd-89d0-33c1026ce3c6"
      },
      "execution_count": 1,
      "outputs": [
        {
          "output_type": "stream",
          "name": "stdout",
          "text": [
            "Brand is:  Toyota\n",
            "Brand weight is:  10\n",
            "Color is:  Red\n"
          ]
        }
      ]
    },
    {
      "cell_type": "code",
      "source": [
        "class Animal:\n",
        "  def sound(self):\n",
        "    print(\"Animal makes a sound\")\n",
        "\n",
        "class Dog(Animal):\n",
        "  def bark(self):\n",
        "    print(\"Dog barks\")\n",
        "\n",
        "d = Dog()\n",
        "d.sound()\n",
        "d.bark()"
      ],
      "metadata": {
        "colab": {
          "base_uri": "https://localhost:8080/"
        },
        "id": "HD9X9IFqsoI_",
        "outputId": "07db89e1-1470-42be-d103-278df012734d"
      },
      "execution_count": 5,
      "outputs": [
        {
          "output_type": "stream",
          "name": "stdout",
          "text": [
            "Animal makes a sound\n",
            "Dog barks\n"
          ]
        }
      ]
    },
    {
      "cell_type": "code",
      "source": [
        "class Animal:\n",
        "  def sound(self):\n",
        "    print(\"Animal makes a sound\")\n",
        "\n",
        "class Dog(Animal):\n",
        "  def bark(self):\n",
        "    print(\"Dog barks\")\n",
        "\n",
        "class Cat(Animal):\n",
        "  def meow(self):\n",
        "    print(\"Cat meows\")\n",
        "\n",
        "d = Dog()\n",
        "d.sound()\n",
        "d.bark()\n",
        "\n",
        "c = Cat()\n",
        "c.sound()\n",
        "c.meow()\n"
      ],
      "metadata": {
        "colab": {
          "base_uri": "https://localhost:8080/"
        },
        "id": "_kS3h5pPnzrL",
        "outputId": "0dc08e43-8062-41e6-a0b3-3762b09819d8"
      },
      "execution_count": 6,
      "outputs": [
        {
          "output_type": "stream",
          "name": "stdout",
          "text": [
            "Animal makes a sound\n",
            "Dog barks\n",
            "Animal makes a sound\n",
            "Cat meows\n"
          ]
        }
      ]
    },
    {
      "cell_type": "code",
      "source": [
        "class Animal:\n",
        "  def sound(self):\n",
        "    print(\"Animla makes a sound\")\n",
        "\n",
        "class Dog(Animal):\n",
        "  def bark(self):\n",
        "    print(\"Dog barks\")\n",
        "\n",
        "class Puppy(Dog):\n",
        "  def weep(self):\n",
        "    print(\"Puppy weeps\")\n",
        "\n",
        "p = Puppy()\n",
        "p.sound()\n",
        "p.bark()\n",
        "p.weep()"
      ],
      "metadata": {
        "colab": {
          "base_uri": "https://localhost:8080/"
        },
        "id": "dx4c-1DVrqyu",
        "outputId": "92cc0327-a857-48f5-dcd3-d914639c75db"
      },
      "execution_count": 8,
      "outputs": [
        {
          "output_type": "stream",
          "name": "stdout",
          "text": [
            "Animla makes a sound\n",
            "Dog barks\n",
            "Puppy weeps\n"
          ]
        }
      ]
    },
    {
      "cell_type": "code",
      "source": [
        "class Father:\n",
        "  def skills(self):\n",
        "    print(\"Father: Cooking, Driving\")\n",
        "\n",
        "class Mother:\n",
        "  def skills(self):\n",
        "    print(\"Mother: Painting, Gardening\")\n",
        "\n",
        "class Child(Father, Mother):\n",
        "  pass\n",
        "\n",
        "c = Child()\n",
        "c.skills() # MRO - Method Resolution Order"
      ],
      "metadata": {
        "colab": {
          "base_uri": "https://localhost:8080/"
        },
        "id": "iXzpui8ZtmRV",
        "outputId": "5ff09df8-508c-4674-c3e8-2bf201a8e57e"
      },
      "execution_count": 12,
      "outputs": [
        {
          "output_type": "stream",
          "name": "stdout",
          "text": [
            "Father: Cooking, Driving\n"
          ]
        }
      ]
    },
    {
      "cell_type": "code",
      "source": [
        "class Father:\n",
        "  def skills(self):\n",
        "    print(\"Father: Cooking, Driving\")\n",
        "\n",
        "class Mother:\n",
        "  def skills(self):\n",
        "    print(\"Mother: Painting, Gardening\")\n",
        "\n",
        "class Child(Father, Mother):\n",
        "  def skills(self):\n",
        "    Father.skills(self)\n",
        "    Mother.skills(self)\n",
        "    print(\"Child: Dancing\")\n",
        "\n",
        "c = Child()\n",
        "c.skills()"
      ],
      "metadata": {
        "colab": {
          "base_uri": "https://localhost:8080/"
        },
        "id": "fkS0D94buMZ1",
        "outputId": "05ddb3c6-dcaf-4966-bd92-d940439facc6"
      },
      "execution_count": 13,
      "outputs": [
        {
          "output_type": "stream",
          "name": "stdout",
          "text": [
            "Father: Cooking, Driving\n",
            "Mother: Painting, Gardening\n",
            "Child: Dancing\n"
          ]
        }
      ]
    },
    {
      "cell_type": "code",
      "source": [
        "class Engine:\n",
        "  def start(self):\n",
        "    print(\"Engine started\")\n",
        "\n",
        "class Battery:\n",
        "  def charge(self):\n",
        "    print(\"Battery charging\")\n",
        "\n",
        "class ElectricCar(Engine, Battery):\n",
        "  pass\n",
        "\n",
        "e = ElectricCar()\n",
        "e.start()\n",
        "e.charge()"
      ],
      "metadata": {
        "colab": {
          "base_uri": "https://localhost:8080/"
        },
        "id": "9y41pTphvfDM",
        "outputId": "bdb94342-01a4-455c-ba44-d7ca89337dbf"
      },
      "execution_count": 14,
      "outputs": [
        {
          "output_type": "stream",
          "name": "stdout",
          "text": [
            "Engine started\n",
            "Battery charging\n"
          ]
        }
      ]
    },
    {
      "cell_type": "code",
      "source": [
        "class Math:\n",
        "  def multiply(self, *args):\n",
        "    result = 1\n",
        "    if not args:\n",
        "      return 0\n",
        "    for num in args:\n",
        "      result *= num\n",
        "    return result\n",
        "m = Math()\n",
        "print(m.multiply(5))\n",
        "print(m.multiply(2, 3))\n",
        "print(m.multiply(2, 3, 4))\n",
        "print(m.multiply())"
      ],
      "metadata": {
        "colab": {
          "base_uri": "https://localhost:8080/"
        },
        "id": "oCwaZh48wiLc",
        "outputId": "34f4b408-0db0-49fd-e4d7-50327514e78f"
      },
      "execution_count": 15,
      "outputs": [
        {
          "output_type": "stream",
          "name": "stdout",
          "text": [
            "5\n",
            "6\n",
            "24\n",
            "0\n"
          ]
        }
      ]
    },
    {
      "cell_type": "code",
      "source": [
        "class Greeter:\n",
        "  def greet(self, name=None):\n",
        "    if name:\n",
        "      print(f\"Hello, {name}!\")\n",
        "    else:\n",
        "      print(\"Hello, there!\")\n",
        "g = Greeter()\n",
        "g.greet(\"Taimur\")\n",
        "g.greet()"
      ],
      "metadata": {
        "colab": {
          "base_uri": "https://localhost:8080/"
        },
        "id": "xLGUxVeWxplL",
        "outputId": "44add4bf-fc34-4557-bb35-b844255af3d8"
      },
      "execution_count": 16,
      "outputs": [
        {
          "output_type": "stream",
          "name": "stdout",
          "text": [
            "Hello, Taimur!\n",
            "Hello, there!\n"
          ]
        }
      ]
    },
    {
      "cell_type": "code",
      "source": [
        "class Animal:\n",
        "  def speak(self):\n",
        "    print(\"Animal makes a sound\")\n",
        "\n",
        "class Dog(Animal):\n",
        "  def speak(self):  # Overrides the same/parent method in child class\n",
        "    print(\"Dog barks\")\n",
        "\n",
        "a = Animal()\n",
        "d = Dog()\n",
        "a.speak() # Print the initial method\n",
        "d.speak() # Print the override method"
      ],
      "metadata": {
        "colab": {
          "base_uri": "https://localhost:8080/"
        },
        "id": "3ufNf3BAyUtp",
        "outputId": "ccfd53ca-d0e2-4d65-f0ac-e4bcddcfafbf"
      },
      "execution_count": 19,
      "outputs": [
        {
          "output_type": "stream",
          "name": "stdout",
          "text": [
            "Animal makes a sound\n",
            "Dog barks\n"
          ]
        }
      ]
    },
    {
      "cell_type": "code",
      "source": [],
      "metadata": {
        "id": "C9Hgn46SzcJC"
      },
      "execution_count": null,
      "outputs": []
    }
  ]
}