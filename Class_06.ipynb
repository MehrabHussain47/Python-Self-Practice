{
  "nbformat": 4,
  "nbformat_minor": 0,
  "metadata": {
    "colab": {
      "provenance": [],
      "authorship_tag": "ABX9TyMp2/lbE1qPBY3xADaAt4eU",
      "include_colab_link": true
    },
    "kernelspec": {
      "name": "python3",
      "display_name": "Python 3"
    },
    "language_info": {
      "name": "python"
    }
  },
  "cells": [
    {
      "cell_type": "markdown",
      "metadata": {
        "id": "view-in-github",
        "colab_type": "text"
      },
      "source": [
        "<a href=\"https://colab.research.google.com/github/MehrabHussain47/Python-Self-Practice/blob/master/Class_06.ipynb\" target=\"_parent\"><img src=\"https://colab.research.google.com/assets/colab-badge.svg\" alt=\"Open In Colab\"/></a>"
      ]
    },
    {
      "cell_type": "code",
      "execution_count": 2,
      "metadata": {
        "id": "zk-2ohvVf0qc",
        "colab": {
          "base_uri": "https://localhost:8080/"
        },
        "outputId": "6b687745-3c69-4697-894e-3950a0eec153"
      },
      "outputs": [
        {
          "output_type": "stream",
          "name": "stdout",
          "text": [
            "Hello, my name is Alice and I am 20 years old.\n",
            "Hello, my name is Bob and I am 22 years old.\n"
          ]
        }
      ],
      "source": [
        "class Student:\n",
        "  def __init__(self, name, age):\n",
        "    self.name = name  # object's name\n",
        "    self.age = age    # object's age\n",
        "\n",
        "  def greet(self):\n",
        "    print(f\"Hello, my name is {self.name} and I am {self.age} years old.\")\n",
        "\n",
        "# Two students\n",
        "s1 = Student(\"Alice\", 20)\n",
        "s2 = Student(\"Bob\", 22)\n",
        "\n",
        "s1.greet()\n",
        "s2.greet()"
      ]
    },
    {
      "cell_type": "code",
      "source": [
        "class Car:\n",
        "  def __init__(this, brand, color):\n",
        "    this.brand = brand\n",
        "    this.color = color\n",
        "\n",
        "  def show_brand(this, weight):\n",
        "    print(\"Brand is: \", this.brand)\n",
        "    print(\"Brand weight is: \", weight)\n",
        "\n",
        "  def show_color(this):\n",
        "    print(\"Color is: \", this.color)\n",
        "\n",
        "c = Car(\"Toyota\", \"Red\")\n",
        "c.show_brand(10)\n",
        "c.show_color()"
      ],
      "metadata": {
        "colab": {
          "base_uri": "https://localhost:8080/"
        },
        "id": "LFe43F-FnWNR",
        "outputId": "eecbd24d-4c3a-4afd-89d0-33c1026ce3c6"
      },
      "execution_count": 1,
      "outputs": [
        {
          "output_type": "stream",
          "name": "stdout",
          "text": [
            "Brand is:  Toyota\n",
            "Brand weight is:  10\n",
            "Color is:  Red\n"
          ]
        }
      ]
    },
    {
      "cell_type": "code",
      "source": [
        "class Animal:\n",
        "  def sound(self):\n",
        "    print(\"Animal makes a sound\")\n",
        "\n",
        "class Dog(Animal):\n",
        "  def bark(self):\n",
        "    print(\"Dog barks\")\n",
        "\n",
        "class Cat(Animal):\n",
        "  def meow(self):\n",
        "    print(\"Dog meows\")\n",
        "\n",
        "d = Dog()\n",
        "d.sound()\n",
        "d.bark()\n",
        "\n",
        "c = Cat()\n",
        "c.sound()\n",
        "c.meow()\n"
      ],
      "metadata": {
        "colab": {
          "base_uri": "https://localhost:8080/"
        },
        "id": "_kS3h5pPnzrL",
        "outputId": "4aa5e8b4-c0c7-45dd-8cff-a900d5ca2e92"
      },
      "execution_count": 2,
      "outputs": [
        {
          "output_type": "stream",
          "name": "stdout",
          "text": [
            "Animal makes a sound\n",
            "Dog barks\n",
            "Animal makes a sound\n",
            "Dog meows\n"
          ]
        }
      ]
    },
    {
      "cell_type": "code",
      "source": [],
      "metadata": {
        "id": "dx4c-1DVrqyu"
      },
      "execution_count": null,
      "outputs": []
    }
  ]
}