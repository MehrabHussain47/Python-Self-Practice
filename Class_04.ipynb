{
  "nbformat": 4,
  "nbformat_minor": 0,
  "metadata": {
    "colab": {
      "provenance": [],
      "authorship_tag": "ABX9TyNuUOdXwyrKq3gehL7vpcr/",
      "include_colab_link": true
    },
    "kernelspec": {
      "name": "python3",
      "display_name": "Python 3"
    },
    "language_info": {
      "name": "python"
    }
  },
  "cells": [
    {
      "cell_type": "markdown",
      "metadata": {
        "id": "view-in-github",
        "colab_type": "text"
      },
      "source": [
        "<a href=\"https://colab.research.google.com/github/MehrabHussain47/Python-Self-Practice/blob/master/Class_04.ipynb\" target=\"_parent\"><img src=\"https://colab.research.google.com/assets/colab-badge.svg\" alt=\"Open In Colab\"/></a>"
      ]
    },
    {
      "cell_type": "markdown",
      "source": [
        "# Set\n",
        "<p>A set is an unordered collection of unique elements.\n",
        "<ol><li>Sets are mutable (can be modified), but they do not allow duplicate values.</li>\n",
        "<li>Sets are defined using curly braces {} or the set() constructor.</li></ol></p>"
      ],
      "metadata": {
        "id": "HvLjclCCsD9Z"
      }
    },
    {
      "cell_type": "code",
      "source": [
        "# Basic Set\n",
        "fruits = {\"apple\", \"banana\", \"cherry\"}\n",
        "print(fruits) # Output: {'apple', 'banana', 'cherry'}"
      ],
      "metadata": {
        "colab": {
          "base_uri": "https://localhost:8080/"
        },
        "id": "qqEFkozxsiXt",
        "outputId": "8f0d68ff-8708-406d-f408-00703f4b5829"
      },
      "execution_count": null,
      "outputs": [
        {
          "output_type": "stream",
          "name": "stdout",
          "text": [
            "{'cherry', 'banana', 'apple'}\n"
          ]
        }
      ]
    },
    {
      "cell_type": "code",
      "source": [
        "# Set with Duplicates (Duplicates will be removed)\n",
        "fruits = {\"apple\", \"banana\", \"cherry\", \"apple\", \"banana\"}\n",
        "print(fruits) # Output: {'apple', 'banana', 'cherry'}"
      ],
      "metadata": {
        "colab": {
          "base_uri": "https://localhost:8080/"
        },
        "id": "x2DmLhZFsps1",
        "outputId": "cfd10c3c-cd2c-4a7f-d985-4563825bef7f"
      },
      "execution_count": null,
      "outputs": [
        {
          "output_type": "stream",
          "name": "stdout",
          "text": [
            "{'cherry', 'banana', 'apple'}\n"
          ]
        }
      ]
    },
    {
      "cell_type": "code",
      "source": [
        "# Creating a Set from a List\n",
        "numbers = set([1, 2, 3, 4, 5])\n",
        "print(numbers) # Output: {1, 2, 3, 4, 5}"
      ],
      "metadata": {
        "colab": {
          "base_uri": "https://localhost:8080/"
        },
        "id": "q1T-G_tPsuE8",
        "outputId": "0c385cff-9095-4fbe-822e-24eefe375fb5"
      },
      "execution_count": null,
      "outputs": [
        {
          "output_type": "stream",
          "name": "stdout",
          "text": [
            "{1, 2, 3, 4, 5}\n"
          ]
        }
      ]
    },
    {
      "cell_type": "code",
      "execution_count": null,
      "metadata": {
        "id": "bqbm5Q-SquVS"
      },
      "outputs": [],
      "source": [
        "fruits = {\"apple\", \"banana\", \"cherry\", \"banana\"}"
      ]
    },
    {
      "cell_type": "code",
      "source": [
        "type(fruits)"
      ],
      "metadata": {
        "colab": {
          "base_uri": "https://localhost:8080/"
        },
        "id": "XfI-lNohtaJq",
        "outputId": "602c2866-d9cc-4e76-8f3e-5c96d3ff771d"
      },
      "execution_count": null,
      "outputs": [
        {
          "output_type": "execute_result",
          "data": {
            "text/plain": [
              "set"
            ]
          },
          "metadata": {},
          "execution_count": 2
        }
      ]
    },
    {
      "cell_type": "code",
      "source": [
        "print(fruits)"
      ],
      "metadata": {
        "colab": {
          "base_uri": "https://localhost:8080/"
        },
        "id": "8lyACm1Wtci4",
        "outputId": "caae94e1-f6e0-4789-8cc9-0b2c33f26de2"
      },
      "execution_count": null,
      "outputs": [
        {
          "output_type": "stream",
          "name": "stdout",
          "text": [
            "{'cherry', 'banana', 'apple'}\n"
          ]
        }
      ]
    },
    {
      "cell_type": "markdown",
      "source": [
        "<p><ol><li>add() Adds an element to the set.</li>\n",
        "<li>clear() Removes all elements from the set.</li>\n",
        "<li>copy() Returns a shallow copy of the set.</li>\n",
        "<li>discard() Removes an element if it exists (does not raise an error).</li>\n",
        "<li>remove() Removes an element (raises an error if element is not found).</li>\n",
        "<li>union() Returns a new set with all elements from both sets.</li>\n",
        "<li>intersection() Returns a new set with elements common to both sets.</li>\n",
        "<li>difference() Returns a new set with elements in the first set but not in the second.</li>\n",
        "<li>symmetric_difference() – Items in either set, but not both.</li>\n",
        "<li>issubset() Checks if the set is a subset of another set.</li>\n",
        "<li>issuperset() Checks if the set is a superset of another set.</li></ol></p>"
      ],
      "metadata": {
        "id": "ysUU5hhRs3ek"
      }
    },
    {
      "cell_type": "code",
      "source": [
        "# add() – Add an element\n",
        "fruits = {\"apple\", \"banana\"}\n",
        "fruits.add(\"cherry\")\n",
        "print(fruits) # Output: {'apple', 'banana', 'cherry'}"
      ],
      "metadata": {
        "colab": {
          "base_uri": "https://localhost:8080/"
        },
        "id": "NSKHRro6s3Bk",
        "outputId": "361c616a-7061-4c95-8b9d-2d02c20a622b"
      },
      "execution_count": null,
      "outputs": [
        {
          "output_type": "stream",
          "name": "stdout",
          "text": [
            "{'cherry', 'banana', 'apple'}\n"
          ]
        }
      ]
    },
    {
      "cell_type": "code",
      "source": [
        "# clear() – Remove all elements\n",
        "fruits = {\"apple\", \"banana\", \"cherry\"}\n",
        "fruits.clear()\n",
        "print(fruits) # Output: set()"
      ],
      "metadata": {
        "colab": {
          "base_uri": "https://localhost:8080/"
        },
        "id": "IKJa_WMst3hl",
        "outputId": "a66ad363-528e-4383-c7ef-67221c7d0899"
      },
      "execution_count": null,
      "outputs": [
        {
          "output_type": "stream",
          "name": "stdout",
          "text": [
            "set()\n"
          ]
        }
      ]
    },
    {
      "cell_type": "code",
      "source": [
        "# copy() – Copy a set\n",
        "fruits = {\"apple\", \"banana\", \"cherry\"}\n",
        "fruits_copy = fruits.copy()\n",
        "print(fruits_copy) # Output: {'apple', 'banana', 'cherry'}"
      ],
      "metadata": {
        "colab": {
          "base_uri": "https://localhost:8080/"
        },
        "id": "ZjDJetYQt8NM",
        "outputId": "b4262fbc-8224-4bef-bf18-02c2a97e74f9"
      },
      "execution_count": null,
      "outputs": [
        {
          "output_type": "stream",
          "name": "stdout",
          "text": [
            "{'cherry', 'banana', 'apple'}\n"
          ]
        }
      ]
    },
    {
      "cell_type": "code",
      "source": [
        "# discard() – Remove an element (if exists)\n",
        "fruits = {\"apple\", \"banana\", \"cherry\"}\n",
        "fruits.discard(\"banana\")\n",
        "print(fruits) # Output: {'apple', 'cherry'}"
      ],
      "metadata": {
        "colab": {
          "base_uri": "https://localhost:8080/"
        },
        "id": "mwfS7y60uGLE",
        "outputId": "2eb4634b-02f3-4acd-b44f-32a8638e0cb9"
      },
      "execution_count": null,
      "outputs": [
        {
          "output_type": "stream",
          "name": "stdout",
          "text": [
            "{'cherry', 'apple'}\n"
          ]
        }
      ]
    },
    {
      "cell_type": "code",
      "source": [
        "# remove() – Remove an element (raises error if element doesn't exist)\n",
        "fruits = {\"apple\", \"banana\", \"cherry\"}\n",
        "fruits.remove(\"banana\")\n",
        "print(fruits) # Output: {'apple', 'cherry'}\n",
        "# fruits.remove(\"orange\") # This will raise a KeyError"
      ],
      "metadata": {
        "colab": {
          "base_uri": "https://localhost:8080/"
        },
        "id": "9HyBwcjMuMeM",
        "outputId": "31945f1d-b844-42f4-d70a-c26b45d8ce8c"
      },
      "execution_count": null,
      "outputs": [
        {
          "output_type": "stream",
          "name": "stdout",
          "text": [
            "{'cherry', 'apple'}\n"
          ]
        }
      ]
    },
    {
      "cell_type": "code",
      "source": [
        "# remove() – Remove an element (raises error if element doesn't exist)\n",
        "fruits = {\"apple\", \"banana\", \"cherry\"}\n",
        "fruits.remove(\"banana\")\n",
        "#print(fruits) # Output: {'apple', 'cherry'}\n",
        "fruits.remove(\"orange\") # This will raise a KeyError"
      ],
      "metadata": {
        "colab": {
          "base_uri": "https://localhost:8080/",
          "height": 176
        },
        "id": "AWlgoEQAuVzM",
        "outputId": "feecc47d-ca67-4df8-a8e3-5b3430478cbb"
      },
      "execution_count": null,
      "outputs": [
        {
          "output_type": "error",
          "ename": "KeyError",
          "evalue": "'orange'",
          "traceback": [
            "\u001b[0;31m---------------------------------------------------------------------------\u001b[0m",
            "\u001b[0;31mKeyError\u001b[0m                                  Traceback (most recent call last)",
            "\u001b[0;32m<ipython-input-9-73399f4bc167>\u001b[0m in \u001b[0;36m<cell line: 0>\u001b[0;34m()\u001b[0m\n\u001b[1;32m      3\u001b[0m \u001b[0mfruits\u001b[0m\u001b[0;34m.\u001b[0m\u001b[0mremove\u001b[0m\u001b[0;34m(\u001b[0m\u001b[0;34m\"banana\"\u001b[0m\u001b[0;34m)\u001b[0m\u001b[0;34m\u001b[0m\u001b[0;34m\u001b[0m\u001b[0m\n\u001b[1;32m      4\u001b[0m \u001b[0;31m#print(fruits) # Output: {'apple', 'cherry'}\u001b[0m\u001b[0;34m\u001b[0m\u001b[0;34m\u001b[0m\u001b[0m\n\u001b[0;32m----> 5\u001b[0;31m \u001b[0mfruits\u001b[0m\u001b[0;34m.\u001b[0m\u001b[0mremove\u001b[0m\u001b[0;34m(\u001b[0m\u001b[0;34m\"orange\"\u001b[0m\u001b[0;34m)\u001b[0m \u001b[0;31m# This will raise a KeyError\u001b[0m\u001b[0;34m\u001b[0m\u001b[0;34m\u001b[0m\u001b[0m\n\u001b[0m",
            "\u001b[0;31mKeyError\u001b[0m: 'orange'"
          ]
        }
      ]
    },
    {
      "cell_type": "code",
      "source": [
        "# union() – Combine two sets\n",
        "set1 = {1, 2, 3}\n",
        "set2 = {3, 4, 5}\n",
        "union_set = set1.union(set2)\n",
        "print(union_set) # Output: {1, 2, 3, 4, 5}"
      ],
      "metadata": {
        "colab": {
          "base_uri": "https://localhost:8080/"
        },
        "id": "qfiuJmxdue9E",
        "outputId": "cd0c3af3-19a1-4290-c311-45fc1ed584bc"
      },
      "execution_count": null,
      "outputs": [
        {
          "output_type": "stream",
          "name": "stdout",
          "text": [
            "{1, 2, 3, 4, 5}\n"
          ]
        }
      ]
    },
    {
      "cell_type": "code",
      "source": [
        "# intersection() – Get common elements\n",
        "set1 = {1, 2, 3, 4}\n",
        "set2 = {3, 4, 5, 6}\n",
        "intersection_set = set1.intersection(set2)\n",
        "print(intersection_set) # Output: {3, 4}"
      ],
      "metadata": {
        "colab": {
          "base_uri": "https://localhost:8080/"
        },
        "id": "UhsouoF3uoLU",
        "outputId": "711152a1-574d-4d52-b316-4d83ece4e36c"
      },
      "execution_count": null,
      "outputs": [
        {
          "output_type": "stream",
          "name": "stdout",
          "text": [
            "{3, 4}\n"
          ]
        }
      ]
    },
    {
      "cell_type": "code",
      "source": [
        "# difference() – Get elements not in the second set\n",
        "set1 = {1, 2, 3, 4}\n",
        "set2 = {3, 4, 5, 6}\n",
        "difference_set = set1.difference(set2)\n",
        "print(difference_set) # Output: {1, 2}"
      ],
      "metadata": {
        "colab": {
          "base_uri": "https://localhost:8080/"
        },
        "id": "3s3RV43Vur7c",
        "outputId": "8b17f54f-12f9-4a8a-aeb0-f839bc0273e3"
      },
      "execution_count": null,
      "outputs": [
        {
          "output_type": "stream",
          "name": "stdout",
          "text": [
            "{1, 2}\n"
          ]
        }
      ]
    },
    {
      "cell_type": "code",
      "source": [
        "# symmetric_difference() – Items in either set, but not both\n",
        "set1 = {1, 2, 3, 4}\n",
        "set2 = {3, 4, 5, 6}\n",
        "difference_set = set1.symmetric_difference(set2)\n",
        "print(difference_set) # Output: {1, 2, 5, 6}"
      ],
      "metadata": {
        "colab": {
          "base_uri": "https://localhost:8080/"
        },
        "id": "DuvfGVDbuvoE",
        "outputId": "0af2e834-e64e-44c5-bba1-8f8f160c4219"
      },
      "execution_count": null,
      "outputs": [
        {
          "output_type": "stream",
          "name": "stdout",
          "text": [
            "{1, 2, 5, 6}\n"
          ]
        }
      ]
    },
    {
      "cell_type": "code",
      "source": [
        "# issubset() – Check if the set is a subset of another\n",
        "set1 = {1, 2}\n",
        "set2 = {1, 2, 3, 4}\n",
        "print(set1.issubset(set2)) # Output: True"
      ],
      "metadata": {
        "colab": {
          "base_uri": "https://localhost:8080/"
        },
        "id": "OOBlAEpquzHs",
        "outputId": "18b8ca45-56ef-41d1-e844-13bddda2d0cc"
      },
      "execution_count": null,
      "outputs": [
        {
          "output_type": "stream",
          "name": "stdout",
          "text": [
            "True\n"
          ]
        }
      ]
    },
    {
      "cell_type": "code",
      "source": [
        "# issuperset() – Check if the set is a superset of another\n",
        "set1 = {1, 2, 3, 4}\n",
        "set2 = {1, 2}\n",
        "print(set1.issuperset(set2)) # Output: True"
      ],
      "metadata": {
        "colab": {
          "base_uri": "https://localhost:8080/"
        },
        "id": "a2bLXjfFu2ij",
        "outputId": "fe979da0-7a94-4bc8-9163-5f77f8956fa6"
      },
      "execution_count": null,
      "outputs": [
        {
          "output_type": "stream",
          "name": "stdout",
          "text": [
            "True\n"
          ]
        }
      ]
    },
    {
      "cell_type": "code",
      "source": [
        "fruits.add(\"mango\")"
      ],
      "metadata": {
        "id": "Z4TzAnbUttqg"
      },
      "execution_count": null,
      "outputs": []
    },
    {
      "cell_type": "code",
      "source": [
        "print(fruits)"
      ],
      "metadata": {
        "colab": {
          "base_uri": "https://localhost:8080/"
        },
        "id": "UTdk7JipuFfg",
        "outputId": "191b6f70-a8d7-45d5-be93-e7451fce0c86"
      },
      "execution_count": null,
      "outputs": [
        {
          "output_type": "stream",
          "name": "stdout",
          "text": [
            "{'cherry', 'banana', 'mango', 'apple'}\n"
          ]
        }
      ]
    },
    {
      "cell_type": "code",
      "source": [
        "fruits.clear()"
      ],
      "metadata": {
        "id": "LfjL3bu_uIRI"
      },
      "execution_count": null,
      "outputs": []
    },
    {
      "cell_type": "code",
      "source": [
        "print(fruits)"
      ],
      "metadata": {
        "colab": {
          "base_uri": "https://localhost:8080/"
        },
        "id": "lb4U_ubfuPig",
        "outputId": "e0622c63-f959-4a16-ea5a-56c040a3e2a7"
      },
      "execution_count": null,
      "outputs": [
        {
          "output_type": "stream",
          "name": "stdout",
          "text": [
            "set()\n"
          ]
        }
      ]
    },
    {
      "cell_type": "code",
      "source": [
        "fruits = {\"apple\", \"banana\", \"cherry\"}\n",
        "\n",
        "copy_fruits = fruits.copy()"
      ],
      "metadata": {
        "id": "0ZWxrhIKuR7f"
      },
      "execution_count": null,
      "outputs": []
    },
    {
      "cell_type": "code",
      "source": [
        "print(copy_fruits)"
      ],
      "metadata": {
        "colab": {
          "base_uri": "https://localhost:8080/"
        },
        "id": "2WT2kMZhuhPY",
        "outputId": "3703f49e-4215-4f7e-ca44-1570b3a228bd"
      },
      "execution_count": null,
      "outputs": [
        {
          "output_type": "stream",
          "name": "stdout",
          "text": [
            "{'apple', 'banana', 'cherry'}\n"
          ]
        }
      ]
    },
    {
      "cell_type": "code",
      "source": [
        "fruits = {\"apple\", \"banana\", \"cherry\"}"
      ],
      "metadata": {
        "id": "7u6aI96culbg"
      },
      "execution_count": null,
      "outputs": []
    },
    {
      "cell_type": "code",
      "source": [
        "fruits.discard(\"aap\")"
      ],
      "metadata": {
        "id": "PumwLR93u1x3"
      },
      "execution_count": null,
      "outputs": []
    },
    {
      "cell_type": "code",
      "source": [
        "print(fruits)"
      ],
      "metadata": {
        "colab": {
          "base_uri": "https://localhost:8080/"
        },
        "id": "y8uikPrvvDE_",
        "outputId": "45013179-33b1-4241-e03f-1c36ee7b47e0"
      },
      "execution_count": null,
      "outputs": [
        {
          "output_type": "stream",
          "name": "stdout",
          "text": [
            "{'cherry', 'banana', 'apple'}\n"
          ]
        }
      ]
    },
    {
      "cell_type": "code",
      "source": [
        "fruits.remove(\"aap\")"
      ],
      "metadata": {
        "colab": {
          "base_uri": "https://localhost:8080/",
          "height": 141
        },
        "id": "bvUGdlcAvFrX",
        "outputId": "406db045-a8df-461c-f2ba-29d166e6cc52"
      },
      "execution_count": null,
      "outputs": [
        {
          "output_type": "error",
          "ename": "KeyError",
          "evalue": "'aap'",
          "traceback": [
            "\u001b[0;31m---------------------------------------------------------------------------\u001b[0m",
            "\u001b[0;31mKeyError\u001b[0m                                  Traceback (most recent call last)",
            "\u001b[0;32m<ipython-input-14-e776f49e990a>\u001b[0m in \u001b[0;36m<cell line: 0>\u001b[0;34m()\u001b[0m\n\u001b[0;32m----> 1\u001b[0;31m \u001b[0mfruits\u001b[0m\u001b[0;34m.\u001b[0m\u001b[0mremove\u001b[0m\u001b[0;34m(\u001b[0m\u001b[0;34m\"aap\"\u001b[0m\u001b[0;34m)\u001b[0m\u001b[0;34m\u001b[0m\u001b[0;34m\u001b[0m\u001b[0m\n\u001b[0m",
            "\u001b[0;31mKeyError\u001b[0m: 'aap'"
          ]
        }
      ]
    },
    {
      "cell_type": "code",
      "source": [
        "print(dir(list))"
      ],
      "metadata": {
        "colab": {
          "base_uri": "https://localhost:8080/"
        },
        "id": "Rck39A6CvROI",
        "outputId": "907602af-0139-49f2-a39d-0354ad85f468"
      },
      "execution_count": null,
      "outputs": [
        {
          "output_type": "stream",
          "name": "stdout",
          "text": [
            "['__add__', '__class__', '__class_getitem__', '__contains__', '__delattr__', '__delitem__', '__dir__', '__doc__', '__eq__', '__format__', '__ge__', '__getattribute__', '__getitem__', '__getstate__', '__gt__', '__hash__', '__iadd__', '__imul__', '__init__', '__init_subclass__', '__iter__', '__le__', '__len__', '__lt__', '__mul__', '__ne__', '__new__', '__reduce__', '__reduce_ex__', '__repr__', '__reversed__', '__rmul__', '__setattr__', '__setitem__', '__sizeof__', '__str__', '__subclasshook__', 'append', 'clear', 'copy', 'count', 'extend', 'index', 'insert', 'pop', 'remove', 'reverse', 'sort']\n"
          ]
        }
      ]
    },
    {
      "cell_type": "code",
      "source": [
        "print(dir(set))"
      ],
      "metadata": {
        "colab": {
          "base_uri": "https://localhost:8080/"
        },
        "id": "9xUUaWTmvuR_",
        "outputId": "be2c73c5-7a0d-4b92-f05c-08b19d605700"
      },
      "execution_count": null,
      "outputs": [
        {
          "output_type": "stream",
          "name": "stdout",
          "text": [
            "['__and__', '__class__', '__class_getitem__', '__contains__', '__delattr__', '__dir__', '__doc__', '__eq__', '__format__', '__ge__', '__getattribute__', '__getstate__', '__gt__', '__hash__', '__iand__', '__init__', '__init_subclass__', '__ior__', '__isub__', '__iter__', '__ixor__', '__le__', '__len__', '__lt__', '__ne__', '__new__', '__or__', '__rand__', '__reduce__', '__reduce_ex__', '__repr__', '__ror__', '__rsub__', '__rxor__', '__setattr__', '__sizeof__', '__str__', '__sub__', '__subclasshook__', '__xor__', 'add', 'clear', 'copy', 'difference', 'difference_update', 'discard', 'intersection', 'intersection_update', 'isdisjoint', 'issubset', 'issuperset', 'pop', 'remove', 'symmetric_difference', 'symmetric_difference_update', 'union', 'update']\n"
          ]
        }
      ]
    },
    {
      "cell_type": "code",
      "source": [
        "# suppose we use fruits as a set then we can access any functions by using dot (.) + tab\n",
        "print(fruits)"
      ],
      "metadata": {
        "colab": {
          "base_uri": "https://localhost:8080/"
        },
        "id": "mMERX_cqv4YH",
        "outputId": "d2c85542-507c-4f5c-eef3-44195890dee9"
      },
      "execution_count": null,
      "outputs": [
        {
          "output_type": "stream",
          "name": "stdout",
          "text": [
            "{'cherry', 'banana', 'apple'}\n"
          ]
        }
      ]
    },
    {
      "cell_type": "code",
      "source": [
        "set1 = {1,2,3}\n",
        "set2 = {3,4,5}\n",
        "\n",
        "union_set = set1.union(set2)"
      ],
      "metadata": {
        "id": "ze31ku3IxVkG"
      },
      "execution_count": null,
      "outputs": []
    },
    {
      "cell_type": "code",
      "source": [
        "print(union_set)"
      ],
      "metadata": {
        "colab": {
          "base_uri": "https://localhost:8080/"
        },
        "id": "y5kbbCvFx1y3",
        "outputId": "21006bca-3bf8-42ca-be27-38832da8d579"
      },
      "execution_count": null,
      "outputs": [
        {
          "output_type": "stream",
          "name": "stdout",
          "text": [
            "{1, 2, 3, 4, 5}\n"
          ]
        }
      ]
    },
    {
      "cell_type": "code",
      "source": [
        "a = [1, 2, 3, 5, 6, 7, 2, 3]\n",
        "print(a)\n",
        "b = set(a)"
      ],
      "metadata": {
        "colab": {
          "base_uri": "https://localhost:8080/"
        },
        "id": "g6lBum9Vx4P_",
        "outputId": "333eee2a-c9d6-4e8a-8181-36425c0be464"
      },
      "execution_count": null,
      "outputs": [
        {
          "output_type": "stream",
          "name": "stdout",
          "text": [
            "[1, 2, 3, 5, 6, 7, 2, 3]\n"
          ]
        }
      ]
    },
    {
      "cell_type": "code",
      "source": [
        "print(len(a))\n",
        "print(b) # this set will print unique values."
      ],
      "metadata": {
        "colab": {
          "base_uri": "https://localhost:8080/"
        },
        "id": "ZZxT9IH5ysXe",
        "outputId": "4197878e-c192-4a16-d084-f71decd09031"
      },
      "execution_count": null,
      "outputs": [
        {
          "output_type": "stream",
          "name": "stdout",
          "text": [
            "8\n",
            "{1, 2, 3, 5, 6, 7}\n"
          ]
        }
      ]
    },
    {
      "cell_type": "code",
      "source": [
        "len(b)"
      ],
      "metadata": {
        "colab": {
          "base_uri": "https://localhost:8080/"
        },
        "id": "q16Xu_yEy1L2",
        "outputId": "acc867fb-7594-4deb-85df-d624081dd5d3"
      },
      "execution_count": null,
      "outputs": [
        {
          "output_type": "execute_result",
          "data": {
            "text/plain": [
              "6"
            ]
          },
          "metadata": {},
          "execution_count": 23
        }
      ]
    },
    {
      "cell_type": "code",
      "source": [
        "len(a) - len(b)"
      ],
      "metadata": {
        "colab": {
          "base_uri": "https://localhost:8080/"
        },
        "id": "2Dm1NPcTy5HW",
        "outputId": "69437d42-b921-4e0e-f653-36f404faac34"
      },
      "execution_count": null,
      "outputs": [
        {
          "output_type": "execute_result",
          "data": {
            "text/plain": [
              "2"
            ]
          },
          "metadata": {},
          "execution_count": 26
        }
      ]
    },
    {
      "cell_type": "code",
      "source": [
        "c = list(b)"
      ],
      "metadata": {
        "id": "D3iVswhPzLO2"
      },
      "execution_count": null,
      "outputs": []
    },
    {
      "cell_type": "code",
      "source": [
        "print(c)"
      ],
      "metadata": {
        "colab": {
          "base_uri": "https://localhost:8080/"
        },
        "id": "2VLhysfPzW9m",
        "outputId": "d325b6ae-ca6f-42a4-d8eb-ffbf0d85dbc7"
      },
      "execution_count": null,
      "outputs": [
        {
          "output_type": "stream",
          "name": "stdout",
          "text": [
            "[1, 2, 3, 5, 6, 7]\n"
          ]
        }
      ]
    },
    {
      "cell_type": "code",
      "source": [
        "set1 = {1,2,3}\n",
        "set2 = {3,4,5}\n",
        "\n",
        "inter_set = set1.intersection(set2)"
      ],
      "metadata": {
        "id": "MKqvsz63zYO_"
      },
      "execution_count": null,
      "outputs": []
    },
    {
      "cell_type": "code",
      "source": [
        "print(inter_set)"
      ],
      "metadata": {
        "colab": {
          "base_uri": "https://localhost:8080/"
        },
        "id": "fWgQOZKkzkGl",
        "outputId": "55608321-81cd-4d0b-a6f7-79381da06666"
      },
      "execution_count": null,
      "outputs": [
        {
          "output_type": "stream",
          "name": "stdout",
          "text": [
            "{3}\n"
          ]
        }
      ]
    },
    {
      "cell_type": "code",
      "source": [
        "set1 = {1,2,3}\n",
        "set2 = {3,4,5}\n",
        "\n",
        "diff_set = set1.difference(set2)"
      ],
      "metadata": {
        "id": "O261OUiIzl8e"
      },
      "execution_count": null,
      "outputs": []
    },
    {
      "cell_type": "code",
      "source": [
        "print(diff_set)"
      ],
      "metadata": {
        "colab": {
          "base_uri": "https://localhost:8080/"
        },
        "id": "mFtttEOD0ExG",
        "outputId": "b9de5186-fc9d-418c-da2e-d8fcd79f601a"
      },
      "execution_count": null,
      "outputs": [
        {
          "output_type": "stream",
          "name": "stdout",
          "text": [
            "{1, 2}\n"
          ]
        }
      ]
    },
    {
      "cell_type": "code",
      "source": [
        "set1 = {1,2,3}\n",
        "set2 = {3,4,5}\n",
        "\n",
        "sym_diff_set = set1.symmetric_difference(set2)"
      ],
      "metadata": {
        "id": "ESXz657O0Id-"
      },
      "execution_count": null,
      "outputs": []
    },
    {
      "cell_type": "code",
      "source": [
        "print(sym_diff_set)"
      ],
      "metadata": {
        "colab": {
          "base_uri": "https://localhost:8080/"
        },
        "id": "_DtpMrCA0V2O",
        "outputId": "efb25bce-a64f-49be-86b3-ccb6a087c359"
      },
      "execution_count": null,
      "outputs": [
        {
          "output_type": "stream",
          "name": "stdout",
          "text": [
            "{1, 2, 4, 5}\n"
          ]
        }
      ]
    },
    {
      "cell_type": "code",
      "source": [
        "set1 = {1, 2}\n",
        "set2 = {1, 2, 3, 4}\n",
        "\n",
        "print(set1.issubset(set2))\n",
        "print(set2.issuperset(set1))"
      ],
      "metadata": {
        "colab": {
          "base_uri": "https://localhost:8080/"
        },
        "id": "4-iUSpKx0ab2",
        "outputId": "4cb95b0d-1273-41ca-c48f-09d6434aa5d6"
      },
      "execution_count": null,
      "outputs": [
        {
          "output_type": "stream",
          "name": "stdout",
          "text": [
            "True\n",
            "True\n"
          ]
        }
      ]
    },
    {
      "cell_type": "markdown",
      "source": [
        "<b>Set Operations</b>"
      ],
      "metadata": {
        "id": "G4lu-QQ-vJAM"
      }
    },
    {
      "cell_type": "code",
      "source": [
        "# Set Union (|)\n",
        "set1 = {1, 2, 3}\n",
        "set2 = {3, 4, 5}\n",
        "union_set = set1 | set2\n",
        "print(union_set) # Output: {1, 2, 3, 4, 5}"
      ],
      "metadata": {
        "colab": {
          "base_uri": "https://localhost:8080/"
        },
        "id": "z1sNNOu4vQQs",
        "outputId": "6d3c26ed-2e4e-4d3f-c416-7272314c8f27"
      },
      "execution_count": null,
      "outputs": [
        {
          "output_type": "stream",
          "name": "stdout",
          "text": [
            "{1, 2, 3, 4, 5}\n"
          ]
        }
      ]
    },
    {
      "cell_type": "code",
      "source": [
        "# Set Intersection (&)\n",
        "set1 = {1, 2, 3}\n",
        "set2 = {3, 4, 5}\n",
        "intersection_set = set1 & set2\n",
        "print(intersection_set) # Output: {3}"
      ],
      "metadata": {
        "colab": {
          "base_uri": "https://localhost:8080/"
        },
        "id": "xz503czmvToU",
        "outputId": "1fe10f85-7610-41c2-bf00-24f2cf641e15"
      },
      "execution_count": null,
      "outputs": [
        {
          "output_type": "stream",
          "name": "stdout",
          "text": [
            "{3}\n"
          ]
        }
      ]
    },
    {
      "cell_type": "code",
      "source": [
        "# Set Difference (-)\n",
        "set1 = {1, 2, 3}\n",
        "set2 = {3, 4, 5}\n",
        "difference_set = set1 - set2\n",
        "print(difference_set) # Output: {1, 2}"
      ],
      "metadata": {
        "colab": {
          "base_uri": "https://localhost:8080/"
        },
        "id": "_xRfc0Lmvbj7",
        "outputId": "19fb84c0-32d8-4a96-ca61-754ca0e279bc"
      },
      "execution_count": null,
      "outputs": [
        {
          "output_type": "stream",
          "name": "stdout",
          "text": [
            "{1, 2}\n"
          ]
        }
      ]
    },
    {
      "cell_type": "code",
      "source": [
        "# Set Systemic Difference (^)\n",
        "set1 = {1, 2, 3}\n",
        "set2 = {3, 4, 5}\n",
        "difference_set = set1 ^ set2\n",
        "print(difference_set) # Output: {1, 2, 4, 5}"
      ],
      "metadata": {
        "colab": {
          "base_uri": "https://localhost:8080/"
        },
        "id": "O9MukcM5vc2E",
        "outputId": "210c89c6-3d62-403d-9e65-58606151880d"
      },
      "execution_count": null,
      "outputs": [
        {
          "output_type": "stream",
          "name": "stdout",
          "text": [
            "{1, 2, 4, 5}\n"
          ]
        }
      ]
    },
    {
      "cell_type": "code",
      "source": [
        "set1 = {1, 2, 3}\n",
        "set2 = {3, 4, 5}\n",
        "\n",
        "print(set1 | set2) # union\n",
        "print(set1 & set2) # intersection\n",
        "print(set1 - set2) # difference\n",
        "print(set1 ^ set2) # symmetric difference"
      ],
      "metadata": {
        "colab": {
          "base_uri": "https://localhost:8080/"
        },
        "id": "Ne178xYf1XPu",
        "outputId": "060c279a-0107-44db-f2d8-de6eb8701a30"
      },
      "execution_count": null,
      "outputs": [
        {
          "output_type": "stream",
          "name": "stdout",
          "text": [
            "{1, 2, 3, 4, 5}\n",
            "{3}\n",
            "{1, 2}\n",
            "{1, 2, 4, 5}\n"
          ]
        }
      ]
    },
    {
      "cell_type": "markdown",
      "source": [
        "# Class Assignment :01\n",
        "<p>Course Enrollment Analysis Using Sets Objective: Use set operations to find relationships between student groups. <b>Problem:</b> You\n",
        "are given two sets:<br> course_A = {\"Alice\", \"Bob\", \"Charlie\", \"David\"}<br> course_B = {\"Charlie\", \"Eve\", \"David\", \"Frank\"}<br>\n",
        "Write a\n",
        "program that: <ol><li>Finds students who are enrolled in both courses.</li> <li>Finds students who are enrolled in only Course A.</li> <li>Finds\n",
        "students who are enrolled in either Course A or Course B but not both.</li></ol> <b>Expected Output:</b><ol><li>Enrolled in both courses: {'Charlie',\n",
        "'David'}</li> <li>Only in Course A: {'Alice', 'Bob'}</li> <li>In only one course: {'Alice', 'Bob', 'Eve', 'Frank'}</li></ol></p>"
      ],
      "metadata": {
        "id": "y4vjQQ6vy3qL"
      }
    },
    {
      "cell_type": "code",
      "source": [
        "# Given sets\n",
        "course_A = {\"Alice\", \"Bob\", \"Charlie\", \"David\"}\n",
        "course_B = {\"Charlie\", \"Eve\", \"David\", \"Frank\"}\n",
        "# 1. Enrolled in both courses\n",
        "both_courses = course_A & course_B\n",
        "print(\"Enrolled in both courses:\", both_courses)\n",
        "# 2. Only in Course A\n",
        "only_A = course_A - course_B\n",
        "print(\"Only in Course A:\", only_A)\n",
        "# 3. In only one course\n",
        "only_one = course_A ^ course_B\n",
        "print(\"In only one course:\", only_one)"
      ],
      "metadata": {
        "colab": {
          "base_uri": "https://localhost:8080/"
        },
        "id": "3C0bVXa2zQX7",
        "outputId": "a434b446-7a88-4e9a-f277-7ceaf2e412b1"
      },
      "execution_count": null,
      "outputs": [
        {
          "output_type": "stream",
          "name": "stdout",
          "text": [
            "Enrolled in both courses: {'Charlie', 'David'}\n",
            "Only in Course A: {'Bob', 'Alice'}\n",
            "In only one course: {'Bob', 'Eve', 'Frank', 'Alice'}\n"
          ]
        }
      ]
    },
    {
      "cell_type": "markdown",
      "source": [
        "<p>course_A = {\"Alice\", \"Bob\", \"Charlie\", \"David\"}<br>\n",
        "course_B = {\"Charlie\", \"Eve\", \"David\", \"Frank\"}</p>\n",
        "\n",
        "<b>Write a program that:</b>\n",
        "\n",
        "<p><ol><li>Finds the students who are enrolled in both courses.</li>\n",
        "<li>Finds the students who are enrolled in only course_A.</li>\n",
        "<li>Finds the students who are enrolled in either course_A or course_B but not both</li></ol></p>"
      ],
      "metadata": {
        "id": "4o1sJPjW3_X9"
      }
    },
    {
      "cell_type": "code",
      "source": [
        "course_A = {\"Alice\", \"Bob\", \"Charlie\", \"David\"}\n",
        "course_B = {\"Charlie\", \"Eve\", \"David\", \"Frank\"}\n",
        "\n",
        "print(course_A & course_B) # Solution of 1\n",
        "print(course_A - (course_A & course_B)) # Solution of 2\n",
        "# Or,\n",
        "print(course_A - course_B) # Solution of 2\n",
        "print(course_A ^ course_B) # Solution of 3"
      ],
      "metadata": {
        "colab": {
          "base_uri": "https://localhost:8080/"
        },
        "id": "0diCOPbJ1_g9",
        "outputId": "cb92d4d7-d158-4f50-b314-b60ea2873447"
      },
      "execution_count": null,
      "outputs": [
        {
          "output_type": "stream",
          "name": "stdout",
          "text": [
            "{'David', 'Charlie'}\n",
            "{'Bob', 'Alice'}\n",
            "{'Bob', 'Alice'}\n",
            "{'Frank', 'Alice', 'Bob', 'Eve'}\n"
          ]
        }
      ]
    },
    {
      "cell_type": "markdown",
      "source": [
        "# Tuple\n",
        "<p><ol><li>A tuple is a collection of ordered, immutable (unchangeable), and heterogeneous (different data types) elements.</li>\n",
        "<li>Tuples are faster than lists because they are immutable.</li>\n",
        "<li>Tuples are defined using parentheses ().</li></ol>\n",
        "Tuples in Python are immutable, which means you can't change, add, or remove items once the tuple is created. Because of this,\n",
        "tuple methods are very limited compared to lists.</p>"
      ],
      "metadata": {
        "id": "WQ0Qx81Jv2FD"
      }
    },
    {
      "cell_type": "code",
      "source": [
        "# Empty tuple\n",
        "empty_tuple = ()\n",
        "# Tuple with elements\n",
        "numbers = (1, 2, 3, 4)\n",
        "# Tuple with different data types\n",
        "mixed_tuple = (1, \"hello\", 3.14, True)\n",
        "# Tuple with one element (comma is required!)\n",
        "single_element_tuple = (5,)"
      ],
      "metadata": {
        "id": "k4B-61XQweaK"
      },
      "execution_count": null,
      "outputs": []
    },
    {
      "cell_type": "code",
      "source": [
        "# count() – Count occurrences of a value\n",
        "numbers = (1, 2, 3, 2, 2, 4)\n",
        "print(numbers.count(2)) # Output: 3"
      ],
      "metadata": {
        "colab": {
          "base_uri": "https://localhost:8080/"
        },
        "id": "ncuk20UDwibL",
        "outputId": "847301c5-8c66-40c0-abc9-96e11236b6a7"
      },
      "execution_count": null,
      "outputs": [
        {
          "output_type": "stream",
          "name": "stdout",
          "text": [
            "3\n"
          ]
        }
      ]
    },
    {
      "cell_type": "code",
      "source": [
        "# index() – Find the index of a value\n",
        "fruits = (\"apple\", \"banana\", \"cherry\", \"banana\")\n",
        "print(fruits.index(\"banana\")) # Output: 1 (first occurrence)"
      ],
      "metadata": {
        "colab": {
          "base_uri": "https://localhost:8080/"
        },
        "id": "Dt9j_mlowlpb",
        "outputId": "f431441a-2a42-4766-a499-6ace0ce26cdc"
      },
      "execution_count": null,
      "outputs": [
        {
          "output_type": "stream",
          "name": "stdout",
          "text": [
            "1\n"
          ]
        }
      ]
    },
    {
      "cell_type": "code",
      "source": [
        "# Tuple Concatenation\n",
        "tuple1 = (1, 2, 3)\n",
        "tuple2 = (4, 5, 6)\n",
        "result = tuple1 + tuple2\n",
        "print(result) # Output: (1, 2, 3, 4, 5, 6)"
      ],
      "metadata": {
        "colab": {
          "base_uri": "https://localhost:8080/"
        },
        "id": "UrDqSZ8gwrzF",
        "outputId": "f9eaf157-0d1b-4c08-c85a-5dac93050630"
      },
      "execution_count": null,
      "outputs": [
        {
          "output_type": "stream",
          "name": "stdout",
          "text": [
            "(1, 2, 3, 4, 5, 6)\n"
          ]
        }
      ]
    },
    {
      "cell_type": "code",
      "source": [
        "# If you ever need to modify a tuple, you have to convert it to a list first:\n",
        "t = (1, 2, 3)\n",
        "temp = list(t)\n",
        "temp.append(4)\n",
        "t = tuple(temp)\n",
        "print(t) # Output: (1, 2, 3, 4)"
      ],
      "metadata": {
        "colab": {
          "base_uri": "https://localhost:8080/"
        },
        "id": "kuHx1gegwvsj",
        "outputId": "feb7ff3e-94de-4cf0-d74b-66e4559ff96b"
      },
      "execution_count": null,
      "outputs": [
        {
          "output_type": "stream",
          "name": "stdout",
          "text": [
            "(1, 2, 3, 4)\n"
          ]
        }
      ]
    },
    {
      "cell_type": "code",
      "source": [
        "a = (1,2,3,4,5,2,3,4)"
      ],
      "metadata": {
        "id": "XBl_kf3z4xoN"
      },
      "execution_count": null,
      "outputs": []
    },
    {
      "cell_type": "code",
      "source": [
        "type(a)"
      ],
      "metadata": {
        "colab": {
          "base_uri": "https://localhost:8080/"
        },
        "id": "AyYSSBHj90xq",
        "outputId": "37b1cfff-2145-4fef-f17f-129e20e1fda0"
      },
      "execution_count": null,
      "outputs": [
        {
          "output_type": "execute_result",
          "data": {
            "text/plain": [
              "tuple"
            ]
          },
          "metadata": {},
          "execution_count": 61
        }
      ]
    },
    {
      "cell_type": "code",
      "source": [
        "a.count(2)"
      ],
      "metadata": {
        "colab": {
          "base_uri": "https://localhost:8080/"
        },
        "id": "qrcgl-Kq919a",
        "outputId": "2f580628-69a5-4cb9-b1bf-c548d8c87eab"
      },
      "execution_count": null,
      "outputs": [
        {
          "output_type": "execute_result",
          "data": {
            "text/plain": [
              "2"
            ]
          },
          "metadata": {},
          "execution_count": 62
        }
      ]
    },
    {
      "cell_type": "code",
      "source": [
        "a.count(5)"
      ],
      "metadata": {
        "colab": {
          "base_uri": "https://localhost:8080/"
        },
        "id": "HDkhzeRs-Eyz",
        "outputId": "c0344c25-f35e-44b2-bec3-0e63b137ddce"
      },
      "execution_count": null,
      "outputs": [
        {
          "output_type": "execute_result",
          "data": {
            "text/plain": [
              "1"
            ]
          },
          "metadata": {},
          "execution_count": 63
        }
      ]
    },
    {
      "cell_type": "code",
      "source": [
        "a.index(3)"
      ],
      "metadata": {
        "colab": {
          "base_uri": "https://localhost:8080/"
        },
        "id": "Tj7Uiwyf-S-b",
        "outputId": "3b493ca7-901a-47de-a236-072484ac3019"
      },
      "execution_count": null,
      "outputs": [
        {
          "output_type": "execute_result",
          "data": {
            "text/plain": [
              "2"
            ]
          },
          "metadata": {},
          "execution_count": 64
        }
      ]
    },
    {
      "cell_type": "code",
      "source": [
        "a = (1,2,3)\n",
        "b = (4,5,6)\n",
        "print(a+b)"
      ],
      "metadata": {
        "colab": {
          "base_uri": "https://localhost:8080/"
        },
        "id": "dvQqxALb-WAz",
        "outputId": "7ee9efa4-f621-4dd4-a81b-8f68ab61d7c4"
      },
      "execution_count": null,
      "outputs": [
        {
          "output_type": "stream",
          "name": "stdout",
          "text": [
            "(1, 2, 3, 4, 5, 6)\n"
          ]
        }
      ]
    },
    {
      "cell_type": "code",
      "source": [
        "c = a + b"
      ],
      "metadata": {
        "id": "dww8Hdop-jS8"
      },
      "execution_count": null,
      "outputs": []
    },
    {
      "cell_type": "code",
      "source": [
        "print(c)"
      ],
      "metadata": {
        "colab": {
          "base_uri": "https://localhost:8080/"
        },
        "id": "YWbwOi1N-7az",
        "outputId": "6e8d1a6f-0681-4d6b-d402-e0650ccde01a"
      },
      "execution_count": null,
      "outputs": [
        {
          "output_type": "stream",
          "name": "stdout",
          "text": [
            "(1, 2, 3, 4, 5, 6)\n"
          ]
        }
      ]
    },
    {
      "cell_type": "code",
      "source": [
        "d = list(c)"
      ],
      "metadata": {
        "id": "XraaDmgN-85z"
      },
      "execution_count": null,
      "outputs": []
    },
    {
      "cell_type": "code",
      "source": [
        "print(d)"
      ],
      "metadata": {
        "colab": {
          "base_uri": "https://localhost:8080/"
        },
        "id": "MD8RjWtS_CF7",
        "outputId": "9a770eaa-a641-43e9-bb29-5cc5c4b3db31"
      },
      "execution_count": null,
      "outputs": [
        {
          "output_type": "stream",
          "name": "stdout",
          "text": [
            "[1, 2, 3, 4, 5, 6]\n"
          ]
        }
      ]
    },
    {
      "cell_type": "code",
      "source": [
        "d.append(7)"
      ],
      "metadata": {
        "id": "kqUsutE5_Dik"
      },
      "execution_count": null,
      "outputs": []
    },
    {
      "cell_type": "code",
      "source": [
        "e = tuple(d)"
      ],
      "metadata": {
        "id": "inF-To7h_K4L"
      },
      "execution_count": null,
      "outputs": []
    },
    {
      "cell_type": "code",
      "source": [
        "print(e)"
      ],
      "metadata": {
        "colab": {
          "base_uri": "https://localhost:8080/"
        },
        "id": "5DTiqA8u_NTL",
        "outputId": "de808ae8-b72f-4cb2-9d10-7a6a68d60250"
      },
      "execution_count": null,
      "outputs": [
        {
          "output_type": "stream",
          "name": "stdout",
          "text": [
            "(1, 2, 3, 4, 5, 6, 7)\n"
          ]
        }
      ]
    },
    {
      "cell_type": "markdown",
      "source": [
        "<p><ol><li>List: Use when the data will change (e.g., items in a cart).</li>\n",
        "<li>Tuple: Use when data is fixed and should stay the same (e.g., coordinates, dates).</li></ol></p>\n",
        "\n",
        "# Tuple Unpacking (Very useful and common!)"
      ],
      "metadata": {
        "id": "RAxcC2g7w9Aj"
      }
    },
    {
      "cell_type": "code",
      "source": [
        "t = (10, 20, 30)\n",
        "a, b, c = t\n",
        "print(a) # 10\n",
        "print(b) # 20\n",
        "print(c) # 30"
      ],
      "metadata": {
        "colab": {
          "base_uri": "https://localhost:8080/"
        },
        "id": "qGdvrsNaxShr",
        "outputId": "678a71d6-f066-413c-d30d-354e58d12583"
      },
      "execution_count": null,
      "outputs": [
        {
          "output_type": "stream",
          "name": "stdout",
          "text": [
            "10\n",
            "20\n",
            "30\n"
          ]
        }
      ]
    },
    {
      "cell_type": "code",
      "source": [
        "# If you want to unpack a part of a tuple and collect the rest:\n",
        "t = (1, 2, 3, 4, 5)\n",
        "a, *b, c = t\n",
        "print(a) # 1\n",
        "print(b) # [2, 3, 4]\n",
        "print(c) # 5"
      ],
      "metadata": {
        "colab": {
          "base_uri": "https://localhost:8080/"
        },
        "id": "8qU6fev3xXhr",
        "outputId": "fb7afc3a-7753-4f40-d6ea-c7dd4ebb2f6a"
      },
      "execution_count": null,
      "outputs": [
        {
          "output_type": "stream",
          "name": "stdout",
          "text": [
            "1\n",
            "[2, 3, 4]\n",
            "5\n"
          ]
        }
      ]
    },
    {
      "cell_type": "code",
      "source": [
        "t = (10,20,30)\n",
        "\n",
        "a,b,c = t"
      ],
      "metadata": {
        "id": "27RoMNtY_Orr"
      },
      "execution_count": null,
      "outputs": []
    },
    {
      "cell_type": "code",
      "source": [
        "print(a,b,c)"
      ],
      "metadata": {
        "colab": {
          "base_uri": "https://localhost:8080/"
        },
        "id": "UIUbyIQu_hMy",
        "outputId": "34fc9f6b-5df7-43c2-9044-05dc62c8f7c6"
      },
      "execution_count": null,
      "outputs": [
        {
          "output_type": "stream",
          "name": "stdout",
          "text": [
            "10 20 30\n"
          ]
        }
      ]
    },
    {
      "cell_type": "code",
      "source": [
        "t = (10,20,30,40,50,60)\n",
        "\n",
        "a,*b,c = t # I want to store first value in a and last value in c"
      ],
      "metadata": {
        "id": "G3QkesDX_kJS"
      },
      "execution_count": null,
      "outputs": []
    },
    {
      "cell_type": "code",
      "source": [
        "print(a,c)"
      ],
      "metadata": {
        "colab": {
          "base_uri": "https://localhost:8080/"
        },
        "id": "ureJSDME_9TL",
        "outputId": "5b12f5a8-e72e-4cb6-8917-1aadb5620fd3"
      },
      "execution_count": null,
      "outputs": [
        {
          "output_type": "stream",
          "name": "stdout",
          "text": [
            "10 60\n"
          ]
        }
      ]
    },
    {
      "cell_type": "code",
      "source": [
        "print(b)"
      ],
      "metadata": {
        "colab": {
          "base_uri": "https://localhost:8080/"
        },
        "id": "_RKzwNNWABvi",
        "outputId": "484f3375-7c4b-4658-9871-6088a2ff77a3"
      },
      "execution_count": null,
      "outputs": [
        {
          "output_type": "stream",
          "name": "stdout",
          "text": [
            "[20, 30, 40, 50]\n"
          ]
        }
      ]
    },
    {
      "cell_type": "markdown",
      "source": [
        "# Tuple Comparison"
      ],
      "metadata": {
        "id": "eTt3Idj7xjvs"
      }
    },
    {
      "cell_type": "code",
      "source": [
        "# Tuples are compared element by element, from left to right.\n",
        "t1 = (1, 2, 3)\n",
        "t2 = (1, 2, 4)\n",
        "print(t1 == t2) # False (last elements are different)\n",
        "print(t1 < t2) # True (3 < 4)"
      ],
      "metadata": {
        "colab": {
          "base_uri": "https://localhost:8080/"
        },
        "id": "AJjWeXsdxnjT",
        "outputId": "9e089930-56ca-4607-a79e-c8c4286bfde4"
      },
      "execution_count": null,
      "outputs": [
        {
          "output_type": "stream",
          "name": "stdout",
          "text": [
            "False\n",
            "True\n"
          ]
        }
      ]
    },
    {
      "cell_type": "code",
      "source": [
        "# Swapping Values with Tuple Unpacking\n",
        "x, y = 10, 20\n",
        "x, y = y, x\n",
        "print(x, y) # 20, 10"
      ],
      "metadata": {
        "colab": {
          "base_uri": "https://localhost:8080/"
        },
        "id": "ChvAE10WxrWD",
        "outputId": "fe0c0a1c-4c34-4f26-cebc-57f84687be32"
      },
      "execution_count": null,
      "outputs": [
        {
          "output_type": "stream",
          "name": "stdout",
          "text": [
            "20 10\n"
          ]
        }
      ]
    },
    {
      "cell_type": "code",
      "source": [
        "t1 = (1,2,3)\n",
        "t2 = (1,2,4)\n",
        "\n",
        "print(t1 == t2)\n",
        "print(t1 != t2)\n",
        "print(t1 < t2)"
      ],
      "metadata": {
        "colab": {
          "base_uri": "https://localhost:8080/"
        },
        "id": "cGhLceQyAEgK",
        "outputId": "88924a4a-acb7-4d44-b837-ee088a85b233"
      },
      "execution_count": null,
      "outputs": [
        {
          "output_type": "stream",
          "name": "stdout",
          "text": [
            "False\n",
            "True\n",
            "True\n"
          ]
        }
      ]
    },
    {
      "cell_type": "markdown",
      "source": [
        "<b>What is an f-string in Python? An f-string is a formatted string — introduced in Python 3.6 — that allows you to insert variables or\n",
        "expressions directly inside a string using {}.</b>"
      ],
      "metadata": {
        "id": "OI0bxZM5x2pL"
      }
    },
    {
      "cell_type": "code",
      "source": [
        "name = \"Alice\"\n",
        "age = 25\n",
        "print(f\"My name is {name} and I am {age} years old.\")"
      ],
      "metadata": {
        "colab": {
          "base_uri": "https://localhost:8080/"
        },
        "id": "IIxKRHRGx8Xs",
        "outputId": "7dd3411e-4360-4a98-d4e2-d4f49888ef68"
      },
      "execution_count": null,
      "outputs": [
        {
          "output_type": "stream",
          "name": "stdout",
          "text": [
            "My name is Alice and I am 25 years old.\n"
          ]
        }
      ]
    },
    {
      "cell_type": "code",
      "source": [
        "# You Can Use Expressions Too!\n",
        "a = 10\n",
        "b = 5\n",
        "print(f\"The sum of {a} and {b} is {a + b}\")"
      ],
      "metadata": {
        "colab": {
          "base_uri": "https://localhost:8080/"
        },
        "id": "GPWCRNCDyAVz",
        "outputId": "b415992c-3ac5-4754-e2fe-9e4baa320742"
      },
      "execution_count": null,
      "outputs": [
        {
          "output_type": "stream",
          "name": "stdout",
          "text": [
            "The sum of 10 and 5 is 15\n"
          ]
        }
      ]
    },
    {
      "cell_type": "code",
      "source": [
        "# Format Numbers\n",
        "price = 1234.5678\n",
        "print(f\"Price: ${price:.2f}\") # 2 decimal places"
      ],
      "metadata": {
        "colab": {
          "base_uri": "https://localhost:8080/"
        },
        "id": "ICJAogwEyGRr",
        "outputId": "67a36c0d-fae1-4db5-c8c8-4cf1f6f8d824"
      },
      "execution_count": null,
      "outputs": [
        {
          "output_type": "stream",
          "name": "stdout",
          "text": [
            "Price: $1234.57\n"
          ]
        }
      ]
    },
    {
      "cell_type": "code",
      "source": [
        "# Adding Comma for Thousands Separator\n",
        "large_number = 1234567890\n",
        "print(f\"Formatted with commas: {large_number:,}\")"
      ],
      "metadata": {
        "colab": {
          "base_uri": "https://localhost:8080/"
        },
        "id": "ZaqzUSq7yKGb",
        "outputId": "c54faae3-d68f-4ba4-b106-f3084efccdf8"
      },
      "execution_count": null,
      "outputs": [
        {
          "output_type": "stream",
          "name": "stdout",
          "text": [
            "Formatted with commas: 1,234,567,890\n"
          ]
        }
      ]
    },
    {
      "cell_type": "code",
      "source": [
        "# Percentage Formatting\n",
        "percentage = 0.875\n",
        "print(f\"Formatted as percentage: {percentage:.2%}\")"
      ],
      "metadata": {
        "colab": {
          "base_uri": "https://localhost:8080/"
        },
        "id": "zrQpPnSayOnb",
        "outputId": "56e4f76e-e611-4168-f2c9-13eda7f9f31c"
      },
      "execution_count": null,
      "outputs": [
        {
          "output_type": "stream",
          "name": "stdout",
          "text": [
            "Formatted as percentage: 87.50%\n"
          ]
        }
      ]
    },
    {
      "cell_type": "code",
      "source": [
        "# Exponential Notation\n",
        "number = 1234567890\n",
        "print(f\"Exponential form: {number:.2e}\")"
      ],
      "metadata": {
        "colab": {
          "base_uri": "https://localhost:8080/"
        },
        "id": "15uHH94hyTKz",
        "outputId": "37a1b1bd-17b6-4d6a-c490-f8e9c3b07f45"
      },
      "execution_count": null,
      "outputs": [
        {
          "output_type": "stream",
          "name": "stdout",
          "text": [
            "Exponential form: 1.23e+09\n"
          ]
        }
      ]
    },
    {
      "cell_type": "code",
      "source": [
        "num = 1234567890.98765\n",
        "print(f\"With commas: {num:,}\")\n",
        "print(f\"With commas: {num:,.2f}\")\n",
        "print(f\"Rounded to 2 decimals: {num:.2f}\")\n",
        "print(f\"Percentage: {num:.2%}\")\n",
        "print(f\"Scientific: {num:.2e}\")"
      ],
      "metadata": {
        "colab": {
          "base_uri": "https://localhost:8080/"
        },
        "id": "sJm2faEEyZkr",
        "outputId": "2d108079-0e74-4647-d586-f26b192a6e48"
      },
      "execution_count": null,
      "outputs": [
        {
          "output_type": "stream",
          "name": "stdout",
          "text": [
            "With commas: 1,234,567,890.98765\n",
            "With commas: 1,234,567,890.99\n",
            "Rounded to 2 decimals: 1234567890.99\n",
            "Percentage: 123456789098.76%\n",
            "Scientific: 1.23e+09\n"
          ]
        }
      ]
    },
    {
      "cell_type": "markdown",
      "source": [
        "# Class Assignment :02\n",
        "<p><b>Objective:</b> Use tuple unpacking and comparison to manage and compare student data.<br> <b>Problem:</b> You are given a list of students where each student is represented as a tuple:</p>"
      ],
      "metadata": {
        "id": "NX7CSqAE06f6"
      }
    },
    {
      "cell_type": "code",
      "source": [
        "students = [\n",
        "(\"Alice\", 3.75),\n",
        "(\"Bob\", 3.60),\n",
        "(\"Charlie\", 3.90),\n",
        "]\n",
        "# for i in students:\n",
        "# print(i)"
      ],
      "metadata": {
        "id": "urcBGRV11PUK"
      },
      "execution_count": null,
      "outputs": []
    },
    {
      "cell_type": "markdown",
      "source": [
        "<p>Write a program that:\n",
        "<ol><li>Unpacks and prints each student's name and CGPA.</li>\n",
        "<li>Finds the student with the highest CGPA using tuple comparison.</li>\n",
        "<li>Sorts the list based on CGPA in descending order.</li></ol></p>"
      ],
      "metadata": {
        "id": "yfOV2PLo1QwK"
      }
    },
    {
      "cell_type": "code",
      "source": [
        "students = [\n",
        "(\"Alice\", 3.75),\n",
        "(\"Bob\", 3.60),\n",
        "(\"Charlie\", 3.90),\n",
        "]\n",
        "# 1. Unpack and print\n",
        "for name, cgpa in students:\n",
        "  print(f\"Name: {name}, CGPA: {cgpa}\")\n",
        "\n",
        "# 2. Find top student using max()\n",
        "top_student = max(students, key=lambda x: x[1])\n",
        "print(f\"\\nTop student: {top_student[0]} with CGPA {top_student[1]}\")\n",
        "\n",
        "# 3. Sort by CGPA descending\n",
        "sorted_students = sorted(students, key=lambda x: x[1], reverse=True)\n",
        "print(\"\\nSorted List:\")\n",
        "print(sorted_students)"
      ],
      "metadata": {
        "colab": {
          "base_uri": "https://localhost:8080/"
        },
        "id": "tSVsDq8V1nfi",
        "outputId": "66a5f10b-d966-4c17-c046-7330869fde2d"
      },
      "execution_count": null,
      "outputs": [
        {
          "output_type": "stream",
          "name": "stdout",
          "text": [
            "Name: Alice, CGPA: 3.75\n",
            "Name: Bob, CGPA: 3.6\n",
            "Name: Charlie, CGPA: 3.9\n",
            "\n",
            "Top student: Charlie with CGPA 3.9\n",
            "\n",
            "Sorted List:\n",
            "[('Charlie', 3.9), ('Alice', 3.75), ('Bob', 3.6)]\n"
          ]
        }
      ]
    },
    {
      "cell_type": "code",
      "source": [
        "|# f-string\n",
        "print(\"Hello, Sumon!\")"
      ],
      "metadata": {
        "colab": {
          "base_uri": "https://localhost:8080/"
        },
        "id": "5fDx4-BUAusb",
        "outputId": "ddee521b-566f-4f4a-8f50-ce690152bd3f"
      },
      "execution_count": null,
      "outputs": [
        {
          "output_type": "stream",
          "name": "stdout",
          "text": [
            "Hello, Sumon!\n"
          ]
        }
      ]
    },
    {
      "cell_type": "code",
      "source": [
        "str1 = \"Hello\"\n",
        "print(str1)"
      ],
      "metadata": {
        "colab": {
          "base_uri": "https://localhost:8080/"
        },
        "id": "S3VOcbAABIFq",
        "outputId": "c088d884-5e10-479a-f7b3-01921b031779"
      },
      "execution_count": null,
      "outputs": [
        {
          "output_type": "stream",
          "name": "stdout",
          "text": [
            "Hello\n"
          ]
        }
      ]
    },
    {
      "cell_type": "code",
      "source": [
        "name = \"Sumon\"\n",
        "age = 24\n",
        "\n",
        "# String ke varible diye dekhtesi\n",
        "\n",
        "print(f\"My name is {name} and I am {age} years old.\") # IF we use f-string\n",
        "print(\"My name is \" + name  + \" and I am \" + str(age) + \" years old.\") # If we use concatanation"
      ],
      "metadata": {
        "colab": {
          "base_uri": "https://localhost:8080/"
        },
        "id": "GjkmcP5MBNkq",
        "outputId": "3dfb57f1-87a7-44a1-b3b2-5abf341ead8c"
      },
      "execution_count": null,
      "outputs": [
        {
          "output_type": "stream",
          "name": "stdout",
          "text": [
            "My name is Sumon and I am 24 years old.\n",
            "My name is Sumon and I am 24 years old.\n"
          ]
        }
      ]
    },
    {
      "cell_type": "code",
      "source": [
        "a = 10\n",
        "b = 5\n",
        "print(f\"The sum of {a} and {b} is {a+b}\")"
      ],
      "metadata": {
        "colab": {
          "base_uri": "https://localhost:8080/"
        },
        "id": "gbs3glDzBi3K",
        "outputId": "c2947f64-fad8-4f4b-ac56-89a45d2a06f5"
      },
      "execution_count": null,
      "outputs": [
        {
          "output_type": "stream",
          "name": "stdout",
          "text": [
            "The sum of 10 and 5 is 15\n"
          ]
        }
      ]
    },
    {
      "cell_type": "code",
      "source": [
        "price = 123.4567779859\n",
        "print(f\"Price: {price:.2f}\")"
      ],
      "metadata": {
        "colab": {
          "base_uri": "https://localhost:8080/"
        },
        "id": "FsxdhxaWDAuc",
        "outputId": "2accf5d3-2668-4b71-ef6a-8c2623697b60"
      },
      "execution_count": null,
      "outputs": [
        {
          "output_type": "stream",
          "name": "stdout",
          "text": [
            "Price: 123.46\n"
          ]
        }
      ]
    },
    {
      "cell_type": "code",
      "source": [
        "percentage = .45456\n",
        "print(f\"Price: {percentage:.2%}\")"
      ],
      "metadata": {
        "colab": {
          "base_uri": "https://localhost:8080/"
        },
        "id": "3zXL9GmTDpty",
        "outputId": "5506a1f8-063b-4e2e-c429-f8aa3be3c1d2"
      },
      "execution_count": null,
      "outputs": [
        {
          "output_type": "stream",
          "name": "stdout",
          "text": [
            "Price: 45.46%\n"
          ]
        }
      ]
    },
    {
      "cell_type": "code",
      "source": [
        "num = 1234567890.98765\n",
        "print(f\"with commas : {num:,}\")"
      ],
      "metadata": {
        "colab": {
          "base_uri": "https://localhost:8080/"
        },
        "id": "Rj2myT-YD8Vq",
        "outputId": "c0342cfd-b6bf-41d8-a35c-94f19ac73557"
      },
      "execution_count": null,
      "outputs": [
        {
          "output_type": "stream",
          "name": "stdout",
          "text": [
            "with commas : 1,234,567,890.98765\n"
          ]
        }
      ]
    },
    {
      "cell_type": "code",
      "source": [
        "students = {\n",
        "    (\"Alice\", 3.75),\n",
        "    (\"Bob\", 3.60),\n",
        "    (\"Charlie\", 3.90),\n",
        "}"
      ],
      "metadata": {
        "id": "CNvhbpmhEPsC"
      },
      "execution_count": null,
      "outputs": []
    },
    {
      "cell_type": "code",
      "source": [
        "a = [1,2,3]\n",
        "for i in a:\n",
        "  print(i)\n"
      ],
      "metadata": {
        "colab": {
          "base_uri": "https://localhost:8080/"
        },
        "id": "zkqdTkLnFjfx",
        "outputId": "50bc3bd4-a34b-4f2c-ac77-bba967153c1e"
      },
      "execution_count": null,
      "outputs": [
        {
          "output_type": "stream",
          "name": "stdout",
          "text": [
            "1\n",
            "2\n",
            "3\n"
          ]
        }
      ]
    },
    {
      "cell_type": "code",
      "source": [
        "for i in students:\n",
        "  print(i)"
      ],
      "metadata": {
        "colab": {
          "base_uri": "https://localhost:8080/"
        },
        "id": "Xdk3wYdaGsno",
        "outputId": "87eadad6-8c86-4368-f6a9-5063d221b1e0"
      },
      "execution_count": null,
      "outputs": [
        {
          "output_type": "stream",
          "name": "stdout",
          "text": [
            "('Bob', 3.6)\n",
            "('Alice', 3.75)\n",
            "('Charlie', 3.9)\n"
          ]
        }
      ]
    },
    {
      "cell_type": "code",
      "source": [
        "students = {\n",
        "    (\"Alice\", 3.75),\n",
        "    (\"Bob\", 3.60),\n",
        "    (\"Charlie\", 3.90),\n",
        "}\n",
        "for name, cgpa in students:\n",
        "  print(f\"Name: {name}, CGPA: {cgpa}\")"
      ],
      "metadata": {
        "colab": {
          "base_uri": "https://localhost:8080/"
        },
        "id": "gdJeAdzQHApB",
        "outputId": "5e917665-550b-4cae-9b4a-4d54d7269c34"
      },
      "execution_count": 1,
      "outputs": [
        {
          "output_type": "stream",
          "name": "stdout",
          "text": [
            "Name: Bob, CGPA: 3.6\n",
            "Name: Alice, CGPA: 3.75\n",
            "Name: Charlie, CGPA: 3.9\n"
          ]
        }
      ]
    },
    {
      "cell_type": "code",
      "source": [],
      "metadata": {
        "id": "aouVrT2j_2mm"
      },
      "execution_count": null,
      "outputs": []
    }
  ]
}