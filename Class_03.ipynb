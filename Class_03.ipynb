{
  "cells": [
    {
      "cell_type": "markdown",
      "metadata": {
        "id": "view-in-github",
        "colab_type": "text"
      },
      "source": [
        "<a href=\"https://colab.research.google.com/github/MehrabHussain47/Python-Self-Practice/blob/master/Class_03.ipynb\" target=\"_parent\"><img src=\"https://colab.research.google.com/assets/colab-badge.svg\" alt=\"Open In Colab\"/></a>"
      ]
    },
    {
      "cell_type": "markdown",
      "metadata": {
        "id": "9vcfPF1m7Te0"
      },
      "source": [
        "# Data Structure\n",
        "<p>Data structures are ways to organize and store data in a computer so that we can use itefficiently.<br>\n",
        "Common data structures in Python:\n",
        "<ol><li>List – an ordered collection (like a shopping list)</li>\n",
        "<li>Dictionary – a collection of key-value pairs (like a contact list)</li>\n",
        "<li>Set – an unordered collection of unique items</li>\n",
        "<li>Tuple – an ordered, unchangeable collection</li></ol></p>"
      ]
    },
    {
      "cell_type": "markdown",
      "metadata": {
        "id": "ivP5VS6T8Mwd"
      },
      "source": [
        "# List\n",
        "<p>A list in Python is a mutable, ordered collection that can store multiple data types, including numbers, strings, and even other lists. Lists are defined using square brackets [].<br>\n",
        "Use a List (list) When:\n",
        "<ol><li>Data needs to be modified (add, remove, or change elements).</i>\n",
        "<li>Ordering matters and may change over time.</li>\n",
        "<li>Operations like sorting, appending, or filtering are needed.</li>\n",
        "<li>Data is expected to grow (tuples are fixed size).</li></ol></p>"
      ]
    },
    {
      "cell_type": "code",
      "execution_count": null,
      "metadata": {
        "id": "ET35pWRf80v7"
      },
      "outputs": [],
      "source": [
        "# Empty List\n",
        "empty_list = []\n",
        "# List with integers\n",
        "numbers = [1, 2, 3, 4, 5]\n",
        "# List with mixed data types\n",
        "mixed = [10, \"Python\", 3.14, True]\n",
        "# List containing another list (Nested List)\n",
        "nested = [[1, 2], [3, 4], [5, 6]]\n",
        "# List with duplicate values\n",
        "duplicates = [1, 2, 2, 3, 4, 4, 5]"
      ]
    },
    {
      "cell_type": "code",
      "execution_count": null,
      "metadata": {
        "colab": {
          "base_uri": "https://localhost:8080/"
        },
        "id": "rHrjotUh84o8",
        "outputId": "0aa34049-bcb2-4999-9dab-12538aa424fb"
      },
      "outputs": [
        {
          "name": "stdout",
          "output_type": "stream",
          "text": [
            "a\n",
            "d\n"
          ]
        }
      ],
      "source": [
        "my_list = [\"a\", \"b\", \"c\", \"d\"] # List\n",
        "print(my_list[0]) # Output: 'a'\n",
        "print(my_list[-1]) # Output: 'd' (Last element)"
      ]
    },
    {
      "cell_type": "code",
      "execution_count": null,
      "metadata": {
        "colab": {
          "base_uri": "https://localhost:8080/"
        },
        "id": "p-oWDE4m9W8M",
        "outputId": "621f8be4-bfaf-4219-c78d-2968947262b2"
      },
      "outputs": [
        {
          "name": "stdout",
          "output_type": "stream",
          "text": [
            "['b', 'c']\n",
            "['d', 'c', 'b', 'a']\n"
          ]
        }
      ],
      "source": [
        "print(my_list[1:3]) # Output: ['b', 'c'] (From index 1 to 2)\n",
        "print(my_list[::-1]) # Output: ['d', 'c', 'b', 'a'] (Reversed list)"
      ]
    },
    {
      "cell_type": "code",
      "execution_count": null,
      "metadata": {
        "id": "BE1EqvMrYn6v"
      },
      "outputs": [],
      "source": [
        "var = [1,2,3,4,5]"
      ]
    },
    {
      "cell_type": "code",
      "execution_count": null,
      "metadata": {
        "colab": {
          "base_uri": "https://localhost:8080/"
        },
        "id": "PVK7-KflY0Ih",
        "outputId": "fac1b03d-a61b-4e90-dd09-377a178b3115"
      },
      "outputs": [
        {
          "data": {
            "text/plain": [
              "[2, 3]"
            ]
          },
          "execution_count": 2,
          "metadata": {},
          "output_type": "execute_result"
        }
      ],
      "source": [
        "var[1:3]"
      ]
    },
    {
      "cell_type": "code",
      "execution_count": null,
      "metadata": {
        "id": "Ib5sPPkQY4iQ"
      },
      "outputs": [],
      "source": [
        "var = [[1,2],[3,4],[5,6]]"
      ]
    },
    {
      "cell_type": "code",
      "execution_count": null,
      "metadata": {
        "colab": {
          "base_uri": "https://localhost:8080/"
        },
        "id": "Wr5SfSQsZDy3",
        "outputId": "d0631543-68f9-4bb9-c9fd-147057036354"
      },
      "outputs": [
        {
          "data": {
            "text/plain": [
              "[1, 2]"
            ]
          },
          "execution_count": 4,
          "metadata": {},
          "output_type": "execute_result"
        }
      ],
      "source": [
        "var[0]"
      ]
    },
    {
      "cell_type": "markdown",
      "metadata": {
        "id": "nM6Wn_m-9qG8"
      },
      "source": [
        "# Python List Methods\n",
        "<p>Adding Elements</p>"
      ]
    },
    {
      "cell_type": "code",
      "execution_count": null,
      "metadata": {
        "colab": {
          "base_uri": "https://localhost:8080/"
        },
        "id": "oNRmN2fD9xQk",
        "outputId": "6431f55b-5fab-4182-866e-e67bc9aa0892"
      },
      "outputs": [
        {
          "name": "stdout",
          "output_type": "stream",
          "text": [
            "[1, 2, 3, 4]\n"
          ]
        }
      ],
      "source": [
        "# append() – Add an item at the end\n",
        "numbers = [1, 2, 3]\n",
        "numbers.append(4)\n",
        "print(numbers) # Output: [1, 2, 3, 4]"
      ]
    },
    {
      "cell_type": "code",
      "execution_count": null,
      "metadata": {
        "colab": {
          "base_uri": "https://localhost:8080/"
        },
        "id": "946YUm7A90kc",
        "outputId": "a41be97c-7298-4f27-afaa-fe6c8209c8c0"
      },
      "outputs": [
        {
          "name": "stdout",
          "output_type": "stream",
          "text": [
            "[1, 2, 3, [7, 8]]\n"
          ]
        }
      ],
      "source": [
        "# append() – Add an item at the end\n",
        "numbers = [1, 2, 3]\n",
        "numbers.append([7,8])\n",
        "print(numbers)"
      ]
    },
    {
      "cell_type": "code",
      "execution_count": null,
      "metadata": {
        "colab": {
          "base_uri": "https://localhost:8080/"
        },
        "id": "XAWTO93J94k8",
        "outputId": "4c66cba0-1b7e-4363-a918-36f16d3019d0"
      },
      "outputs": [
        {
          "name": "stdout",
          "output_type": "stream",
          "text": [
            "[1, 2, 3, 4, 5, 6]\n"
          ]
        }
      ],
      "source": [
        "# extend() – Merge two lists\n",
        "list1 = [1, 2, 3]\n",
        "list2 = [4, 5, 6]\n",
        "list1.extend(list2)\n",
        "print(list1) # Output: [1, 2, 3, 4, 5, 6]"
      ]
    },
    {
      "cell_type": "code",
      "execution_count": null,
      "metadata": {
        "id": "6dbIA6D39-zE"
      },
      "outputs": [],
      "source": [
        "list1 = [1, 2, 3]\n",
        "list2 = [4, 5, 6]\n",
        "a = list1.extend(list2)"
      ]
    },
    {
      "cell_type": "code",
      "execution_count": null,
      "metadata": {
        "colab": {
          "base_uri": "https://localhost:8080/"
        },
        "id": "PxSIfa70-D48",
        "outputId": "85f5b054-81a8-4130-91ef-43b9eb8a0e2b"
      },
      "outputs": [
        {
          "name": "stdout",
          "output_type": "stream",
          "text": [
            "None\n"
          ]
        }
      ],
      "source": [
        "print(a)"
      ]
    },
    {
      "cell_type": "code",
      "execution_count": null,
      "metadata": {
        "colab": {
          "base_uri": "https://localhost:8080/"
        },
        "id": "N8dzpq9X-M2k",
        "outputId": "fe97681b-3aed-4565-d50a-7d530b0cff87"
      },
      "outputs": [
        {
          "name": "stdout",
          "output_type": "stream",
          "text": [
            "['apple', 'orange', 'banana']\n"
          ]
        }
      ],
      "source": [
        "# insert() – Insert at a specific index\n",
        "fruits = [\"apple\", \"banana\"]\n",
        "fruits.insert(1, \"orange\")\n",
        "print(fruits) # Output: ['apple', 'orange', 'banana']"
      ]
    },
    {
      "cell_type": "code",
      "execution_count": null,
      "metadata": {
        "id": "h5LgKX_cZFsY"
      },
      "outputs": [],
      "source": [
        "# List Methods"
      ]
    },
    {
      "cell_type": "code",
      "execution_count": null,
      "metadata": {
        "colab": {
          "base_uri": "https://localhost:8080/"
        },
        "id": "5JdKPIjBZYJ3",
        "outputId": "537bbed7-6357-400f-dc8e-6e14c1c7e10d"
      },
      "outputs": [
        {
          "name": "stdout",
          "output_type": "stream",
          "text": [
            "[1, 2, 3, 4]\n"
          ]
        }
      ],
      "source": [
        "# Add Methods\n",
        "numbers = [1,2,3]\n",
        "\n",
        "numbers.append(4)\n",
        "\n",
        "print(numbers)"
      ]
    },
    {
      "cell_type": "code",
      "execution_count": null,
      "metadata": {
        "colab": {
          "base_uri": "https://localhost:8080/"
        },
        "id": "9WKiyuZ-ZuvP",
        "outputId": "dcf23c43-768e-4cf9-ea9a-769794078189"
      },
      "outputs": [
        {
          "name": "stdout",
          "output_type": "stream",
          "text": [
            "[1, 2, 3, [7, 8]]\n"
          ]
        }
      ],
      "source": [
        "numbers = [1,2,3]\n",
        "\n",
        "numbers.append([7,8]) # Quiz Question\n",
        "\n",
        "print(numbers)"
      ]
    },
    {
      "cell_type": "code",
      "execution_count": null,
      "metadata": {
        "colab": {
          "base_uri": "https://localhost:8080/"
        },
        "id": "bq8ak10faAVR",
        "outputId": "313a7689-0c44-48dc-e497-d1de9dc7d107"
      },
      "outputs": [
        {
          "name": "stdout",
          "output_type": "stream",
          "text": [
            "[1, 2, 3, 4, 5, 6]\n"
          ]
        }
      ],
      "source": [
        "list1 = [1,2,3]\n",
        "list2 = [4,5,6]\n",
        "\n",
        "list1.extend(list2)\n",
        "print(list1)"
      ]
    },
    {
      "cell_type": "code",
      "execution_count": null,
      "metadata": {
        "colab": {
          "base_uri": "https://localhost:8080/"
        },
        "id": "wUYx7vmDbWhv",
        "outputId": "e81ee71d-ac14-4185-bc6b-99e812e29e24"
      },
      "outputs": [
        {
          "name": "stdout",
          "output_type": "stream",
          "text": [
            "['a', 'c', 'b']\n"
          ]
        }
      ],
      "source": [
        "f = ['a', 'b']\n",
        "f.insert(1, 'c')\n",
        "print(f)"
      ]
    },
    {
      "cell_type": "code",
      "execution_count": null,
      "metadata": {
        "colab": {
          "base_uri": "https://localhost:8080/"
        },
        "id": "CdjRg1F7coaH",
        "outputId": "cbe6db98-3c8d-4d02-d7f2-e66978867138"
      },
      "outputs": [
        {
          "name": "stdout",
          "output_type": "stream",
          "text": [
            "[4, 5, 6, 7, 8]\n"
          ]
        }
      ],
      "source": [
        "a1 = [1,2,3]\n",
        "b1 = [4,6,7,8]\n",
        "\n",
        "b1.insert(1,5)\n",
        "print(b1)"
      ]
    },
    {
      "cell_type": "code",
      "execution_count": null,
      "metadata": {
        "colab": {
          "base_uri": "https://localhost:8080/"
        },
        "id": "ek47btnxdYNn",
        "outputId": "c9786c8d-96ca-4786-ba1f-9e19fe0655c8"
      },
      "outputs": [
        {
          "name": "stdout",
          "output_type": "stream",
          "text": [
            "[1, 2, 3, 4, 5, 6, 7, 8]\n"
          ]
        }
      ],
      "source": [
        "a1.extend(b1)\n",
        "print(a1)"
      ]
    },
    {
      "cell_type": "code",
      "execution_count": null,
      "metadata": {
        "colab": {
          "base_uri": "https://localhost:8080/"
        },
        "id": "iPydk2RpCdnF",
        "outputId": "5d6ee75a-acbc-45c4-cbd9-ba3bdae743ec"
      },
      "outputs": [
        {
          "name": "stdout",
          "output_type": "stream",
          "text": [
            "[1, 2, 3, 4, 5, 6, 7, 8, [4, 5, 6, 7, 8]]\n"
          ]
        }
      ],
      "source": [
        "a1.append(b1)\n",
        "print(a1)"
      ]
    },
    {
      "cell_type": "code",
      "execution_count": null,
      "metadata": {
        "id": "lGnla1k1ft3A"
      },
      "outputs": [],
      "source": [
        "a1 = [1,2,3]\n",
        "b1 = [4,6,7,8]\n",
        "c1 = a1 + b1\n",
        "\n",
        "c1.insert(4,5)"
      ]
    },
    {
      "cell_type": "code",
      "execution_count": null,
      "metadata": {
        "colab": {
          "base_uri": "https://localhost:8080/"
        },
        "id": "GW5YZi1ff_5u",
        "outputId": "9e7b3b34-f608-4ba0-b445-aed0bbfd52c4"
      },
      "outputs": [
        {
          "data": {
            "text/plain": [
              "[1, 2, 3, 4, 5, 6, 7, 8]"
            ]
          },
          "execution_count": 52,
          "metadata": {},
          "output_type": "execute_result"
        }
      ],
      "source": [
        "c1"
      ]
    },
    {
      "cell_type": "markdown",
      "metadata": {
        "id": "qahwEhyeGD6r"
      },
      "source": [
        "<p>Removing Elements</p>"
      ]
    },
    {
      "cell_type": "code",
      "execution_count": null,
      "metadata": {
        "colab": {
          "base_uri": "https://localhost:8080/"
        },
        "id": "-K231nCbHCea",
        "outputId": "8b911f9c-15cc-4c82-a56b-61617f5a6996"
      },
      "outputs": [
        {
          "name": "stdout",
          "output_type": "stream",
          "text": [
            "[1, 2, 3, 5, 3]\n"
          ]
        }
      ],
      "source": [
        "# remove() – Remove first occurance of the item\n",
        "numbers = [1, 2, 3, 3, 5, 3]\n",
        "numbers.remove(3)\n",
        "print(numbers) # Output: []"
      ]
    },
    {
      "cell_type": "code",
      "execution_count": null,
      "metadata": {
        "colab": {
          "base_uri": "https://localhost:8080/"
        },
        "id": "H0PnbgdQHHCC",
        "outputId": "8a94af9d-381f-432b-d6b4-988ca3f52b4a"
      },
      "outputs": [
        {
          "name": "stdout",
          "output_type": "stream",
          "text": [
            "2\n",
            "[1, 3]\n"
          ]
        }
      ],
      "source": [
        "# pop() – Remove and returns item at index i (or last item if index not provided)\n",
        "numbers = [1, 2, 3]\n",
        "removed_item = numbers.pop(1)\n",
        "print(removed_item) # Output: 2\n",
        "print(numbers) # Output: [1, 3]"
      ]
    },
    {
      "cell_type": "code",
      "execution_count": null,
      "metadata": {
        "colab": {
          "base_uri": "https://localhost:8080/"
        },
        "id": "KlPSS-LLHeJh",
        "outputId": "e00ef948-e63e-4f2d-8a80-2ec5ec8151b2"
      },
      "outputs": [
        {
          "name": "stdout",
          "output_type": "stream",
          "text": [
            "3\n",
            "[1, 2]\n"
          ]
        }
      ],
      "source": [
        "# pop() – Remove and returns item at index i (or last item if index not provided)\n",
        "numbers = [1, 2, 3]\n",
        "removed_item = numbers.pop()\n",
        "print(removed_item) # Output: 2\n",
        "print(numbers) # Output: [1, 3]"
      ]
    },
    {
      "cell_type": "code",
      "execution_count": null,
      "metadata": {
        "colab": {
          "base_uri": "https://localhost:8080/"
        },
        "id": "Y7poln0jHiL0",
        "outputId": "313ae914-709e-441b-9307-f450901cd544"
      },
      "outputs": [
        {
          "name": "stdout",
          "output_type": "stream",
          "text": [
            "[]\n"
          ]
        }
      ],
      "source": [
        "# clear() – Remove all elements\n",
        "numbers = [1, 2, 3]\n",
        "numbers.clear()\n",
        "print(numbers) # Output: []"
      ]
    },
    {
      "cell_type": "code",
      "execution_count": null,
      "metadata": {
        "colab": {
          "base_uri": "https://localhost:8080/"
        },
        "id": "83DMJjGlgBOo",
        "outputId": "62ee46e1-0406-4cd1-99dc-90589d86d488"
      },
      "outputs": [
        {
          "data": {
            "text/plain": [
              "[1, 2, 4, 5, 3, 2]"
            ]
          },
          "execution_count": 66,
          "metadata": {},
          "output_type": "execute_result"
        }
      ],
      "source": [
        "# Remove Methods\n",
        "numbers = [1,2,3,4,5,3,2]\n",
        "a = numbers.remove(3)\n",
        "numbers"
      ]
    },
    {
      "cell_type": "code",
      "execution_count": null,
      "metadata": {
        "id": "f5nMgpK5GQ4i"
      },
      "outputs": [],
      "source": [
        "a"
      ]
    },
    {
      "cell_type": "code",
      "execution_count": null,
      "metadata": {
        "colab": {
          "base_uri": "https://localhost:8080/"
        },
        "id": "AGrN5VPiCGcx",
        "outputId": "9720eff4-b12a-497a-d164-c67f719bcabe"
      },
      "outputs": [
        {
          "data": {
            "text/plain": [
              "[1, 2, 3, 4, 3, 2]"
            ]
          },
          "execution_count": 69,
          "metadata": {},
          "output_type": "execute_result"
        }
      ],
      "source": [
        "numbers = [1,2,3,4,5,3,2]\n",
        "a = numbers.pop(4)\n",
        "numbers"
      ]
    },
    {
      "cell_type": "code",
      "execution_count": null,
      "metadata": {
        "colab": {
          "base_uri": "https://localhost:8080/"
        },
        "id": "op379Ep_Gc3a",
        "outputId": "c955b62f-896e-4865-84b5-388403771acf"
      },
      "outputs": [
        {
          "data": {
            "text/plain": [
              "5"
            ]
          },
          "execution_count": 70,
          "metadata": {},
          "output_type": "execute_result"
        }
      ],
      "source": [
        "a"
      ]
    },
    {
      "cell_type": "code",
      "execution_count": null,
      "metadata": {
        "colab": {
          "base_uri": "https://localhost:8080/"
        },
        "id": "nx7bIOOUCQAB",
        "outputId": "25bb3d42-ccda-41ea-9cdc-2ffaab0e73c1"
      },
      "outputs": [
        {
          "data": {
            "text/plain": [
              "[1, 2, 3, 4, 5, 3]"
            ]
          },
          "execution_count": 54,
          "metadata": {},
          "output_type": "execute_result"
        }
      ],
      "source": [
        "numbers = [1,2,3,4,5,3,2]\n",
        "numbers.pop()\n",
        "numbers"
      ]
    },
    {
      "cell_type": "code",
      "execution_count": null,
      "metadata": {
        "colab": {
          "base_uri": "https://localhost:8080/"
        },
        "id": "KvRUtAWTC0vp",
        "outputId": "0b5ce29f-8d8f-4d6b-991e-e52bf446b80a"
      },
      "outputs": [
        {
          "data": {
            "text/plain": [
              "[]"
            ]
          },
          "execution_count": 60,
          "metadata": {},
          "output_type": "execute_result"
        }
      ],
      "source": [
        "a = [1,2,3]\n",
        "a.clear()\n",
        "a"
      ]
    },
    {
      "cell_type": "code",
      "execution_count": null,
      "metadata": {
        "id": "KtXU8TQZEma4"
      },
      "outputs": [],
      "source": [
        "a = [1,2,3,4,5,3,2]"
      ]
    },
    {
      "cell_type": "code",
      "execution_count": null,
      "metadata": {
        "colab": {
          "base_uri": "https://localhost:8080/"
        },
        "id": "YzTDKBZkE7-p",
        "outputId": "e57476ee-f2b6-4570-f966-a0145f93df5e"
      },
      "outputs": [
        {
          "name": "stdout",
          "output_type": "stream",
          "text": [
            "1\n",
            "2\n",
            "3\n",
            "4\n",
            "5\n",
            "3\n",
            "2\n"
          ]
        }
      ],
      "source": [
        "for i in a:\n",
        "  print(i)"
      ]
    },
    {
      "cell_type": "markdown",
      "metadata": {
        "id": "Jx0fR5p3Kkjh"
      },
      "source": [
        "<p>Searching and Counting</p>"
      ]
    },
    {
      "cell_type": "code",
      "execution_count": null,
      "metadata": {
        "colab": {
          "base_uri": "https://localhost:8080/"
        },
        "id": "96IqMgM4KqHh",
        "outputId": "f2d98706-9d1c-4ebf-cc23-3d85f0661389"
      },
      "outputs": [
        {
          "name": "stdout",
          "output_type": "stream",
          "text": [
            "1\n"
          ]
        }
      ],
      "source": [
        "# index() – Find the position of an item\n",
        "fruits = [\"apple\", \"banana\", \"cherry\"]\n",
        "print(fruits.index(\"banana\")) # Output: 1"
      ]
    },
    {
      "cell_type": "code",
      "execution_count": null,
      "metadata": {
        "colab": {
          "base_uri": "https://localhost:8080/"
        },
        "id": "CPZf-0HbKuda",
        "outputId": "3e4cbee7-b072-41a1-8e44-f1bd2bf7e86f"
      },
      "outputs": [
        {
          "data": {
            "text/plain": [
              "1"
            ]
          },
          "execution_count": 87,
          "metadata": {},
          "output_type": "execute_result"
        }
      ],
      "source": [
        "a = [1,2,3,4,5,2,3]\n",
        "a.index(2)"
      ]
    },
    {
      "cell_type": "code",
      "execution_count": null,
      "metadata": {
        "colab": {
          "base_uri": "https://localhost:8080/"
        },
        "id": "UKD3-G4IKyWi",
        "outputId": "d5b580c2-f4a7-48e4-cc70-e6d643ae8c7e"
      },
      "outputs": [
        {
          "name": "stdout",
          "output_type": "stream",
          "text": [
            "3\n"
          ]
        }
      ],
      "source": [
        "# count() – Count occurrences\n",
        "numbers = [1, 2, 2, 3, 2]\n",
        "print(numbers.count(2)) # Output: 3"
      ]
    },
    {
      "cell_type": "code",
      "execution_count": null,
      "metadata": {
        "colab": {
          "base_uri": "https://localhost:8080/"
        },
        "id": "HGgDVasVE9ap",
        "outputId": "52c2dd79-f45b-4f9e-9b43-00023516b715"
      },
      "outputs": [
        {
          "data": {
            "text/plain": [
              "1"
            ]
          },
          "execution_count": 74,
          "metadata": {},
          "output_type": "execute_result"
        }
      ],
      "source": [
        "fruits = ['a','b','c']\n",
        "fruits.index('b')"
      ]
    },
    {
      "cell_type": "code",
      "execution_count": null,
      "metadata": {
        "colab": {
          "base_uri": "https://localhost:8080/",
          "height": 36
        },
        "id": "cJXSEVGxIG84",
        "outputId": "d752e2ba-92ef-452a-fc26-146709a838d2"
      },
      "outputs": [
        {
          "data": {
            "application/vnd.google.colaboratory.intrinsic+json": {
              "type": "string"
            },
            "text/plain": [
              "'b'"
            ]
          },
          "execution_count": 75,
          "metadata": {},
          "output_type": "execute_result"
        }
      ],
      "source": [
        "fruits = ['a','b','c']\n",
        "fruits.pop(fruits.index('b'))"
      ]
    },
    {
      "cell_type": "code",
      "execution_count": null,
      "metadata": {
        "colab": {
          "base_uri": "https://localhost:8080/"
        },
        "id": "s9xyTqXsIP9z",
        "outputId": "03fa00e4-f451-4220-a126-801b6b7c01d8"
      },
      "outputs": [
        {
          "data": {
            "text/plain": [
              "['a', 'c']"
            ]
          },
          "execution_count": 76,
          "metadata": {},
          "output_type": "execute_result"
        }
      ],
      "source": [
        "fruits"
      ]
    },
    {
      "cell_type": "code",
      "execution_count": null,
      "metadata": {
        "colab": {
          "base_uri": "https://localhost:8080/"
        },
        "id": "0iCxDzJKIRxA",
        "outputId": "1935ca07-dd56-42c5-98eb-ed0afbabb30f"
      },
      "outputs": [
        {
          "name": "stdout",
          "output_type": "stream",
          "text": [
            "[1, 2, 3, 2, 1]\n",
            "2\n",
            "[1, 3, 2, 1]\n",
            "1\n"
          ]
        }
      ],
      "source": [
        "numbers = [1,2,3,2,1]\n",
        "print(numbers)\n",
        "print(numbers.count(2))\n",
        "numbers.remove(2)\n",
        "print(numbers)\n",
        "print(numbers.count(2))"
      ]
    },
    {
      "cell_type": "markdown",
      "metadata": {
        "id": "Rbj94uhzLiOg"
      },
      "source": [
        "<p>Reordering</p>"
      ]
    },
    {
      "cell_type": "code",
      "execution_count": null,
      "metadata": {
        "colab": {
          "base_uri": "https://localhost:8080/"
        },
        "id": "bRdLicr8Loyz",
        "outputId": "3bbd0d43-0c98-4109-ce02-f1cf60a9c1eb"
      },
      "outputs": [
        {
          "name": "stdout",
          "output_type": "stream",
          "text": [
            "[1, 2, 3, 4]\n"
          ]
        }
      ],
      "source": [
        "# sort() – Sort a list\n",
        "numbers = [3, 1, 4, 2]\n",
        "numbers.sort()\n",
        "print(numbers) # Output: [1, 2, 3, 4]"
      ]
    },
    {
      "cell_type": "code",
      "execution_count": null,
      "metadata": {
        "colab": {
          "base_uri": "https://localhost:8080/"
        },
        "id": "SCUUiaiqLrxc",
        "outputId": "0c2e0581-83db-4652-ff6b-b543dfa4fe17"
      },
      "outputs": [
        {
          "name": "stdout",
          "output_type": "stream",
          "text": [
            "[4, 3, 2, 1]\n"
          ]
        }
      ],
      "source": [
        "# reverse() – Reverse the list\n",
        "numbers = [3, 1, 4, 2]\n",
        "numbers.sort(reverse=True)\n",
        "print(numbers) # Output: [3, 2, 1]"
      ]
    },
    {
      "cell_type": "code",
      "execution_count": null,
      "metadata": {
        "colab": {
          "base_uri": "https://localhost:8080/"
        },
        "id": "-rTEx16_Lu3r",
        "outputId": "f291b866-6c61-4f9d-9ac8-4bf586989fda"
      },
      "outputs": [
        {
          "name": "stdout",
          "output_type": "stream",
          "text": [
            "[3, 2, 1]\n"
          ]
        }
      ],
      "source": [
        "# reverse() – Reverse the list\n",
        "numbers = [1, 2, 3]\n",
        "numbers.reverse()\n",
        "print(numbers) # Output: [3, 2, 1]"
      ]
    },
    {
      "cell_type": "code",
      "execution_count": null,
      "metadata": {
        "id": "Os9giHubIfbQ"
      },
      "outputs": [],
      "source": [
        "numbers = [1,2,3,2,1]\n",
        "numbers.sort()"
      ]
    },
    {
      "cell_type": "code",
      "execution_count": null,
      "metadata": {
        "colab": {
          "base_uri": "https://localhost:8080/"
        },
        "id": "nzYQV29dJrYg",
        "outputId": "515a25b6-81cf-4e5b-cb28-20c9fa0bbc35"
      },
      "outputs": [
        {
          "data": {
            "text/plain": [
              "[1, 1, 2, 2, 3]"
            ]
          },
          "execution_count": 83,
          "metadata": {},
          "output_type": "execute_result"
        }
      ],
      "source": [
        "numbers"
      ]
    },
    {
      "cell_type": "code",
      "execution_count": null,
      "metadata": {
        "id": "dWGKpMbxJseR"
      },
      "outputs": [],
      "source": [
        "numbers.sort(reverse=True)"
      ]
    },
    {
      "cell_type": "code",
      "execution_count": null,
      "metadata": {
        "colab": {
          "base_uri": "https://localhost:8080/"
        },
        "id": "bVtI-GzqJ4a5",
        "outputId": "8480343e-15be-4833-e98f-e33e6b2ce458"
      },
      "outputs": [
        {
          "data": {
            "text/plain": [
              "[3, 2, 2, 1, 1]"
            ]
          },
          "execution_count": 85,
          "metadata": {},
          "output_type": "execute_result"
        }
      ],
      "source": [
        "numbers"
      ]
    },
    {
      "cell_type": "markdown",
      "metadata": {
        "id": "mHImZCAkL5Rq"
      },
      "source": [
        "<p>Copying</p>"
      ]
    },
    {
      "cell_type": "code",
      "execution_count": null,
      "metadata": {
        "colab": {
          "base_uri": "https://localhost:8080/"
        },
        "id": "Sdf76Oc_L4zb",
        "outputId": "fb4644d8-e38f-4358-a6e1-804d494a87bc"
      },
      "outputs": [
        {
          "name": "stdout",
          "output_type": "stream",
          "text": [
            "[1, 2, 3]\n"
          ]
        }
      ],
      "source": [
        "# copy() – Copy a list\n",
        "numbers = [1, 2, 3]\n",
        "new_list = numbers.copy()\n",
        "print(new_list) # Output: [1, 2, 3]"
      ]
    },
    {
      "cell_type": "markdown",
      "metadata": {
        "id": "wlp8yXYHMjpS"
      },
      "source": [
        "# Dictionary\n",
        "<p>A dictionary in Python is an unordered collection of key-value pairs.\n",
        "<ol><li>Each key is unique and is associated with a value.</li>\n",
        "<li>Dictionaries are defined using curly braces {} with the key-value pairs separated by a colon :.</li>\n",
        "<li>Mutable – You can change, add, or remove items.</li>\n",
        "<li>Keys are Unique – No two keys can be the same.</li></ol></p>"
      ]
    },
    {
      "cell_type": "code",
      "source": [
        "# Basic Dictionary\n",
        "student = {\n",
        "\"name\": \"John\",\n",
        "\"age\": 20,\n",
        "\"course\": \"Computer Science\"\n",
        "}\n",
        "print(student) # Output: {'name': 'John', 'age': 20, 'course': 'Computer Science'}"
      ],
      "metadata": {
        "colab": {
          "base_uri": "https://localhost:8080/"
        },
        "id": "8jipIOoqOFD3",
        "outputId": "2f33326c-17d4-4803-b831-3b7a3d31322d"
      },
      "execution_count": null,
      "outputs": [
        {
          "output_type": "stream",
          "name": "stdout",
          "text": [
            "{'name': 'John', 'age': 20, 'course': 'Computer Science'}\n"
          ]
        }
      ]
    },
    {
      "cell_type": "code",
      "source": [
        "person = {\n",
        "\"name\": \"Alice\",\n",
        "\"age\": 25,\n",
        "\"is_student\": False,\n",
        "\"marks\": [80, 90, 85]\n",
        "}\n",
        "print(person) # Output: {'name': 'Alice', 'age': 25, 'is_student': False, 'mark': [80, 90, 85]}"
      ],
      "metadata": {
        "colab": {
          "base_uri": "https://localhost:8080/"
        },
        "id": "yyBpeTGrOUlH",
        "outputId": "2b2da27f-ce3e-4333-f2a2-26c87656c8fa"
      },
      "execution_count": null,
      "outputs": [
        {
          "output_type": "stream",
          "name": "stdout",
          "text": [
            "{'name': 'Alice', 'age': 25, 'is_student': False, 'marks': [80, 90, 85]}\n"
          ]
        }
      ]
    },
    {
      "cell_type": "markdown",
      "source": [
        "<p>Access & Information</p>"
      ],
      "metadata": {
        "id": "VYegAOYVOrsg"
      }
    },
    {
      "cell_type": "code",
      "source": [
        "# copy() – Create a shallow copy\n",
        "original = {\"name\": \"Alice\", \"age\": 30}\n",
        "copied_dict = original.copy()\n",
        "print(copied_dict) # Output: {'name': 'Alice', 'age': 30}"
      ],
      "metadata": {
        "colab": {
          "base_uri": "https://localhost:8080/"
        },
        "id": "OSSzARzoOz8v",
        "outputId": "8e850609-1a69-43cb-ad97-5cb192caa714"
      },
      "execution_count": null,
      "outputs": [
        {
          "output_type": "stream",
          "name": "stdout",
          "text": [
            "{'name': 'Alice', 'age': 30}\n"
          ]
        }
      ]
    },
    {
      "cell_type": "code",
      "source": [
        "# items() – Get all key-value pairs\n",
        "student = {\"name\": \"John\", \"age\": 20}\n",
        "print(student.items()) # Output: dict_items([('name', 'John'), ('age', 20)])"
      ],
      "metadata": {
        "colab": {
          "base_uri": "https://localhost:8080/"
        },
        "id": "5CnsJFWFO44o",
        "outputId": "e7b195fc-75a6-4792-cf0b-46c85d2e9b13"
      },
      "execution_count": null,
      "outputs": [
        {
          "output_type": "stream",
          "name": "stdout",
          "text": [
            "dict_items([('name', 'John'), ('age', 20)])\n"
          ]
        }
      ]
    },
    {
      "cell_type": "code",
      "source": [
        "# keys() – Get all keys\n",
        "student = {\"name\": \"John\", \"age\": 20}\n",
        "print(student.keys()) # Output: dict_keys(['name', 'age'])"
      ],
      "metadata": {
        "colab": {
          "base_uri": "https://localhost:8080/"
        },
        "id": "ZOL8QxgUO9rA",
        "outputId": "422893aa-60e4-4e42-b22e-c0f665836830"
      },
      "execution_count": null,
      "outputs": [
        {
          "output_type": "stream",
          "name": "stdout",
          "text": [
            "dict_keys(['name', 'age'])\n"
          ]
        }
      ]
    },
    {
      "cell_type": "code",
      "source": [
        "# values() – Returns a view of all values\n",
        "student = {\"name\": \"John\", \"age\": 20}\n",
        "print(student.values()) # Output: dict_values(['John', 20])"
      ],
      "metadata": {
        "colab": {
          "base_uri": "https://localhost:8080/"
        },
        "id": "lwaAH7iYPAeI",
        "outputId": "9ed3cd71-ef70-4139-f925-afda868c33bd"
      },
      "execution_count": null,
      "outputs": [
        {
          "output_type": "stream",
          "name": "stdout",
          "text": [
            "dict_values(['John', 20])\n"
          ]
        }
      ]
    },
    {
      "cell_type": "code",
      "source": [
        "# get() – Access values safely\n",
        "# Returns value for key, or default if not found\n",
        "student = {\"name\": \"John\", \"age\": 20, \"course\": \"Python\"}\n",
        "print(student.get(\"course\")) # Output: Python\n",
        "print(student.get(\"address\", \"Not Available\")) # Output: Not Available"
      ],
      "metadata": {
        "colab": {
          "base_uri": "https://localhost:8080/"
        },
        "id": "b9FvqPD9PEb3",
        "outputId": "63020c71-6203-4a67-b14e-46ffa9de58e8"
      },
      "execution_count": null,
      "outputs": [
        {
          "output_type": "stream",
          "name": "stdout",
          "text": [
            "Python\n",
            "Not Available\n"
          ]
        }
      ]
    },
    {
      "cell_type": "code",
      "execution_count": null,
      "metadata": {
        "id": "NwWJkneHJ5tY"
      },
      "outputs": [],
      "source": [
        "students = {'name': 'John', 'age': 20}"
      ]
    },
    {
      "cell_type": "code",
      "execution_count": null,
      "metadata": {
        "colab": {
          "base_uri": "https://localhost:8080/"
        },
        "id": "LhYf98gjNXKv",
        "outputId": "9c24541a-dbf7-43b6-f8fc-4d7b079d5612"
      },
      "outputs": [
        {
          "data": {
            "text/plain": [
              "dict_keys(['name', 'age'])"
            ]
          },
          "execution_count": 97,
          "metadata": {},
          "output_type": "execute_result"
        }
      ],
      "source": [
        "students.keys()"
      ]
    },
    {
      "cell_type": "code",
      "execution_count": null,
      "metadata": {
        "colab": {
          "base_uri": "https://localhost:8080/"
        },
        "id": "ZvxtSsyGNZx3",
        "outputId": "1ba0c8d2-eccd-4991-cf11-29351e9f6a15"
      },
      "outputs": [
        {
          "data": {
            "text/plain": [
              "dict_values(['John', 20])"
            ]
          },
          "execution_count": 98,
          "metadata": {},
          "output_type": "execute_result"
        }
      ],
      "source": [
        "students.values()"
      ]
    },
    {
      "cell_type": "code",
      "execution_count": null,
      "metadata": {
        "colab": {
          "base_uri": "https://localhost:8080/"
        },
        "id": "cLs1LF4wNc8_",
        "outputId": "c0a84af5-cca2-4e7d-c09b-26371684e1c9"
      },
      "outputs": [
        {
          "output_type": "execute_result",
          "data": {
            "text/plain": [
              "dict_items([('name', 'John'), ('age', 20)])"
            ]
          },
          "metadata": {},
          "execution_count": 100
        }
      ],
      "source": [
        "students.items()"
      ]
    },
    {
      "cell_type": "code",
      "source": [
        "students.get('name')"
      ],
      "metadata": {
        "colab": {
          "base_uri": "https://localhost:8080/",
          "height": 36
        },
        "id": "uCOB9ifJNupx",
        "outputId": "99509dca-e22e-42e8-cdc3-3be6c23eaf97"
      },
      "execution_count": null,
      "outputs": [
        {
          "output_type": "execute_result",
          "data": {
            "text/plain": [
              "'John'"
            ],
            "application/vnd.google.colaboratory.intrinsic+json": {
              "type": "string"
            }
          },
          "metadata": {},
          "execution_count": 101
        }
      ]
    },
    {
      "cell_type": "markdown",
      "source": [
        "<p>Add / Update Elements</p>"
      ],
      "metadata": {
        "id": "346o8mRMPRGA"
      }
    },
    {
      "cell_type": "code",
      "source": [
        "person = {'name': 'Alice', 'age': 25}\n",
        "# Add a new key-value pair\n",
        "person.update({'city': 'Dhaka'})\n",
        "# Update an existing key\n",
        "person.update({'age': 26})\n",
        "print(person)\n",
        "# Output: {'name': 'Alice', 'age': 26, 'city': 'Dhaka'}"
      ],
      "metadata": {
        "colab": {
          "base_uri": "https://localhost:8080/"
        },
        "id": "PeDlL1okN-O4",
        "outputId": "dd9941e4-7ad0-4af8-dc53-01d23eccfc7f"
      },
      "execution_count": null,
      "outputs": [
        {
          "output_type": "stream",
          "name": "stdout",
          "text": [
            "{'name': 'Alice', 'age': 26, 'city': 'Dhaka'}\n"
          ]
        }
      ]
    },
    {
      "cell_type": "code",
      "source": [
        "# update() – Update with another dictionary\n",
        "student = {\"name\": \"John\", \"age\": 20}\n",
        "new_info = {\"course\": \"Python\", \"age\": 21}\n",
        "student.update(new_info)\n",
        "print(student) # Output: {'name': 'John', 'age': 21, 'course': 'Python'}"
      ],
      "metadata": {
        "colab": {
          "base_uri": "https://localhost:8080/"
        },
        "id": "cH1Aw7OJPXvQ",
        "outputId": "dc9c3ff8-8285-483f-c03e-5a9c92dc78ee"
      },
      "execution_count": null,
      "outputs": [
        {
          "output_type": "stream",
          "name": "stdout",
          "text": [
            "{'name': 'John', 'age': 21, 'course': 'Python'}\n"
          ]
        }
      ]
    },
    {
      "cell_type": "code",
      "source": [
        "#If key exists: returns its value.\n",
        "#If not: adds key with the given default value and returns it.\n",
        "student = {'name': 'Taimur'}\n",
        "# 'grade' doesn't exist, so it's added with default value 'A'\n",
        "student.setdefault('grade', 'A') # returns 'A'\n",
        "# 'name' already exists, so it returns its value\n",
        "student.setdefault('name', 'New Name') # returns 'Taimur'\n",
        "print(student)\n",
        "# Output: {'name': 'Taimur', 'grade': 'A'}"
      ],
      "metadata": {
        "colab": {
          "base_uri": "https://localhost:8080/"
        },
        "id": "vz4Pw9sqPam-",
        "outputId": "282b562a-0ced-4b00-c01b-2ce2006aa215"
      },
      "execution_count": null,
      "outputs": [
        {
          "output_type": "stream",
          "name": "stdout",
          "text": [
            "{'name': 'Taimur', 'grade': 'A'}\n"
          ]
        }
      ]
    },
    {
      "cell_type": "code",
      "source": [
        "students = {'name': 'John', 'age': 20}\n",
        "students.update({'city': 'Dhaka'})\n",
        "students"
      ],
      "metadata": {
        "colab": {
          "base_uri": "https://localhost:8080/"
        },
        "id": "-AURF78kPfof",
        "outputId": "08ac0f07-a90b-4fd1-c2bd-7869145462b1"
      },
      "execution_count": null,
      "outputs": [
        {
          "output_type": "execute_result",
          "data": {
            "text/plain": [
              "{'name': 'John', 'age': 20, 'city': 'Dhaka'}"
            ]
          },
          "metadata": {},
          "execution_count": 112
        }
      ]
    },
    {
      "cell_type": "code",
      "source": [
        "students = {'name': 'John', 'age': 20}\n",
        "students.update({'age': 25})\n",
        "students"
      ],
      "metadata": {
        "colab": {
          "base_uri": "https://localhost:8080/"
        },
        "id": "t1oxBDwgRx5f",
        "outputId": "aa77b101-2771-4b7b-b199-5b29df8912ba"
      },
      "execution_count": null,
      "outputs": [
        {
          "output_type": "execute_result",
          "data": {
            "text/plain": [
              "{'name': 'John', 'age': 25}"
            ]
          },
          "metadata": {},
          "execution_count": 113
        }
      ]
    },
    {
      "cell_type": "markdown",
      "source": [
        "<p>Removing Elements</p>"
      ],
      "metadata": {
        "id": "foHYGRdgTFj-"
      }
    },
    {
      "cell_type": "code",
      "source": [
        "# clear() – Remove all items\n",
        "my_dict = {\"name\": \"John\", \"age\": 25}\n",
        "my_dict.clear()\n",
        "print(my_dict) # Output: {}"
      ],
      "metadata": {
        "colab": {
          "base_uri": "https://localhost:8080/"
        },
        "id": "Ao9dDfKnSh4n",
        "outputId": "6ad3581f-c183-41d5-9782-d91295d89692"
      },
      "execution_count": null,
      "outputs": [
        {
          "output_type": "stream",
          "name": "stdout",
          "text": [
            "{}\n"
          ]
        }
      ]
    },
    {
      "cell_type": "code",
      "source": [
        "# pop() – Remove an item\n",
        "# Removes specified key and returns the value\n",
        "student = {\"name\": \"John\", \"age\": 20}\n",
        "removed_value = student.pop(\"age\")\n",
        "print(removed_value) # Output: 20\n",
        "print(student) # Output: {'name': 'John'}"
      ],
      "metadata": {
        "colab": {
          "base_uri": "https://localhost:8080/"
        },
        "id": "T6fbUJDKTN7u",
        "outputId": "a47b7637-2029-4385-dfaf-2db888263bfa"
      },
      "execution_count": null,
      "outputs": [
        {
          "output_type": "stream",
          "name": "stdout",
          "text": [
            "20\n",
            "{'name': 'John'}\n"
          ]
        }
      ]
    },
    {
      "cell_type": "code",
      "source": [
        "# popitem() – Remove an arbitrary item\n",
        "# Removes and returns the last inserted key-value pair (in Python 3.7+)\n",
        "student = {\"name\": \"John\", \"age\": 20}\n",
        "removed_item = student.popitem()\n",
        "print(removed_item) # Output: ('age', 20)\n",
        "print(student) # Output: {'name': 'John'}"
      ],
      "metadata": {
        "colab": {
          "base_uri": "https://localhost:8080/"
        },
        "id": "hI9HrD0KTRo3",
        "outputId": "9ce5b58c-a1ff-4ed5-ed83-5ce0de40aa4e"
      },
      "execution_count": null,
      "outputs": [
        {
          "output_type": "stream",
          "name": "stdout",
          "text": [
            "('age', 20)\n",
            "{'name': 'John'}\n"
          ]
        }
      ]
    },
    {
      "cell_type": "markdown",
      "source": [
        "<p>Other Utilities</p>"
      ],
      "metadata": {
        "id": "I3uovikdTuq2"
      }
    },
    {
      "cell_type": "code",
      "source": [
        "# Suppose you're designing a system where every user must have some default field\n",
        "# but they haven't filled in anything yet.\n",
        "# You can create a base template like this:\n",
        "# Define the required profile fields\n",
        "fields = ['name', 'email', 'phone', 'address']\n",
        "# Set a default placeholder for all fields\n",
        "user_profile = dict.fromkeys(fields, 'Not Provided')\n",
        "print(user_profile)\n",
        "# Set a default placeholder for all fields\n",
        "user_profile = dict.fromkeys(fields, )\n",
        "print(user_profile)"
      ],
      "metadata": {
        "colab": {
          "base_uri": "https://localhost:8080/"
        },
        "id": "1PParKWcTVQu",
        "outputId": "7d46339d-f124-4abd-9944-5c388d842bb6"
      },
      "execution_count": null,
      "outputs": [
        {
          "output_type": "stream",
          "name": "stdout",
          "text": [
            "{'name': 'Not Provided', 'email': 'Not Provided', 'phone': 'Not Provided', 'address': 'Not Provided'}\n",
            "{'name': None, 'email': None, 'phone': None, 'address': None}\n"
          ]
        }
      ]
    },
    {
      "cell_type": "markdown",
      "source": [
        "<p>Nested Dictionary</p>"
      ],
      "metadata": {
        "id": "bhBxtu1hT3T3"
      }
    },
    {
      "cell_type": "code",
      "source": [
        "# Nested Dictionaries\n",
        "students = {\n",
        "\"John\": {\"age\": 20, \"course\": \"Python\"},\n",
        "\"Alice\": {\"age\": 22, \"course\": \"Java\"}\n",
        "}\n",
        "print(students[\"John\"]) # Output: {'age': 20, 'course': 'Python'}"
      ],
      "metadata": {
        "colab": {
          "base_uri": "https://localhost:8080/"
        },
        "id": "CG6B1WauTfjf",
        "outputId": "b022ea1c-a6fa-43e8-e466-65c8afb5447e"
      },
      "execution_count": null,
      "outputs": [
        {
          "output_type": "stream",
          "name": "stdout",
          "text": [
            "{'age': 20, 'course': 'Python'}\n"
          ]
        }
      ]
    },
    {
      "cell_type": "code",
      "source": [
        "a = 2\n",
        "b = 3\n",
        "a + b"
      ],
      "metadata": {
        "colab": {
          "base_uri": "https://localhost:8080/"
        },
        "id": "nCxxIPUKT9hH",
        "outputId": "3be758a1-1963-4364-a445-9f92640bd045"
      },
      "execution_count": null,
      "outputs": [
        {
          "output_type": "execute_result",
          "data": {
            "text/plain": [
              "5"
            ]
          },
          "metadata": {},
          "execution_count": 1
        }
      ]
    },
    {
      "cell_type": "markdown",
      "source": [
        "# Functions\n",
        "<p><ol><li>Functions are reusable blocks of code that perform a specific task.</li>\n",
        "<li>Instead of writing the same code again and again, you write it once as a function and\n",
        "call it when needed.</li>\n",
        "<li>Break down complex problems</li>\n",
        "<li>Increase readability</li></ol></p>\n",
        "\n",
        "#### User-defined Functions"
      ],
      "metadata": {
        "id": "OFF_SDB5Sf_Z"
      }
    },
    {
      "cell_type": "code",
      "source": [
        "def greet():\n",
        "  print(\"Hello!\")"
      ],
      "metadata": {
        "id": "bxWB20OES_6A"
      },
      "execution_count": null,
      "outputs": []
    },
    {
      "cell_type": "code",
      "source": [
        "# def greet():\n",
        "# def stands for define — it's how we create a function in Python.\n",
        "# greet is the name of the function.\n",
        "# () means this function takes no parameters (no input values for now).\n",
        "# The : starts the function body (what the function will do)."
      ],
      "metadata": {
        "id": "TRWuqyfQTFof"
      },
      "execution_count": null,
      "outputs": []
    },
    {
      "cell_type": "code",
      "source": [
        "# print(\"Hello!\")\n",
        "# This is the body of the function.\n",
        "# When you call the function, it will print the message \"Hello!\" to the screen."
      ],
      "metadata": {
        "id": "rJThuBgnTIyU"
      },
      "execution_count": null,
      "outputs": []
    },
    {
      "cell_type": "code",
      "source": [
        "greet()"
      ],
      "metadata": {
        "colab": {
          "base_uri": "https://localhost:8080/"
        },
        "id": "KJdim4v0TPAW",
        "outputId": "3ccaaa53-8960-429e-f4af-6cc76ac800ca"
      },
      "execution_count": null,
      "outputs": [
        {
          "output_type": "stream",
          "name": "stdout",
          "text": [
            "Hello!\n"
          ]
        }
      ]
    },
    {
      "cell_type": "markdown",
      "source": [
        "#### Parameters and Arguments"
      ],
      "metadata": {
        "id": "Mwt8O-15TVoY"
      }
    },
    {
      "cell_type": "code",
      "source": [
        "def greet(name): # 'name' is a parameter\n",
        "  print(\"Hello\", name)\n",
        "greet('Taimur') # 'Taimur' is an argument"
      ],
      "metadata": {
        "colab": {
          "base_uri": "https://localhost:8080/"
        },
        "id": "z7fXq6NJTh4p",
        "outputId": "46f75286-2afe-494a-99b5-6fcd608e63af"
      },
      "execution_count": null,
      "outputs": [
        {
          "output_type": "stream",
          "name": "stdout",
          "text": [
            "Hello Taimur\n"
          ]
        }
      ]
    },
    {
      "cell_type": "code",
      "source": [
        "## Keyword & Default Arguments\n",
        "def greet(name, message):\n",
        "  print(name, message)\n",
        "greet(message=\"Hi\", name=\"Taimur\")"
      ],
      "metadata": {
        "colab": {
          "base_uri": "https://localhost:8080/"
        },
        "id": "s38HPmWETlFY",
        "outputId": "c0ecf4eb-4987-4560-8ef9-9e5d1d9fd13e"
      },
      "execution_count": null,
      "outputs": [
        {
          "output_type": "stream",
          "name": "stdout",
          "text": [
            "Taimur Hi\n"
          ]
        }
      ]
    },
    {
      "cell_type": "markdown",
      "source": [
        "#### Function with Default Arguments"
      ],
      "metadata": {
        "id": "qZjDC5QoT2SB"
      }
    },
    {
      "cell_type": "code",
      "source": [
        "# Default Argument\n",
        "def greet(name, message=\"Hello\"):\n",
        "  print(name, message)\n",
        "greet(\"Taimur\") # Output: Taimur Hello"
      ],
      "metadata": {
        "colab": {
          "base_uri": "https://localhost:8080/"
        },
        "id": "s8o3hxMzTxWv",
        "outputId": "f2891887-fba8-4e05-8548-41979c3fc7cb"
      },
      "execution_count": null,
      "outputs": [
        {
          "output_type": "stream",
          "name": "stdout",
          "text": [
            "Taimur Hello\n"
          ]
        }
      ]
    },
    {
      "cell_type": "code",
      "source": [
        "def greet():\n",
        "  print(\"Sumon\")"
      ],
      "metadata": {
        "id": "38jXe7UHLjVd"
      },
      "execution_count": null,
      "outputs": []
    },
    {
      "cell_type": "code",
      "source": [
        "greet()"
      ],
      "metadata": {
        "colab": {
          "base_uri": "https://localhost:8080/"
        },
        "id": "s9CwqXWZLxEt",
        "outputId": "5da4ab3e-6048-40c6-8706-e29b28341198"
      },
      "execution_count": null,
      "outputs": [
        {
          "output_type": "stream",
          "name": "stdout",
          "text": [
            "Sumon\n"
          ]
        }
      ]
    },
    {
      "cell_type": "code",
      "source": [
        "# User defined function\n",
        "def greet(name):\n",
        "  print(f\"Hello, {name}!\")"
      ],
      "metadata": {
        "id": "49dK6VUoLz_2"
      },
      "execution_count": null,
      "outputs": []
    },
    {
      "cell_type": "code",
      "source": [
        "greet(\"Sumon\")"
      ],
      "metadata": {
        "colab": {
          "base_uri": "https://localhost:8080/"
        },
        "id": "UcjtyRFPMVw9",
        "outputId": "25954a13-1f71-4bc0-eeeb-07211c254042"
      },
      "execution_count": null,
      "outputs": [
        {
          "output_type": "stream",
          "name": "stdout",
          "text": [
            "Hello, Sumon!\n"
          ]
        }
      ]
    },
    {
      "cell_type": "markdown",
      "source": [
        "#### Return Statement"
      ],
      "metadata": {
        "id": "jf66mhBIUgIm"
      }
    },
    {
      "cell_type": "code",
      "source": [
        "def add(x, y):\n",
        "  return x + y\n",
        "result = add(3, 4)\n",
        "print(result) # 7"
      ],
      "metadata": {
        "colab": {
          "base_uri": "https://localhost:8080/"
        },
        "id": "lrnM39qpUaup",
        "outputId": "49e0204a-c4b3-4372-c55e-d91cc53bfedb"
      },
      "execution_count": null,
      "outputs": [
        {
          "output_type": "stream",
          "name": "stdout",
          "text": [
            "7\n"
          ]
        }
      ]
    },
    {
      "cell_type": "code",
      "source": [
        "def add(x,y):\n",
        "  return x+y"
      ],
      "metadata": {
        "id": "4PwUpXQOMabt"
      },
      "execution_count": null,
      "outputs": []
    },
    {
      "cell_type": "code",
      "source": [
        "result = add(3,4)"
      ],
      "metadata": {
        "id": "QfQ-sda7NTb9"
      },
      "execution_count": null,
      "outputs": []
    },
    {
      "cell_type": "code",
      "source": [
        "result"
      ],
      "metadata": {
        "colab": {
          "base_uri": "https://localhost:8080/"
        },
        "id": "8u-sOaLSNZ3l",
        "outputId": "c712b140-9ec9-47a8-e6c3-395cf3c14861"
      },
      "execution_count": null,
      "outputs": [
        {
          "output_type": "execute_result",
          "data": {
            "text/plain": [
              "7"
            ]
          },
          "metadata": {},
          "execution_count": 12
        }
      ]
    },
    {
      "cell_type": "code",
      "source": [
        "def mult(x,y):\n",
        "  return x*y"
      ],
      "metadata": {
        "id": "UFCp4RhYNc98"
      },
      "execution_count": null,
      "outputs": []
    },
    {
      "cell_type": "code",
      "source": [
        "result = mult(3.4,4)"
      ],
      "metadata": {
        "id": "ZUBesbYtNk72"
      },
      "execution_count": null,
      "outputs": []
    },
    {
      "cell_type": "code",
      "source": [
        "result"
      ],
      "metadata": {
        "colab": {
          "base_uri": "https://localhost:8080/"
        },
        "id": "WfUy4OYxNnqd",
        "outputId": "1b2265a7-8f89-40e8-9d8b-d1dad2e6f71c"
      },
      "execution_count": null,
      "outputs": [
        {
          "output_type": "execute_result",
          "data": {
            "text/plain": [
              "13.6"
            ]
          },
          "metadata": {},
          "execution_count": 17
        }
      ]
    },
    {
      "cell_type": "markdown",
      "source": [
        "<p>Difference between print() and return\n",
        "<ol><li>print() shows the result to the user</li>\n",
        "<li>return sends the result back to the caller</li></ol></p>\n",
        "\n",
        "#### Python Built-in functions\n",
        "<p><ol>Type Conversion Functions:\n",
        "<li>int() – Converts a value to an integer.</li>\n",
        "<li>float() – Converts a value to a float.</li>\n",
        "<li>str() – Converts a value to a string.</li>\n",
        "<li>bool() – Converts a value to a boolean (True/False).</li>\n",
        "<li>list() – Converts an iterable (like a string, tuple, etc.) to a list.</li></ol></p>"
      ],
      "metadata": {
        "id": "dH4s7vCaVCOf"
      }
    },
    {
      "cell_type": "code",
      "source": [
        "x = \"10\"\n",
        "y = int(x) # Converts the string \"10\" to an integer 10\n",
        "print(y)"
      ],
      "metadata": {
        "colab": {
          "base_uri": "https://localhost:8080/"
        },
        "id": "Xc4JJok9WCfu",
        "outputId": "9b398eb2-def7-476e-f154-5a5123bad333"
      },
      "execution_count": null,
      "outputs": [
        {
          "output_type": "stream",
          "name": "stdout",
          "text": [
            "10\n"
          ]
        }
      ]
    },
    {
      "cell_type": "code",
      "source": [
        "int(3.4)"
      ],
      "metadata": {
        "colab": {
          "base_uri": "https://localhost:8080/"
        },
        "id": "LbbBmbF4Noqt",
        "outputId": "7325400c-a7a2-4d14-a34e-bd867d57d0ce"
      },
      "execution_count": null,
      "outputs": [
        {
          "output_type": "execute_result",
          "data": {
            "text/plain": [
              "3"
            ]
          },
          "metadata": {},
          "execution_count": 18
        }
      ]
    },
    {
      "cell_type": "code",
      "source": [
        "# Built in function\n",
        "float(11)"
      ],
      "metadata": {
        "colab": {
          "base_uri": "https://localhost:8080/"
        },
        "id": "cIgaihrjONG2",
        "outputId": "8244647c-112d-4e16-ce38-cbe0f17dd5d1"
      },
      "execution_count": null,
      "outputs": [
        {
          "output_type": "execute_result",
          "data": {
            "text/plain": [
              "11.0"
            ]
          },
          "metadata": {},
          "execution_count": 19
        }
      ]
    },
    {
      "cell_type": "markdown",
      "source": [
        "<p>Mathematical Functions:\n",
        "<ol><li>abs() – Returns the absolute value.</li>\n",
        "<li>round() – Rounds a number to a specified number of decimals.</li>\n",
        "<li>min() – Returns the smallest item in an iterable.</li>\n",
        "<li>max() – Returns the largest item in an iterable.</li>\n",
        "<li>sum() – Adds up all items in an iterable.</li></ol></p>"
      ],
      "metadata": {
        "id": "WTBRDle6WaiO"
      }
    },
    {
      "cell_type": "code",
      "source": [
        "numbers = [2, 5, 8]\n",
        "print(sum(numbers)) # Output: 15"
      ],
      "metadata": {
        "colab": {
          "base_uri": "https://localhost:8080/"
        },
        "id": "tdqGLKLpW1nf",
        "outputId": "ab8778e9-3aeb-4471-bfec-5b0b7d23c602"
      },
      "execution_count": null,
      "outputs": [
        {
          "output_type": "stream",
          "name": "stdout",
          "text": [
            "15\n"
          ]
        }
      ]
    },
    {
      "cell_type": "code",
      "source": [
        "a = [1,4,2,3]\n",
        "\n",
        "sorted(a)"
      ],
      "metadata": {
        "colab": {
          "base_uri": "https://localhost:8080/"
        },
        "id": "k8wSrky3OPI9",
        "outputId": "c51f8fbb-676a-4b3b-f9e6-73e484f62fdf"
      },
      "execution_count": null,
      "outputs": [
        {
          "output_type": "execute_result",
          "data": {
            "text/plain": [
              "[1, 2, 3, 4]"
            ]
          },
          "metadata": {},
          "execution_count": 21
        }
      ]
    },
    {
      "cell_type": "code",
      "source": [
        "a = [1,4,2,3]\n",
        "\n",
        "min(a)"
      ],
      "metadata": {
        "colab": {
          "base_uri": "https://localhost:8080/"
        },
        "id": "I6fTkd9fOeGd",
        "outputId": "0298df95-6942-45d6-aa6b-10e81ce9fda8"
      },
      "execution_count": null,
      "outputs": [
        {
          "output_type": "execute_result",
          "data": {
            "text/plain": [
              "1"
            ]
          },
          "metadata": {},
          "execution_count": 23
        }
      ]
    },
    {
      "cell_type": "markdown",
      "source": [
        "<p>Collection Functions:\n",
        "<ol><li>len() – Returns the length (number of items) of an object.</li>\n",
        "<li>sorted() – Returns a sorted list from an iterable.</li>\n",
        "<li>reversed() – Returns an iterator that accesses the given iterable in reverse.</li>\n",
        "<li>all() – Returns True if all elements are true.</li>\n",
        "<li>any() – Returns True if any element is true.</li></ol></p>"
      ],
      "metadata": {
        "id": "XKYepwKvW_O4"
      }
    },
    {
      "cell_type": "code",
      "source": [
        "numbers = [1, 2, 3]\n",
        "print(len(numbers)) # Output: 3"
      ],
      "metadata": {
        "colab": {
          "base_uri": "https://localhost:8080/"
        },
        "id": "i-xNAcqBXeJJ",
        "outputId": "3ec61307-4849-41b5-c74e-0c7816a6ca9c"
      },
      "execution_count": null,
      "outputs": [
        {
          "output_type": "stream",
          "name": "stdout",
          "text": [
            "3\n"
          ]
        }
      ]
    },
    {
      "cell_type": "code",
      "source": [
        "a = [1,4,2,3]\n",
        "\n",
        "len(a)"
      ],
      "metadata": {
        "colab": {
          "base_uri": "https://localhost:8080/"
        },
        "id": "GUXn0KIxOtYt",
        "outputId": "ef1d2088-ea75-4339-aed9-0d1ee3333e5e"
      },
      "execution_count": null,
      "outputs": [
        {
          "output_type": "execute_result",
          "data": {
            "text/plain": [
              "4"
            ]
          },
          "metadata": {},
          "execution_count": 24
        }
      ]
    },
    {
      "cell_type": "code",
      "source": [
        "def add(x,y):\n",
        "  return x+y\n",
        "result = add(3,4)\n",
        "print(result)"
      ],
      "metadata": {
        "colab": {
          "base_uri": "https://localhost:8080/"
        },
        "id": "VOmk98tnOzV8",
        "outputId": "42473802-ea68-4181-f6c2-9165c834015e"
      },
      "execution_count": null,
      "outputs": [
        {
          "output_type": "stream",
          "name": "stdout",
          "text": [
            "7\n"
          ]
        }
      ]
    },
    {
      "cell_type": "code",
      "source": [
        "a = (1,2,3,4,5)"
      ],
      "metadata": {
        "id": "A0E-2rXuQFkP"
      },
      "execution_count": null,
      "outputs": []
    },
    {
      "cell_type": "code",
      "source": [
        "sum(a)"
      ],
      "metadata": {
        "colab": {
          "base_uri": "https://localhost:8080/"
        },
        "id": "luAHn9DgQK_U",
        "outputId": "4227dee3-55bb-4b83-f0b2-1d04def7afd7"
      },
      "execution_count": null,
      "outputs": [
        {
          "output_type": "execute_result",
          "data": {
            "text/plain": [
              "15"
            ]
          },
          "metadata": {},
          "execution_count": 27
        }
      ]
    },
    {
      "cell_type": "markdown",
      "source": [
        "<p>Input/Output Functions:\n",
        "<ol><li>input() – Reads a line from input and returns it as a string.</li>\n",
        "<li>print() – Outputs the specified message to the console.</li></ol></p>"
      ],
      "metadata": {
        "id": "n5y5bJR8Xu3J"
      }
    },
    {
      "cell_type": "code",
      "source": [
        "name = input(\"Enter your name: \")\n",
        "print(\"Hello, \" + name)"
      ],
      "metadata": {
        "colab": {
          "base_uri": "https://localhost:8080/"
        },
        "id": "gJOpoJt8YInY",
        "outputId": "7de42929-078e-4938-a8c2-a593caafd009"
      },
      "execution_count": null,
      "outputs": [
        {
          "output_type": "stream",
          "name": "stdout",
          "text": [
            "Enter your name: Sumon\n",
            "Hello, Sumon\n"
          ]
        }
      ]
    },
    {
      "cell_type": "markdown",
      "source": [
        "<p>Other Utility Functions:\n",
        "<ol><li>id() – Returns the unique id of an object.</li>\n",
        "<li>type() – Returns the type of an object.</li>\n",
        "<li>isinstance() – Checks if an object is an instance of a particular class or subclass.</li></ol></p>"
      ],
      "metadata": {
        "id": "IbF9MXrmYQxw"
      }
    },
    {
      "cell_type": "code",
      "source": [
        "x = 5\n",
        "print(type(x)) # Output: <class 'int'>|"
      ],
      "metadata": {
        "colab": {
          "base_uri": "https://localhost:8080/"
        },
        "id": "um-2awlgYnCY",
        "outputId": "0970a7e1-3447-4b21-9da7-0da623f6f95e"
      },
      "execution_count": null,
      "outputs": [
        {
          "output_type": "stream",
          "name": "stdout",
          "text": [
            "<class 'int'>\n"
          ]
        }
      ]
    },
    {
      "cell_type": "markdown",
      "source": [
        "#### Task: Create a function that takes a list of numbers and returns a dictionary with statistics: min, max, sum, and average."
      ],
      "metadata": {
        "id": "wh_FZr0YYtBo"
      }
    },
    {
      "cell_type": "code",
      "source": [
        "def calculate_stats(numbers):\n",
        "  # Ensure the list is not empty\n",
        "  if(len(numbers) == 0):\n",
        "    return \"List is empty, cannot calculate stats.\"\n",
        "\n",
        "  # Calculate stats\n",
        "  stats = {\n",
        "    'min': min(numbers),\n",
        "    'max': max(numbers),\n",
        "    'sum': sum(numbers),\n",
        "    'average': sum(numbers) / len(numbers) # Calculate the average\n",
        "  }\n",
        "\n",
        "  return stats\n",
        "\n",
        "# Example usage\n",
        "numbers_list = [5, 10, 15, 20, 25]\n",
        "result = calculate_stats(numbers_list)\n",
        "\n",
        "print(result)"
      ],
      "metadata": {
        "colab": {
          "base_uri": "https://localhost:8080/"
        },
        "id": "JpjL89WWY6B_",
        "outputId": "f8f95359-1cca-4fb7-d5d6-2314d0f258af"
      },
      "execution_count": null,
      "outputs": [
        {
          "output_type": "stream",
          "name": "stdout",
          "text": [
            "{'min': 5, 'max': 25, 'sum': 75, 'average': 15.0}\n"
          ]
        }
      ]
    },
    {
      "cell_type": "markdown",
      "source": [
        "<p>Explanation:<br>\n",
        "The function calculate_stats() takes a list of numbers as input.\n",
        "<ol><li>min(): Finds the smallest number in the list.</li>\n",
        "<li>max(): Finds the largest number.</li>\n",
        "<li>sum(): Adds up all the numbers.</li>\n",
        "<li>average: Sum divided by the number of elements in the list.</li></ol>\n",
        "If the list is empty, it returns a message indicating that stats can't be calculated.</p>"
      ],
      "metadata": {
        "id": "GYZK2uMJZknG"
      }
    },
    {
      "cell_type": "markdown",
      "source": [
        "# Function with Variable-Length Arguments\n",
        "<p>Python allows you to define functions that accept an arbitrary number of arguments using *args (non-keyword arguments) or\n",
        "**kwargs (keyword arguments).\n",
        "<ol><li>*args -> Accepts variable number of values (tuple)</li>\n",
        "<li>**kwargs -> Accepts variable number of named arguments (dictionary)</li></ol></p>"
      ],
      "metadata": {
        "id": "OWFd1on1asbA"
      }
    },
    {
      "cell_type": "code",
      "source": [
        "def add(*args):\n",
        "  return sum(args)\n",
        "print(add(1, 2, 3)) # Output: 6\n",
        "\n",
        "def describe_pet(**kwargs):\n",
        "  print(kwargs)\n",
        "describe_pet(name=\"Bobby\", type=\"dog\") # Output: {'name': 'Bobby', 'type': 'dog'}"
      ],
      "metadata": {
        "colab": {
          "base_uri": "https://localhost:8080/"
        },
        "id": "u5zUrrMWaeoX",
        "outputId": "6a473a38-3f86-4fbb-86ef-ab6edca17f3e"
      },
      "execution_count": null,
      "outputs": [
        {
          "output_type": "stream",
          "name": "stdout",
          "text": [
            "6\n",
            "{'name': 'Bobby', 'type': 'dog'}\n"
          ]
        }
      ]
    },
    {
      "cell_type": "code",
      "source": [
        "def add(*args):\n",
        "  return sum(args)"
      ],
      "metadata": {
        "id": "99davqpCaP9-"
      },
      "execution_count": null,
      "outputs": []
    },
    {
      "cell_type": "code",
      "source": [
        "print(add(1,2,3,4,5,5,6,7))"
      ],
      "metadata": {
        "colab": {
          "base_uri": "https://localhost:8080/"
        },
        "id": "Um_x9Zz7aWFo",
        "outputId": "1612f1d6-398f-431d-f203-e75aff2c5344"
      },
      "execution_count": null,
      "outputs": [
        {
          "output_type": "stream",
          "name": "stdout",
          "text": [
            "33\n"
          ]
        }
      ]
    },
    {
      "cell_type": "markdown",
      "source": [
        "# Lambda Function"
      ],
      "metadata": {
        "id": "9fJ3EaGrbNWJ"
      }
    },
    {
      "cell_type": "code",
      "source": [
        "# It is used when you need a simple one-line function for a short period of time.\n",
        "lambda arguments: expression"
      ],
      "metadata": {
        "colab": {
          "base_uri": "https://localhost:8080/"
        },
        "id": "jBz0hO4obXcQ",
        "outputId": "1a1dba36-a2ee-48ed-c5fa-3d7564301157"
      },
      "execution_count": null,
      "outputs": [
        {
          "output_type": "execute_result",
          "data": {
            "text/plain": [
              "<function __main__.<lambda>(arguments)>"
            ]
          },
          "metadata": {},
          "execution_count": 56
        }
      ]
    },
    {
      "cell_type": "code",
      "source": [
        "add = lambda x,y:x+y"
      ],
      "metadata": {
        "id": "1ODhw9sBbiF4"
      },
      "execution_count": null,
      "outputs": []
    },
    {
      "cell_type": "code",
      "source": [
        "add(5,3)"
      ],
      "metadata": {
        "colab": {
          "base_uri": "https://localhost:8080/"
        },
        "id": "4o5xZafbbi8g",
        "outputId": "7013ef75-efce-4406-be9d-13876d7dff27"
      },
      "execution_count": null,
      "outputs": [
        {
          "output_type": "execute_result",
          "data": {
            "text/plain": [
              "8"
            ]
          },
          "metadata": {},
          "execution_count": 58
        }
      ]
    },
    {
      "cell_type": "code",
      "source": [
        "def add(x, y):\n",
        "  return x + y"
      ],
      "metadata": {
        "id": "JKEPJPELbnpO"
      },
      "execution_count": null,
      "outputs": []
    },
    {
      "cell_type": "code",
      "source": [
        "add(5,3)"
      ],
      "metadata": {
        "colab": {
          "base_uri": "https://localhost:8080/"
        },
        "id": "-uLjW0rvbra4",
        "outputId": "4c83d909-a9bc-4eed-f706-aad29cefb3a9"
      },
      "execution_count": null,
      "outputs": [
        {
          "output_type": "execute_result",
          "data": {
            "text/plain": [
              "8"
            ]
          },
          "metadata": {},
          "execution_count": 61
        }
      ]
    },
    {
      "cell_type": "code",
      "source": [
        "# Lambda Fuction\n",
        "add = lambda x,y: x+y"
      ],
      "metadata": {
        "id": "3CdhYGrsQZqF"
      },
      "execution_count": null,
      "outputs": []
    },
    {
      "cell_type": "code",
      "source": [
        "add(2,3)"
      ],
      "metadata": {
        "colab": {
          "base_uri": "https://localhost:8080/"
        },
        "id": "mT5hhr8ZQrBM",
        "outputId": "ff6be9f9-e9d9-4e89-bb7c-d1f156bde501"
      },
      "execution_count": null,
      "outputs": [
        {
          "output_type": "execute_result",
          "data": {
            "text/plain": [
              "5"
            ]
          },
          "metadata": {},
          "execution_count": 32
        }
      ]
    },
    {
      "cell_type": "markdown",
      "source": [
        "# Higher-Order Functions\n",
        "<p>Lambda functions are often used with:\n",
        "<ol><li>map()</li>\n",
        "<li>filter()</li>\n",
        "<li>sorted()</li></ol></p>"
      ],
      "metadata": {
        "id": "nWOjo-lEbz47"
      }
    },
    {
      "cell_type": "code",
      "source": [
        "numbers = [1,2,3,4]\n",
        "squares = list(map(lambda x : x**2, numbers))"
      ],
      "metadata": {
        "id": "UAV8dt1AcKIX"
      },
      "execution_count": null,
      "outputs": []
    },
    {
      "cell_type": "code",
      "source": [
        "squares"
      ],
      "metadata": {
        "colab": {
          "base_uri": "https://localhost:8080/"
        },
        "id": "iictWyVBcNIf",
        "outputId": "11f2b02f-b242-4402-eb69-bdea196d3294"
      },
      "execution_count": null,
      "outputs": [
        {
          "output_type": "execute_result",
          "data": {
            "text/plain": [
              "[1, 4, 9, 16]"
            ]
          },
          "metadata": {},
          "execution_count": 63
        }
      ]
    },
    {
      "cell_type": "code",
      "source": [
        "# Keep only even numbers:\n",
        "numbers = [1, 2, 3, 4, 5, 6]\n",
        "evens = list(filter(lambda x: x % 2 == 0, numbers))\n",
        "print(evens) # Output: [2, 4, 6]"
      ],
      "metadata": {
        "colab": {
          "base_uri": "https://localhost:8080/"
        },
        "id": "EcN0KrrrcSxA",
        "outputId": "d2c2239b-505e-497f-f272-360bc2eacee0"
      },
      "execution_count": null,
      "outputs": [
        {
          "output_type": "stream",
          "name": "stdout",
          "text": [
            "[2, 4, 6]\n"
          ]
        }
      ]
    },
    {
      "cell_type": "code",
      "source": [
        "#Sort a list of tuples by the second value:\n",
        "pairs = [(1, 3), (2, 2), (4, 1)]\n",
        "sorted_pairs = sorted(pairs, key=lambda x: x[1])\n",
        "print(sorted_pairs) # Output: [(4, 1), (2, 2), (1, 3)]"
      ],
      "metadata": {
        "colab": {
          "base_uri": "https://localhost:8080/"
        },
        "id": "b4d839CicXGH",
        "outputId": "f70fd836-8648-433d-d986-969096a03871"
      },
      "execution_count": null,
      "outputs": [
        {
          "output_type": "stream",
          "name": "stdout",
          "text": [
            "[(4, 1), (2, 2), (1, 3)]\n"
          ]
        }
      ]
    },
    {
      "cell_type": "code",
      "source": [
        "numbers = [1,2,3,4]\n",
        "\n",
        "list(map(lambda x: x**2, numbers))"
      ],
      "metadata": {
        "colab": {
          "base_uri": "https://localhost:8080/"
        },
        "id": "a5wvzh59QutM",
        "outputId": "5aa1ddbf-9760-421a-d291-c3573e8f5a7d"
      },
      "execution_count": null,
      "outputs": [
        {
          "output_type": "execute_result",
          "data": {
            "text/plain": [
              "[1, 4, 9, 16]"
            ]
          },
          "metadata": {},
          "execution_count": 33
        }
      ]
    },
    {
      "cell_type": "markdown",
      "source": [
        "# Nested Functions"
      ],
      "metadata": {
        "id": "rjsAO_vmchkA"
      }
    },
    {
      "cell_type": "code",
      "source": [
        "def outer():\n",
        "  def inner():\n",
        "    print(\"This is the inner function\")\n",
        "  inner()\n",
        "\n",
        "outer() # Output: This is the inner function"
      ],
      "metadata": {
        "colab": {
          "base_uri": "https://localhost:8080/"
        },
        "id": "S0fi5lBccjss",
        "outputId": "b1d06f31-310f-4996-b9c1-6683c7598e33"
      },
      "execution_count": null,
      "outputs": [
        {
          "output_type": "stream",
          "name": "stdout",
          "text": [
            "This is the inner function\n"
          ]
        }
      ]
    }
  ],
  "metadata": {
    "colab": {
      "provenance": [],
      "authorship_tag": "ABX9TyM5bY8atpJi1JOaveLB9Bhu",
      "include_colab_link": true
    },
    "kernelspec": {
      "display_name": "Python 3",
      "name": "python3"
    },
    "language_info": {
      "name": "python"
    }
  },
  "nbformat": 4,
  "nbformat_minor": 0
}