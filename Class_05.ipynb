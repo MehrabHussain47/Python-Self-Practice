{
  "nbformat": 4,
  "nbformat_minor": 0,
  "metadata": {
    "colab": {
      "provenance": [],
      "authorship_tag": "ABX9TyPLCYzX0IVhWhS/fAOZIMfv",
      "include_colab_link": true
    },
    "kernelspec": {
      "name": "python3",
      "display_name": "Python 3"
    },
    "language_info": {
      "name": "python"
    }
  },
  "cells": [
    {
      "cell_type": "markdown",
      "metadata": {
        "id": "view-in-github",
        "colab_type": "text"
      },
      "source": [
        "<a href=\"https://colab.research.google.com/github/MehrabHussain47/Python-Self-Practice/blob/master/Class_05.ipynb\" target=\"_parent\"><img src=\"https://colab.research.google.com/assets/colab-badge.svg\" alt=\"Open In Colab\"/></a>"
      ]
    },
    {
      "cell_type": "code",
      "execution_count": 4,
      "metadata": {
        "id": "A_quHb4JSjmx"
      },
      "outputs": [],
      "source": [
        "class Animal:\n",
        "  def __init__(self):\n",
        "    self.eye = \"Blue\"\n",
        "    self.colour = \"Black\"\n",
        "    self.weight = 10\n",
        "\n",
        "  def animal(self):\n",
        "    print(f\"The {self.weight} kgs {self.colour} Jaguar colour whose eyes are {self.eye} is roaring loudly.\")"
      ]
    },
    {
      "cell_type": "code",
      "source": [
        "new_animal = Animal()"
      ],
      "metadata": {
        "id": "q4234fE-df4B"
      },
      "execution_count": 5,
      "outputs": []
    },
    {
      "cell_type": "code",
      "source": [
        "new_animal.animal()"
      ],
      "metadata": {
        "colab": {
          "base_uri": "https://localhost:8080/"
        },
        "id": "LHcOmgktdqQY",
        "outputId": "4477b7cf-0c21-4bfa-d5bc-431d954f8b0a"
      },
      "execution_count": 6,
      "outputs": [
        {
          "output_type": "stream",
          "name": "stdout",
          "text": [
            "The 10 kgs Black Jaguar colour whose eyes are Blue is roaring loudly.\n"
          ]
        }
      ]
    },
    {
      "cell_type": "code",
      "source": [],
      "metadata": {
        "id": "zIxmf_Vld4Rw"
      },
      "execution_count": null,
      "outputs": []
    }
  ]
}