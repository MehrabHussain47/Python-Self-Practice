{
  "nbformat": 4,
  "nbformat_minor": 0,
  "metadata": {
    "colab": {
      "provenance": [],
      "authorship_tag": "ABX9TyNTp4KG3CnmCvlCssfUl6WN",
      "include_colab_link": true
    },
    "kernelspec": {
      "name": "python3",
      "display_name": "Python 3"
    },
    "language_info": {
      "name": "python"
    }
  },
  "cells": [
    {
      "cell_type": "markdown",
      "metadata": {
        "id": "view-in-github",
        "colab_type": "text"
      },
      "source": [
        "<a href=\"https://colab.research.google.com/github/MehrabHussain47/Python-Self-Practice/blob/master/Class_05.ipynb\" target=\"_parent\"><img src=\"https://colab.research.google.com/assets/colab-badge.svg\" alt=\"Open In Colab\"/></a>"
      ]
    },
    {
      "cell_type": "code",
      "source": [
        "# Basic Syntax\n",
        "class ClassName:\n",
        "  pass"
      ],
      "metadata": {
        "id": "pSXSjtQFCizY"
      },
      "execution_count": 2,
      "outputs": []
    },
    {
      "cell_type": "code",
      "source": [
        "class Student:\n",
        "  pass\n",
        "s1 = Student()"
      ],
      "metadata": {
        "id": "2E_NkVSAJqvS"
      },
      "execution_count": 3,
      "outputs": []
    },
    {
      "cell_type": "code",
      "source": [
        "i = 1\n",
        "print(type(i)) # i is an object of integer class"
      ],
      "metadata": {
        "id": "06-Y4KIXJ6MB",
        "colab": {
          "base_uri": "https://localhost:8080/"
        },
        "outputId": "e43f8242-31a4-4371-afe4-ba9aa37a01a9"
      },
      "execution_count": 4,
      "outputs": [
        {
          "output_type": "stream",
          "name": "stdout",
          "text": [
            "<class 'int'>\n"
          ]
        }
      ]
    },
    {
      "cell_type": "code",
      "source": [
        "print(type(s1))"
      ],
      "metadata": {
        "id": "JHUcJ6HWKUEZ",
        "colab": {
          "base_uri": "https://localhost:8080/"
        },
        "outputId": "2f154759-0248-4471-a1de-ab088b308706"
      },
      "execution_count": 5,
      "outputs": [
        {
          "output_type": "stream",
          "name": "stdout",
          "text": [
            "<class '__main__.Student'>\n"
          ]
        }
      ]
    },
    {
      "cell_type": "code",
      "source": [
        "dir()"
      ],
      "metadata": {
        "colab": {
          "base_uri": "https://localhost:8080/"
        },
        "id": "CFXgJbe1KhmB",
        "outputId": "ad94f17e-4aa7-437a-8845-a91b0000724f"
      },
      "execution_count": 1,
      "outputs": [
        {
          "output_type": "execute_result",
          "data": {
            "text/plain": [
              "['In',\n",
              " 'Out',\n",
              " '_',\n",
              " '__',\n",
              " '___',\n",
              " '__builtin__',\n",
              " '__builtins__',\n",
              " '__doc__',\n",
              " '__loader__',\n",
              " '__name__',\n",
              " '__package__',\n",
              " '__spec__',\n",
              " '_dh',\n",
              " '_i',\n",
              " '_i1',\n",
              " '_ih',\n",
              " '_ii',\n",
              " '_iii',\n",
              " '_oh',\n",
              " 'exit',\n",
              " 'get_ipython',\n",
              " 'quit']"
            ]
          },
          "metadata": {},
          "execution_count": 1
        }
      ]
    },
    {
      "cell_type": "code",
      "source": [
        "class MyClass:\n",
        "  def __init__(self):\n",
        "    self.name = \"Taimur\"\n",
        "  def greet(self):\n",
        "    return \"Hello\"\n",
        "print(dir(MyClass))"
      ],
      "metadata": {
        "id": "ntbSRFjKKt8Q",
        "colab": {
          "base_uri": "https://localhost:8080/"
        },
        "outputId": "9744d579-bf4c-47b5-d706-9f2a1fa23bae"
      },
      "execution_count": 11,
      "outputs": [
        {
          "output_type": "stream",
          "name": "stdout",
          "text": [
            "['__class__', '__delattr__', '__dict__', '__dir__', '__doc__', '__eq__', '__format__', '__ge__', '__getattribute__', '__getstate__', '__gt__', '__hash__', '__init__', '__init_subclass__', '__le__', '__lt__', '__module__', '__ne__', '__new__', '__reduce__', '__reduce_ex__', '__repr__', '__setattr__', '__sizeof__', '__str__', '__subclasshook__', '__weakref__', 'greet']\n"
          ]
        }
      ]
    },
    {
      "cell_type": "code",
      "source": [
        "a = MyClass()"
      ],
      "metadata": {
        "id": "Vvg0FB_uPzHh"
      },
      "execution_count": 12,
      "outputs": []
    },
    {
      "cell_type": "code",
      "source": [
        "a.name"
      ],
      "metadata": {
        "colab": {
          "base_uri": "https://localhost:8080/",
          "height": 36
        },
        "id": "Ufb0GFqYP7p4",
        "outputId": "6979b306-f2ed-4c68-ec8d-9ecb927a83c9"
      },
      "execution_count": 13,
      "outputs": [
        {
          "output_type": "execute_result",
          "data": {
            "text/plain": [
              "'Taimur'"
            ],
            "application/vnd.google.colaboratory.intrinsic+json": {
              "type": "string"
            }
          },
          "metadata": {},
          "execution_count": 13
        }
      ]
    },
    {
      "cell_type": "code",
      "source": [
        "a.greet()"
      ],
      "metadata": {
        "colab": {
          "base_uri": "https://localhost:8080/",
          "height": 36
        },
        "id": "yJn6NCKjP-ee",
        "outputId": "77946f1a-c4c5-463c-ee09-31318743ee7b"
      },
      "execution_count": 14,
      "outputs": [
        {
          "output_type": "execute_result",
          "data": {
            "text/plain": [
              "'Hello'"
            ],
            "application/vnd.google.colaboratory.intrinsic+json": {
              "type": "string"
            }
          },
          "metadata": {},
          "execution_count": 14
        }
      ]
    },
    {
      "cell_type": "code",
      "source": [
        "class Car:\n",
        "  def __init__(self, brand, color): # parameterized constructor\n",
        "    self.brand = brand\n",
        "    self.color = color\n",
        "  def start_engine(self):\n",
        "    print(f\"{self.color} {self.brand} engine started.\")"
      ],
      "metadata": {
        "id": "gaqgZ0qqQDDf"
      },
      "execution_count": 31,
      "outputs": []
    },
    {
      "cell_type": "code",
      "source": [
        "my_car = Car(\"Toyota\", \"Red\")"
      ],
      "metadata": {
        "id": "PVvFH6KRRro4"
      },
      "execution_count": 32,
      "outputs": []
    },
    {
      "cell_type": "code",
      "source": [
        "my_car.start_engine()"
      ],
      "metadata": {
        "colab": {
          "base_uri": "https://localhost:8080/"
        },
        "id": "BEI36RijSYUX",
        "outputId": "a98ea5bc-8e77-4888-ea58-68fc693068c6"
      },
      "execution_count": 33,
      "outputs": [
        {
          "output_type": "stream",
          "name": "stdout",
          "text": [
            "Red Toyota engine started.\n"
          ]
        }
      ]
    },
    {
      "cell_type": "code",
      "source": [
        "class Car:\n",
        "  def __init__(self): # default constructor\n",
        "    self.brand = \"Honda\"\n",
        "    self.color = \"Blue\"\n",
        "  def start_engine(self):\n",
        "    print(f\"{self.brand} engine started.\")\n",
        "    print(f\"My Honda's colour is {self.color}.\")"
      ],
      "metadata": {
        "id": "Xx-XtdlTSb-f"
      },
      "execution_count": 34,
      "outputs": []
    },
    {
      "cell_type": "code",
      "source": [
        "my_car = Car()"
      ],
      "metadata": {
        "id": "wKRx27-HTPqf"
      },
      "execution_count": 35,
      "outputs": []
    },
    {
      "cell_type": "code",
      "source": [
        "my_car.start_engine()"
      ],
      "metadata": {
        "colab": {
          "base_uri": "https://localhost:8080/"
        },
        "id": "7tpIyOpGTTFP",
        "outputId": "5097c3b7-b6b1-419b-8f45-31f0a1b819f7"
      },
      "execution_count": 36,
      "outputs": [
        {
          "output_type": "stream",
          "name": "stdout",
          "text": [
            "Honda engine started.\n",
            "My Honda's colour is Blue.\n"
          ]
        }
      ]
    },
    {
      "cell_type": "code",
      "source": [
        "my_car.brand"
      ],
      "metadata": {
        "colab": {
          "base_uri": "https://localhost:8080/",
          "height": 36
        },
        "id": "mbUZOZXZTVTw",
        "outputId": "54a44962-6ba9-4a1d-9e06-5de8a32de702"
      },
      "execution_count": 38,
      "outputs": [
        {
          "output_type": "execute_result",
          "data": {
            "text/plain": [
              "'Honda'"
            ],
            "application/vnd.google.colaboratory.intrinsic+json": {
              "type": "string"
            }
          },
          "metadata": {},
          "execution_count": 38
        }
      ]
    },
    {
      "cell_type": "code",
      "source": [
        "class Phone:\n",
        "  pass # Create a placeholder # And also update for future"
      ],
      "metadata": {
        "id": "H9QeIQTRUUUn"
      },
      "execution_count": null,
      "outputs": []
    },
    {
      "cell_type": "markdown",
      "source": [
        "Create a class named Animal.<br>\n",
        "Inside this class pass three parameter named eye, colour, weight and a method sound by using both paraemterized constructor and default constructor."
      ],
      "metadata": {
        "id": "2IYNTgftV6zv"
      }
    },
    {
      "cell_type": "code",
      "source": [
        "class Animal:\n",
        "  def __init__(self, eye, colour, weight):\n",
        "    self.eye = eye\n",
        "    self.colour = colour\n",
        "    self.weight = weight\n",
        "  def sound(self):\n",
        "    print(f\"The {self.eye} eyed {self.colour} coloured Jaguar with weight {self.weight} kg is making a sound.\")"
      ],
      "metadata": {
        "id": "B1VWYLPxWkPG"
      },
      "execution_count": 42,
      "outputs": []
    },
    {
      "cell_type": "code",
      "source": [
        "my_animal = Animal(\"Blue\", \"Black\", \"70\")"
      ],
      "metadata": {
        "id": "lzB5PrihXtjo"
      },
      "execution_count": 43,
      "outputs": []
    },
    {
      "cell_type": "code",
      "source": [
        "my_animal.sound()"
      ],
      "metadata": {
        "colab": {
          "base_uri": "https://localhost:8080/"
        },
        "id": "iBQPSEu4X6V_",
        "outputId": "3b351ac6-bd7c-4406-c23d-e0fbe7cab882"
      },
      "execution_count": 44,
      "outputs": [
        {
          "output_type": "stream",
          "name": "stdout",
          "text": [
            "The Blue eyed Black coloured Jaguar with weight 70 kg is making a sound.\n"
          ]
        }
      ]
    },
    {
      "cell_type": "code",
      "source": [
        "class Animal:\n",
        "  def __init__(self):\n",
        "    self.eye = \"Blue\"\n",
        "    self.colour = \"Black\"\n",
        "    self.weight = \"70\"\n",
        "  def sound(self):\n",
        "    print(f\"The {self.eye} eyed {self.colour} coloured Jaguar with weight {self.weight} kg is making a sound.\")"
      ],
      "metadata": {
        "id": "L-0-HA9kX-eX"
      },
      "execution_count": 45,
      "outputs": []
    },
    {
      "cell_type": "code",
      "source": [
        "my_animal = Animal()"
      ],
      "metadata": {
        "id": "pFsRGg2aYqKf"
      },
      "execution_count": 46,
      "outputs": []
    },
    {
      "cell_type": "code",
      "source": [
        "my_animal.sound()"
      ],
      "metadata": {
        "colab": {
          "base_uri": "https://localhost:8080/"
        },
        "id": "pm7h4zgkYuNH",
        "outputId": "25212b28-ba18-418e-d3ec-d40571949d19"
      },
      "execution_count": 47,
      "outputs": [
        {
          "output_type": "stream",
          "name": "stdout",
          "text": [
            "The Blue eyed Black coloured Jaguar with weight 70 kg is making a sound.\n"
          ]
        }
      ]
    },
    {
      "cell_type": "code",
      "source": [
        "# Inheritance\n",
        "class Animal:\n",
        "  def __init__(self):\n",
        "    print(\"Animal is created.\")\n",
        "  def sound(self):\n",
        "    print(\"Animal makes sound.\")\n",
        "  def move(self):\n",
        "    print(\"Animal moves.\")\n",
        "class Dog(Animal):  # inherit Dog class from Animal class\n",
        "  pass"
      ],
      "metadata": {
        "id": "Qqi8uvRJYwkH"
      },
      "execution_count": 48,
      "outputs": []
    },
    {
      "cell_type": "code",
      "source": [
        "d = Dog()"
      ],
      "metadata": {
        "colab": {
          "base_uri": "https://localhost:8080/"
        },
        "id": "A5PWoWjEdDuv",
        "outputId": "ddf213ab-2e7d-4ff8-e3f2-b6a0bda54532"
      },
      "execution_count": 49,
      "outputs": [
        {
          "output_type": "stream",
          "name": "stdout",
          "text": [
            "Animal is created.\n"
          ]
        }
      ]
    },
    {
      "cell_type": "code",
      "source": [
        "d.move()"
      ],
      "metadata": {
        "colab": {
          "base_uri": "https://localhost:8080/"
        },
        "id": "9W7Oe1ardGLu",
        "outputId": "07c01e64-f173-4e81-9c5c-898fb00316a5"
      },
      "execution_count": 50,
      "outputs": [
        {
          "output_type": "stream",
          "name": "stdout",
          "text": [
            "Animal moves.\n"
          ]
        }
      ]
    },
    {
      "cell_type": "code",
      "source": [
        "d.sound()"
      ],
      "metadata": {
        "colab": {
          "base_uri": "https://localhost:8080/"
        },
        "id": "SApTdMb9dePf",
        "outputId": "4d8e1e59-abf5-418a-eb1e-2d84f8cea2cd"
      },
      "execution_count": 51,
      "outputs": [
        {
          "output_type": "stream",
          "name": "stdout",
          "text": [
            "Animal makes sound.\n"
          ]
        }
      ]
    },
    {
      "cell_type": "code",
      "source": [
        "# Inheritance\n",
        "class Person:\n",
        "  def __init__(self, name):\n",
        "    self.name = name\n",
        "  def show(self):\n",
        "    print(f\"Name: {self.name}\")\n",
        "class Employee(Person):\n",
        "  def __init__(self, name, salary):\n",
        "    super().__init__(name) # call base constructor\n",
        "    self.salary = salary\n",
        "  def show(self):\n",
        "    super().show()\n",
        "    print(f\"Salary: {self.salary}\")"
      ],
      "metadata": {
        "id": "nzyGJrKPd6LQ"
      },
      "execution_count": 55,
      "outputs": []
    },
    {
      "cell_type": "code",
      "source": [
        "e1 = Employee(\"Alice\", 50000)"
      ],
      "metadata": {
        "id": "lBzDBq0GeMdX"
      },
      "execution_count": 56,
      "outputs": []
    },
    {
      "cell_type": "code",
      "source": [
        "e1.show()"
      ],
      "metadata": {
        "colab": {
          "base_uri": "https://localhost:8080/"
        },
        "id": "D0HUhHbYej5m",
        "outputId": "f20f49dc-34e3-479d-8d09-38f4e4dd0907"
      },
      "execution_count": 57,
      "outputs": [
        {
          "output_type": "stream",
          "name": "stdout",
          "text": [
            "Name: Alice\n",
            "Salary: 50000\n"
          ]
        }
      ]
    },
    {
      "cell_type": "code",
      "source": [],
      "metadata": {
        "id": "7j652PRQelrA"
      },
      "execution_count": null,
      "outputs": []
    }
  ]
}