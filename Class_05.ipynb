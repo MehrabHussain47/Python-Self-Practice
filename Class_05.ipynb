{
  "nbformat": 4,
  "nbformat_minor": 0,
  "metadata": {
    "colab": {
      "provenance": [],
      "authorship_tag": "ABX9TyOhVKmMiTv33N7+MJeu21Cj",
      "include_colab_link": true
    },
    "kernelspec": {
      "name": "python3",
      "display_name": "Python 3"
    },
    "language_info": {
      "name": "python"
    }
  },
  "cells": [
    {
      "cell_type": "markdown",
      "metadata": {
        "id": "view-in-github",
        "colab_type": "text"
      },
      "source": [
        "<a href=\"https://colab.research.google.com/github/MehrabHussain47/Python-Self-Practice/blob/master/Class_05.ipynb\" target=\"_parent\"><img src=\"https://colab.research.google.com/assets/colab-badge.svg\" alt=\"Open In Colab\"/></a>"
      ]
    },
    {
      "cell_type": "markdown",
      "source": [
        "# OOP\n",
        "<p>OOP is a way of writing code by grouping data and functions into reusable structures called classes. It mimics real-world objects.<br>\n",
        "OOP Core Concepts:<br>\n",
        "<ol><li>Class – A blueprint for creating objects.</li>\n",
        "<li>Object – A real instance based on the class.</li>\n",
        "<li>Method – Function inside a class.</li>\n",
        "<li>Constructor – A special method used to initialize objects.</li>\n",
        "<li>Inheritance – One class can inherit features from another.</li></ol></p>"
      ],
      "metadata": {
        "id": "UZs-xX4Ghjuh"
      }
    },
    {
      "cell_type": "markdown",
      "source": [
        "# Class\n",
        "<p>A class is like a blueprint for creating objects. It defines attributes (data) and methods (functions) that objects will have.<br>\n",
        "<ol><li>class is a keyword to define a class.</li>\n",
        "<li>ClassName is the name you give to the class (PascalCase is preferred).</li>\n",
        "<li>The class body can have variables (attributes) and functions (methods).</li>\n",
        "<li>pass means \"do nothing\" (used for placeholder classes).</li></ol></p>"
      ],
      "metadata": {
        "id": "iZYsy4X1iLW6"
      }
    },
    {
      "cell_type": "code",
      "source": [
        "# Basic Syntax\n",
        "class ClassName:\n",
        "  # body of the class\n",
        "  pass"
      ],
      "metadata": {
        "id": "Xic3FU4HiprI"
      },
      "execution_count": null,
      "outputs": []
    },
    {
      "cell_type": "code",
      "source": [
        "# Basic Syntax\n",
        "class ClassName:\n",
        "  pass"
      ],
      "metadata": {
        "id": "pSXSjtQFCizY"
      },
      "execution_count": null,
      "outputs": []
    },
    {
      "cell_type": "markdown",
      "source": [
        "# Object\n",
        "<p>An object is a specific instance of a class.</p>"
      ],
      "metadata": {
        "id": "H95B5cHUi1qe"
      }
    },
    {
      "cell_type": "code",
      "source": [
        "class Student:\n",
        "  pass\n",
        "# Creating an object\n",
        "s1 = Student()\n",
        "print(type(s1)) # <class '__main__.Student'>"
      ],
      "metadata": {
        "colab": {
          "base_uri": "https://localhost:8080/"
        },
        "id": "UymYlUcni6l4",
        "outputId": "64bc390c-40b2-4b1a-c2a8-486634f162e7"
      },
      "execution_count": null,
      "outputs": [
        {
          "output_type": "stream",
          "name": "stdout",
          "text": [
            "<class '__main__.Student'>\n"
          ]
        }
      ]
    },
    {
      "cell_type": "code",
      "source": [
        "class Student:\n",
        "  pass\n",
        "s1 = Student()"
      ],
      "metadata": {
        "id": "2E_NkVSAJqvS"
      },
      "execution_count": null,
      "outputs": []
    },
    {
      "cell_type": "code",
      "source": [
        "i = 1\n",
        "print(type(i)) # i is an object of integer class"
      ],
      "metadata": {
        "id": "06-Y4KIXJ6MB",
        "colab": {
          "base_uri": "https://localhost:8080/"
        },
        "outputId": "e43f8242-31a4-4371-afe4-ba9aa37a01a9"
      },
      "execution_count": null,
      "outputs": [
        {
          "output_type": "stream",
          "name": "stdout",
          "text": [
            "<class 'int'>\n"
          ]
        }
      ]
    },
    {
      "cell_type": "code",
      "source": [
        "print(type(s1))"
      ],
      "metadata": {
        "id": "JHUcJ6HWKUEZ",
        "colab": {
          "base_uri": "https://localhost:8080/"
        },
        "outputId": "2f154759-0248-4471-a1de-ab088b308706"
      },
      "execution_count": null,
      "outputs": [
        {
          "output_type": "stream",
          "name": "stdout",
          "text": [
            "<class '__main__.Student'>\n"
          ]
        }
      ]
    },
    {
      "cell_type": "markdown",
      "source": [
        "<p><ol><li><class '...'> → This tells you what class the object belongs to.</li>\n",
        "<li>__main__ → This is the name of the current Python script\n",
        "you're running. So Student is defined in the main script.</li>\n",
        "<li>Student → The class name of the object.</li></ol></p>"
      ],
      "metadata": {
        "id": "W1kzyB8HjGSo"
      }
    },
    {
      "cell_type": "code",
      "source": [
        "dir()"
      ],
      "metadata": {
        "colab": {
          "base_uri": "https://localhost:8080/"
        },
        "id": "OFlKoBSEjcOJ",
        "outputId": "e4cbddfd-6535-479d-961a-41e6a9d243be"
      },
      "execution_count": null,
      "outputs": [
        {
          "output_type": "execute_result",
          "data": {
            "text/plain": [
              "['In',\n",
              " 'Out',\n",
              " '_',\n",
              " '__',\n",
              " '___',\n",
              " '__builtin__',\n",
              " '__builtins__',\n",
              " '__doc__',\n",
              " '__loader__',\n",
              " '__name__',\n",
              " '__package__',\n",
              " '__spec__',\n",
              " '_dh',\n",
              " '_i',\n",
              " '_i1',\n",
              " '_ih',\n",
              " '_ii',\n",
              " '_iii',\n",
              " '_oh',\n",
              " 'exit',\n",
              " 'get_ipython',\n",
              " 'quit']"
            ]
          },
          "metadata": {},
          "execution_count": 1
        }
      ]
    },
    {
      "cell_type": "code",
      "source": [
        "# file: example.py\n",
        "print(__name__)"
      ],
      "metadata": {
        "colab": {
          "base_uri": "https://localhost:8080/"
        },
        "id": "5q__AyxLjoiA",
        "outputId": "e9277c51-7c97-4a4b-f0db-235780015b79"
      },
      "execution_count": null,
      "outputs": [
        {
          "output_type": "stream",
          "name": "stdout",
          "text": [
            "__main__\n"
          ]
        }
      ]
    },
    {
      "cell_type": "code",
      "source": [
        "def greet():\n",
        "  \"\"\"This function says hello.\"\"\"\n",
        "  print(\"Hello!\")\n",
        "print(greet.__doc__)"
      ],
      "metadata": {
        "colab": {
          "base_uri": "https://localhost:8080/"
        },
        "id": "Lacppawbjp14",
        "outputId": "d1641183-e6ab-4014-e56a-7446a7fcd9fb"
      },
      "execution_count": null,
      "outputs": [
        {
          "output_type": "stream",
          "name": "stdout",
          "text": [
            "This function says hello.\n"
          ]
        }
      ]
    },
    {
      "cell_type": "code",
      "source": [
        "x = 42\n",
        "print(x.__class__)"
      ],
      "metadata": {
        "colab": {
          "base_uri": "https://localhost:8080/"
        },
        "id": "FHmwUTVAj_KA",
        "outputId": "634c4723-714b-48e3-93af-0d8c7efe668b"
      },
      "execution_count": null,
      "outputs": [
        {
          "output_type": "stream",
          "name": "stdout",
          "text": [
            "<class 'int'>\n"
          ]
        }
      ]
    },
    {
      "cell_type": "code",
      "source": [
        "print(dir(\"Hello\"))"
      ],
      "metadata": {
        "colab": {
          "base_uri": "https://localhost:8080/"
        },
        "id": "8xUhkcRZkGI4",
        "outputId": "4d2db013-7bd2-4be7-ce87-92fe1169b574"
      },
      "execution_count": null,
      "outputs": [
        {
          "output_type": "stream",
          "name": "stdout",
          "text": [
            "['__add__', '__class__', '__contains__', '__delattr__', '__dir__', '__doc__', '__eq__', '__format__', '__ge__', '__getattribute__', '__getitem__', '__getnewargs__', '__getstate__', '__gt__', '__hash__', '__init__', '__init_subclass__', '__iter__', '__le__', '__len__', '__lt__', '__mod__', '__mul__', '__ne__', '__new__', '__reduce__', '__reduce_ex__', '__repr__', '__rmod__', '__rmul__', '__setattr__', '__sizeof__', '__str__', '__subclasshook__', 'capitalize', 'casefold', 'center', 'count', 'encode', 'endswith', 'expandtabs', 'find', 'format', 'format_map', 'index', 'isalnum', 'isalpha', 'isascii', 'isdecimal', 'isdigit', 'isidentifier', 'islower', 'isnumeric', 'isprintable', 'isspace', 'istitle', 'isupper', 'join', 'ljust', 'lower', 'lstrip', 'maketrans', 'partition', 'removeprefix', 'removesuffix', 'replace', 'rfind', 'rindex', 'rjust', 'rpartition', 'rsplit', 'rstrip', 'split', 'splitlines', 'startswith', 'strip', 'swapcase', 'title', 'translate', 'upper', 'zfill']\n"
          ]
        }
      ]
    },
    {
      "cell_type": "code",
      "source": [
        "help(list.append)"
      ],
      "metadata": {
        "colab": {
          "base_uri": "https://localhost:8080/"
        },
        "id": "ekEvBJXykQ2O",
        "outputId": "86390825-4a3e-408a-a8a9-89272d0325c2"
      },
      "execution_count": null,
      "outputs": [
        {
          "output_type": "stream",
          "name": "stdout",
          "text": [
            "Help on method_descriptor:\n",
            "\n",
            "append(self, object, /) unbound builtins.list method\n",
            "    Append object to the end of the list.\n",
            "\n"
          ]
        }
      ]
    },
    {
      "cell_type": "code",
      "source": [
        "dir()"
      ],
      "metadata": {
        "colab": {
          "base_uri": "https://localhost:8080/"
        },
        "id": "CFXgJbe1KhmB",
        "outputId": "ad94f17e-4aa7-437a-8845-a91b0000724f"
      },
      "execution_count": null,
      "outputs": [
        {
          "output_type": "execute_result",
          "data": {
            "text/plain": [
              "['In',\n",
              " 'Out',\n",
              " '_',\n",
              " '__',\n",
              " '___',\n",
              " '__builtin__',\n",
              " '__builtins__',\n",
              " '__doc__',\n",
              " '__loader__',\n",
              " '__name__',\n",
              " '__package__',\n",
              " '__spec__',\n",
              " '_dh',\n",
              " '_i',\n",
              " '_i1',\n",
              " '_ih',\n",
              " '_ii',\n",
              " '_iii',\n",
              " '_oh',\n",
              " 'exit',\n",
              " 'get_ipython',\n",
              " 'quit']"
            ]
          },
          "metadata": {},
          "execution_count": 1
        }
      ]
    },
    {
      "cell_type": "markdown",
      "source": [
        "# Class & Object"
      ],
      "metadata": {
        "id": "_wG4DrRKl96f"
      }
    },
    {
      "cell_type": "code",
      "source": [
        "## Class and Object\n",
        "# Class definition\n",
        "class Car:\n",
        "  def __init__(self, brand, color): #self refers to the current object.\n",
        "    self.brand = brand\n",
        "    self.color = color\n",
        "# Creating an object\n",
        "my_car = Car(\"Toyota\", \"Red\")\n",
        "# Accessing attributes\n",
        "print(my_car.brand) # Output: Toyota\n",
        "print(my_car.color) # Output: Red"
      ],
      "metadata": {
        "colab": {
          "base_uri": "https://localhost:8080/"
        },
        "id": "ca4j1c-UmD8Y",
        "outputId": "e3d9a445-8abb-441f-b45e-32b0c97a0091"
      },
      "execution_count": null,
      "outputs": [
        {
          "output_type": "stream",
          "name": "stdout",
          "text": [
            "Toyota\n",
            "Red\n"
          ]
        }
      ]
    },
    {
      "cell_type": "markdown",
      "source": [
        "# Methods\n",
        "<p>Methods define behaviors/actions the object can perform. Always use self as the first parameter.</p>"
      ],
      "metadata": {
        "id": "IsDe2nK2kYb4"
      }
    },
    {
      "cell_type": "code",
      "source": [
        "# Methods (Functions Inside Class)\n",
        "class MyClass:\n",
        "  def __init__(self):\n",
        "    self.name = \"Taimur\"\n",
        "  def greet(self):\n",
        "    return \"Hello\"\n",
        "print(dir(MyClass))"
      ],
      "metadata": {
        "colab": {
          "base_uri": "https://localhost:8080/"
        },
        "id": "rlBjcHRKkn0Q",
        "outputId": "38487ed0-8c51-401c-e75b-bcbc63851e0c"
      },
      "execution_count": null,
      "outputs": [
        {
          "output_type": "stream",
          "name": "stdout",
          "text": [
            "['__class__', '__delattr__', '__dict__', '__dir__', '__doc__', '__eq__', '__format__', '__ge__', '__getattribute__', '__getstate__', '__gt__', '__hash__', '__init__', '__init_subclass__', '__le__', '__lt__', '__module__', '__ne__', '__new__', '__reduce__', '__reduce_ex__', '__repr__', '__setattr__', '__sizeof__', '__str__', '__subclasshook__', '__weakref__', 'greet']\n"
          ]
        }
      ]
    },
    {
      "cell_type": "code",
      "source": [
        "## Introducing Methods\n",
        "class Car:\n",
        "  def __init__(self, brand, color):\n",
        "    self.brand = brand\n",
        "    self.color = color\n",
        "  def start_engine(self):\n",
        "    print(f\"{self.brand} engine started!\")\n",
        "my_car = Car(\"Honda\", \"Blue\")\n",
        "my_car.start_engine() # Output: Honda engine started!"
      ],
      "metadata": {
        "colab": {
          "base_uri": "https://localhost:8080/"
        },
        "id": "P_dwSCoAk0LA",
        "outputId": "2ed40bb2-09ff-46ce-bc76-5983cebe16b3"
      },
      "execution_count": null,
      "outputs": [
        {
          "output_type": "stream",
          "name": "stdout",
          "text": [
            "Honda engine started!\n"
          ]
        }
      ]
    },
    {
      "cell_type": "code",
      "source": [
        "class MyClass:\n",
        "  def __init__(self):\n",
        "    self.name = \"Taimur\"\n",
        "  def greet(self):\n",
        "    return \"Hello\"\n",
        "print(dir(MyClass))"
      ],
      "metadata": {
        "id": "ntbSRFjKKt8Q",
        "colab": {
          "base_uri": "https://localhost:8080/"
        },
        "outputId": "9744d579-bf4c-47b5-d706-9f2a1fa23bae"
      },
      "execution_count": null,
      "outputs": [
        {
          "output_type": "stream",
          "name": "stdout",
          "text": [
            "['__class__', '__delattr__', '__dict__', '__dir__', '__doc__', '__eq__', '__format__', '__ge__', '__getattribute__', '__getstate__', '__gt__', '__hash__', '__init__', '__init_subclass__', '__le__', '__lt__', '__module__', '__ne__', '__new__', '__reduce__', '__reduce_ex__', '__repr__', '__setattr__', '__sizeof__', '__str__', '__subclasshook__', '__weakref__', 'greet']\n"
          ]
        }
      ]
    },
    {
      "cell_type": "code",
      "source": [
        "a = MyClass()"
      ],
      "metadata": {
        "id": "Vvg0FB_uPzHh"
      },
      "execution_count": null,
      "outputs": []
    },
    {
      "cell_type": "code",
      "source": [
        "a.name"
      ],
      "metadata": {
        "colab": {
          "base_uri": "https://localhost:8080/",
          "height": 36
        },
        "id": "Ufb0GFqYP7p4",
        "outputId": "6979b306-f2ed-4c68-ec8d-9ecb927a83c9"
      },
      "execution_count": null,
      "outputs": [
        {
          "output_type": "execute_result",
          "data": {
            "text/plain": [
              "'Taimur'"
            ],
            "application/vnd.google.colaboratory.intrinsic+json": {
              "type": "string"
            }
          },
          "metadata": {},
          "execution_count": 13
        }
      ]
    },
    {
      "cell_type": "code",
      "source": [
        "a.greet()"
      ],
      "metadata": {
        "colab": {
          "base_uri": "https://localhost:8080/",
          "height": 36
        },
        "id": "yJn6NCKjP-ee",
        "outputId": "77946f1a-c4c5-463c-ee09-31318743ee7b"
      },
      "execution_count": null,
      "outputs": [
        {
          "output_type": "execute_result",
          "data": {
            "text/plain": [
              "'Hello'"
            ],
            "application/vnd.google.colaboratory.intrinsic+json": {
              "type": "string"
            }
          },
          "metadata": {},
          "execution_count": 14
        }
      ]
    },
    {
      "cell_type": "markdown",
      "source": [
        "# Parameterized Constructor"
      ],
      "metadata": {
        "id": "5jN0Vc4ok-gY"
      }
    },
    {
      "cell_type": "code",
      "source": [
        "## Parameterized Constructor\n",
        "class Laptop:\n",
        "  def __init__(self, brand, price):\n",
        "    self.brand = brand\n",
        "    self.price = price\n",
        "  def show_specs(self):\n",
        "    print(f\"Brand: {self.brand}, Price: ${self.price}\")\n",
        "laptop1 = Laptop(\"Dell\", 800)\n",
        "laptop1.show_specs()"
      ],
      "metadata": {
        "colab": {
          "base_uri": "https://localhost:8080/"
        },
        "id": "raJYWMX5lCeQ",
        "outputId": "daa315d1-9cd3-419e-93ff-8c261fff9a58"
      },
      "execution_count": null,
      "outputs": [
        {
          "output_type": "stream",
          "name": "stdout",
          "text": [
            "Brand: Dell, Price: $800\n"
          ]
        }
      ]
    },
    {
      "cell_type": "code",
      "source": [
        "class Book:\n",
        "  def __init__(self, title, author):\n",
        "    self.title = title\n",
        "    self.author = author\n",
        "  def show_info(self):\n",
        "    print(f\"Title: {self.title}, Author: {self.author}\")\n",
        "book1 = Book(\"1984\", \"George Orwell\")\n",
        "book1.show_info()"
      ],
      "metadata": {
        "colab": {
          "base_uri": "https://localhost:8080/"
        },
        "id": "8AgyQEJxmOEx",
        "outputId": "e541030d-d6ec-44ff-8d15-eeea9ccd25cf"
      },
      "execution_count": null,
      "outputs": [
        {
          "output_type": "stream",
          "name": "stdout",
          "text": [
            "Title: 1984, Author: George Orwell\n"
          ]
        }
      ]
    },
    {
      "cell_type": "code",
      "source": [
        "class Car:\n",
        "  def __init__(self, brand, color): # parameterized constructor\n",
        "    self.brand = brand\n",
        "    self.color = color\n",
        "  def start_engine(self):\n",
        "    print(f\"{self.color} {self.brand} engine started.\")"
      ],
      "metadata": {
        "id": "gaqgZ0qqQDDf"
      },
      "execution_count": null,
      "outputs": []
    },
    {
      "cell_type": "code",
      "source": [
        "my_car = Car(\"Toyota\", \"Red\")"
      ],
      "metadata": {
        "id": "PVvFH6KRRro4"
      },
      "execution_count": null,
      "outputs": []
    },
    {
      "cell_type": "code",
      "source": [
        "my_car.start_engine()"
      ],
      "metadata": {
        "colab": {
          "base_uri": "https://localhost:8080/"
        },
        "id": "BEI36RijSYUX",
        "outputId": "a98ea5bc-8e77-4888-ea58-68fc693068c6"
      },
      "execution_count": null,
      "outputs": [
        {
          "output_type": "stream",
          "name": "stdout",
          "text": [
            "Red Toyota engine started.\n"
          ]
        }
      ]
    },
    {
      "cell_type": "markdown",
      "source": [
        "# Default Constructor"
      ],
      "metadata": {
        "id": "hQAyuPHSleHf"
      }
    },
    {
      "cell_type": "code",
      "source": [
        "## Default Constructor (No Parameters)\n",
        "class Bike:\n",
        "  def __init__(self):\n",
        "    self.brand = \"Yamaha\"\n",
        "    self.color = \"Black\"\n",
        "  def show_info(self):\n",
        "    print(f\"Brand: {self.brand}, Color: {self.color}\")\n",
        "bike1 = Bike()\n",
        "bike1.show_info()\n",
        "# A default constructor doesn’t take any arguments (except self).\n",
        "# Fixed values are assigned when the object is created."
      ],
      "metadata": {
        "colab": {
          "base_uri": "https://localhost:8080/"
        },
        "id": "6I9h1HMaljHJ",
        "outputId": "d842ad0a-ccef-43a8-e844-892c36965025"
      },
      "execution_count": null,
      "outputs": [
        {
          "output_type": "stream",
          "name": "stdout",
          "text": [
            "Brand: Yamaha, Color: Black\n"
          ]
        }
      ]
    },
    {
      "cell_type": "code",
      "source": [
        "class Car:\n",
        "  def __init__(self): # default constructor\n",
        "    self.brand = \"Honda\"\n",
        "    self.color = \"Blue\"\n",
        "  def start_engine(self):\n",
        "    print(f\"{self.brand} engine started.\")\n",
        "    print(f\"My Honda's colour is {self.color}.\")"
      ],
      "metadata": {
        "id": "Xx-XtdlTSb-f"
      },
      "execution_count": null,
      "outputs": []
    },
    {
      "cell_type": "code",
      "source": [
        "my_car = Car()"
      ],
      "metadata": {
        "id": "wKRx27-HTPqf"
      },
      "execution_count": null,
      "outputs": []
    },
    {
      "cell_type": "code",
      "source": [
        "my_car.start_engine()"
      ],
      "metadata": {
        "colab": {
          "base_uri": "https://localhost:8080/"
        },
        "id": "7tpIyOpGTTFP",
        "outputId": "5097c3b7-b6b1-419b-8f45-31f0a1b819f7"
      },
      "execution_count": null,
      "outputs": [
        {
          "output_type": "stream",
          "name": "stdout",
          "text": [
            "Honda engine started.\n",
            "My Honda's colour is Blue.\n"
          ]
        }
      ]
    },
    {
      "cell_type": "code",
      "source": [
        "my_car.brand"
      ],
      "metadata": {
        "colab": {
          "base_uri": "https://localhost:8080/",
          "height": 36
        },
        "id": "mbUZOZXZTVTw",
        "outputId": "54a44962-6ba9-4a1d-9e06-5de8a32de702"
      },
      "execution_count": null,
      "outputs": [
        {
          "output_type": "execute_result",
          "data": {
            "text/plain": [
              "'Honda'"
            ],
            "application/vnd.google.colaboratory.intrinsic+json": {
              "type": "string"
            }
          },
          "metadata": {},
          "execution_count": 38
        }
      ]
    },
    {
      "cell_type": "markdown",
      "source": [
        "# Pass Statement"
      ],
      "metadata": {
        "id": "MFIunjgOmfbJ"
      }
    },
    {
      "cell_type": "code",
      "source": [
        "## Pass Statement\n",
        "class Phone:\n",
        "  pass # Placeholder for now\n",
        "# pass is used when we don’t want to write any code inside a block.\n",
        "# Avoids error from an empty class, method, or loop."
      ],
      "metadata": {
        "id": "HwbzBmD5mkDH"
      },
      "execution_count": null,
      "outputs": []
    },
    {
      "cell_type": "code",
      "source": [
        "class Phone:\n",
        "  pass # Create a placeholder # And also update for future"
      ],
      "metadata": {
        "id": "H9QeIQTRUUUn"
      },
      "execution_count": null,
      "outputs": []
    },
    {
      "cell_type": "markdown",
      "source": [
        "# Classwork\n",
        "Create a class named Animal.<br>\n",
        "Inside this class pass three parameter named eye, colour, weight and a method sound by using both paraemterized constructor and default constructor."
      ],
      "metadata": {
        "id": "2IYNTgftV6zv"
      }
    },
    {
      "cell_type": "code",
      "source": [
        "class Animal:\n",
        "  def __init__(self, eye, colour, weight):\n",
        "    self.eye = eye\n",
        "    self.colour = colour\n",
        "    self.weight = weight\n",
        "  def sound(self):\n",
        "    print(f\"The {self.eye} eyed {self.colour} coloured Jaguar with weight {self.weight} kg is making a sound.\")"
      ],
      "metadata": {
        "id": "B1VWYLPxWkPG"
      },
      "execution_count": null,
      "outputs": []
    },
    {
      "cell_type": "code",
      "source": [
        "my_animal = Animal(\"Blue\", \"Black\", \"70\")"
      ],
      "metadata": {
        "id": "lzB5PrihXtjo"
      },
      "execution_count": null,
      "outputs": []
    },
    {
      "cell_type": "code",
      "source": [
        "my_animal.sound()"
      ],
      "metadata": {
        "colab": {
          "base_uri": "https://localhost:8080/"
        },
        "id": "iBQPSEu4X6V_",
        "outputId": "3b351ac6-bd7c-4406-c23d-e0fbe7cab882"
      },
      "execution_count": null,
      "outputs": [
        {
          "output_type": "stream",
          "name": "stdout",
          "text": [
            "The Blue eyed Black coloured Jaguar with weight 70 kg is making a sound.\n"
          ]
        }
      ]
    },
    {
      "cell_type": "code",
      "source": [
        "class Animal:\n",
        "  def __init__(self):\n",
        "    self.eye = \"Blue\"\n",
        "    self.colour = \"Black\"\n",
        "    self.weight = \"70\"\n",
        "  def sound(self):\n",
        "    print(f\"The {self.eye} eyed {self.colour} coloured Jaguar with weight {self.weight} kg is making a sound.\")"
      ],
      "metadata": {
        "id": "L-0-HA9kX-eX"
      },
      "execution_count": null,
      "outputs": []
    },
    {
      "cell_type": "code",
      "source": [
        "my_animal = Animal()"
      ],
      "metadata": {
        "id": "pFsRGg2aYqKf"
      },
      "execution_count": null,
      "outputs": []
    },
    {
      "cell_type": "code",
      "source": [
        "my_animal.sound()"
      ],
      "metadata": {
        "colab": {
          "base_uri": "https://localhost:8080/"
        },
        "id": "pm7h4zgkYuNH",
        "outputId": "25212b28-ba18-418e-d3ec-d40571949d19"
      },
      "execution_count": null,
      "outputs": [
        {
          "output_type": "stream",
          "name": "stdout",
          "text": [
            "The Blue eyed Black coloured Jaguar with weight 70 kg is making a sound.\n"
          ]
        }
      ]
    },
    {
      "cell_type": "markdown",
      "source": [
        "# Inheritance"
      ],
      "metadata": {
        "id": "dP0PomlKmv-m"
      }
    },
    {
      "cell_type": "code",
      "source": [
        "class Animal:\n",
        "  def __init__(self):\n",
        "    print(\"Animal is created\")\n",
        "  def sound(self):\n",
        "    print(\"Animal makes a sound\")\n",
        "  def move(self):\n",
        "    print(\"Animal moves\")\n",
        "# Child class just inherits everything from Animal\n",
        "class Dog(Animal):\n",
        "  pass\n",
        "# Create object of Dog\n",
        "d = Dog()\n",
        "d.sound()\n",
        "d.move()"
      ],
      "metadata": {
        "colab": {
          "base_uri": "https://localhost:8080/"
        },
        "id": "fQffmiZJm0mn",
        "outputId": "46904346-9933-4819-d181-a74562cbb2de"
      },
      "execution_count": null,
      "outputs": [
        {
          "output_type": "stream",
          "name": "stdout",
          "text": [
            "Animal is created\n",
            "Animal makes a sound\n",
            "Animal moves\n"
          ]
        }
      ]
    },
    {
      "cell_type": "code",
      "source": [
        "## Intro to Inheritance\n",
        "# Base class\n",
        "class Animal:\n",
        "  def __init__(self, name):\n",
        "    self.name = name\n",
        "  def speak(self):\n",
        "    print(f\"{self.name} makes a sound.\")\n",
        "# Derived class\n",
        "class Dog(Animal):\n",
        "  def speak(self):\n",
        "    print(f\"{self.name} barks.\")\n",
        "dog1 = Dog(\"Buddy\")\n",
        "dog1.speak() # Output: Buddy barks.\n",
        "# Dog inherits from Animal.\n",
        "# It overrides the speak method.\n",
        "# Promotes code reuse and extension."
      ],
      "metadata": {
        "colab": {
          "base_uri": "https://localhost:8080/"
        },
        "id": "jbj-X3VLnM5f",
        "outputId": "eea52b92-47ec-425c-c3b0-9f045bfe4d6f"
      },
      "execution_count": null,
      "outputs": [
        {
          "output_type": "stream",
          "name": "stdout",
          "text": [
            "Buddy barks.\n"
          ]
        }
      ]
    },
    {
      "cell_type": "code",
      "source": [
        "class A:\n",
        "  def __init__(self):\n",
        "    self.name = \"Taimur\"\n",
        "class B(A):\n",
        "  def __init__(self):\n",
        "    super().__init__() # Needed to inherit variables\n",
        "b = B()\n",
        "print(b.name) # ✅ name is accessible after calling super().__init__()"
      ],
      "metadata": {
        "colab": {
          "base_uri": "https://localhost:8080/"
        },
        "id": "yYu-AElznWsH",
        "outputId": "47b47c31-86a0-4e06-9029-d388a924ef9b"
      },
      "execution_count": null,
      "outputs": [
        {
          "output_type": "stream",
          "name": "stdout",
          "text": [
            "Taimur\n"
          ]
        }
      ]
    },
    {
      "cell_type": "code",
      "source": [
        "# super() lets us call the parent class constructor or method.\n",
        "class Person:\n",
        "  def __init__(self, name):\n",
        "    self.name = name\n",
        "  def show(self):\n",
        "    print(f\"Name: {self.name}\")\n",
        "class Employee(Person):\n",
        "  def __init__(self, name, salary):\n",
        "    super().__init__(name) # call base constructor\n",
        "    self.salary = salary\n",
        "  def show(self):\n",
        "    super().show()\n",
        "    print(f\"Salary: {self.salary}\")\n",
        "e1 = Employee(\"Alice\", 50000)\n",
        "e1.show()"
      ],
      "metadata": {
        "colab": {
          "base_uri": "https://localhost:8080/"
        },
        "id": "A-WpF-v6nqDX",
        "outputId": "3d5afd50-ddb4-4ecc-cf99-dd1d6827a669"
      },
      "execution_count": null,
      "outputs": [
        {
          "output_type": "stream",
          "name": "stdout",
          "text": [
            "Name: Alice\n",
            "Salary: 50000\n"
          ]
        }
      ]
    },
    {
      "cell_type": "code",
      "source": [
        "class Employee:\n",
        "  def __init__(self, name, id):\n",
        "    self.name = name\n",
        "    self.id = id\n",
        "  def details(self):\n",
        "    print(f\"Name: {self.name}, ID: {self.id}\")\n",
        "class Manager(Employee):\n",
        "  def __init__(self, name, id, department):\n",
        "    super().__init__(name, id)\n",
        "    self.department = department\n",
        "  def details(self):\n",
        "    super().details()\n",
        "    #print({self.name})\n",
        "    print(f\"Department: {self.department}\")\n",
        "m = Manager(\"Taimur\", 101, \"Data Science\")\n",
        "m.details()"
      ],
      "metadata": {
        "id": "ePJh3XV3oIGn",
        "colab": {
          "base_uri": "https://localhost:8080/"
        },
        "outputId": "838f82af-f157-4dc0-e0b5-a0d263dc5194"
      },
      "execution_count": null,
      "outputs": [
        {
          "output_type": "stream",
          "name": "stdout",
          "text": [
            "Name: Taimur, ID: 101\n",
            "Department: Data Science\n"
          ]
        }
      ]
    },
    {
      "cell_type": "markdown",
      "source": [
        "<p>if the child class (like Employee) defines its own init, then it must explicitly call the parent constructor using super().init(...) to inherit and initialize attributes like self.name.</p>"
      ],
      "metadata": {
        "id": "XVPzAv5vq5lH"
      }
    },
    {
      "cell_type": "code",
      "source": [
        "# Inheritance\n",
        "class Animal:\n",
        "  def __init__(self):\n",
        "    print(\"Animal is created.\")\n",
        "  def sound(self):\n",
        "    print(\"Animal makes sound.\")\n",
        "  def move(self):\n",
        "    print(\"Animal moves.\")\n",
        "class Dog(Animal):  # inherit Dog class from Animal class\n",
        "  pass"
      ],
      "metadata": {
        "id": "Qqi8uvRJYwkH"
      },
      "execution_count": null,
      "outputs": []
    },
    {
      "cell_type": "code",
      "source": [
        "d = Dog()"
      ],
      "metadata": {
        "colab": {
          "base_uri": "https://localhost:8080/"
        },
        "id": "A5PWoWjEdDuv",
        "outputId": "ddf213ab-2e7d-4ff8-e3f2-b6a0bda54532"
      },
      "execution_count": null,
      "outputs": [
        {
          "output_type": "stream",
          "name": "stdout",
          "text": [
            "Animal is created.\n"
          ]
        }
      ]
    },
    {
      "cell_type": "code",
      "source": [
        "d.move()"
      ],
      "metadata": {
        "colab": {
          "base_uri": "https://localhost:8080/"
        },
        "id": "9W7Oe1ardGLu",
        "outputId": "07c01e64-f173-4e81-9c5c-898fb00316a5"
      },
      "execution_count": null,
      "outputs": [
        {
          "output_type": "stream",
          "name": "stdout",
          "text": [
            "Animal moves.\n"
          ]
        }
      ]
    },
    {
      "cell_type": "code",
      "source": [
        "d.sound()"
      ],
      "metadata": {
        "colab": {
          "base_uri": "https://localhost:8080/"
        },
        "id": "SApTdMb9dePf",
        "outputId": "4d8e1e59-abf5-418a-eb1e-2d84f8cea2cd"
      },
      "execution_count": null,
      "outputs": [
        {
          "output_type": "stream",
          "name": "stdout",
          "text": [
            "Animal makes sound.\n"
          ]
        }
      ]
    },
    {
      "cell_type": "code",
      "source": [
        "# Inheritance\n",
        "class Person:\n",
        "  def __init__(self, name):\n",
        "    self.name = name\n",
        "  def show(self):\n",
        "    print(f\"Name: {self.name}\")\n",
        "class Employee(Person):\n",
        "  def __init__(self, name, salary):\n",
        "    super().__init__(name) # call base constructor\n",
        "    self.salary = salary\n",
        "  def show(self):\n",
        "    super().show()\n",
        "    print(f\"Salary: {self.salary}\")"
      ],
      "metadata": {
        "id": "nzyGJrKPd6LQ"
      },
      "execution_count": null,
      "outputs": []
    },
    {
      "cell_type": "code",
      "source": [
        "e1 = Employee(\"Alice\", 50000)"
      ],
      "metadata": {
        "id": "lBzDBq0GeMdX"
      },
      "execution_count": null,
      "outputs": []
    },
    {
      "cell_type": "code",
      "source": [
        "e1.show()"
      ],
      "metadata": {
        "colab": {
          "base_uri": "https://localhost:8080/"
        },
        "id": "D0HUhHbYej5m",
        "outputId": "f20f49dc-34e3-479d-8d09-38f4e4dd0907"
      },
      "execution_count": null,
      "outputs": [
        {
          "output_type": "stream",
          "name": "stdout",
          "text": [
            "Name: Alice\n",
            "Salary: 50000\n"
          ]
        }
      ]
    },
    {
      "cell_type": "code",
      "source": [
        "## Assignments\n",
        "class Animal:\n",
        "  def __init__(self):\n",
        "    print(\"Animal created\")\n",
        "class Dog(Animal):\n",
        "  def bark(self):\n",
        "    print(\"Dog barks\")\n",
        "d = Dog()\n",
        "d.bark()"
      ],
      "metadata": {
        "id": "7j652PRQelrA",
        "colab": {
          "base_uri": "https://localhost:8080/"
        },
        "outputId": "7aaed969-c4fe-4103-faf8-8c88dd817fd2"
      },
      "execution_count": null,
      "outputs": [
        {
          "output_type": "stream",
          "name": "stdout",
          "text": [
            "Animal created\n",
            "Dog barks\n"
          ]
        }
      ]
    },
    {
      "cell_type": "code",
      "source": [
        "class Animal:\n",
        "  def __init__(self, name):\n",
        "    self.name = name\n",
        "class Dog(Animal):\n",
        "  def show(self):\n",
        "    print(f\"This is {self.name}\")\n",
        "d = Dog(\"Tommy\")\n",
        "d.show()"
      ],
      "metadata": {
        "colab": {
          "base_uri": "https://localhost:8080/"
        },
        "id": "doRT9GcOrH34",
        "outputId": "4ef8067d-b79a-4671-af6d-4610763e069c"
      },
      "execution_count": null,
      "outputs": [
        {
          "output_type": "stream",
          "name": "stdout",
          "text": [
            "This is Tommy\n"
          ]
        }
      ]
    }
  ]
}